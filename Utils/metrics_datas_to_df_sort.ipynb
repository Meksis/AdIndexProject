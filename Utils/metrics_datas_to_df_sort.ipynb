{
 "cells": [
  {
   "cell_type": "code",
   "execution_count": 1,
   "metadata": {},
   "outputs": [],
   "source": [
    "import requests\n",
    "import pandas as pd\n",
    "from statistics import median\n",
    "from parser import *"
   ]
  },
  {
   "cell_type": "code",
   "execution_count": 2,
   "metadata": {},
   "outputs": [],
   "source": [
    "df = pd.read_csv(\"AdIndex main news 2023-12-14 - 7 days.csv\")"
   ]
  },
  {
   "cell_type": "code",
   "execution_count": 3,
   "metadata": {},
   "outputs": [
    {
     "data": {
      "text/html": [
       "<div>\n",
       "<style scoped>\n",
       "    .dataframe tbody tr th:only-of-type {\n",
       "        vertical-align: middle;\n",
       "    }\n",
       "\n",
       "    .dataframe tbody tr th {\n",
       "        vertical-align: top;\n",
       "    }\n",
       "\n",
       "    .dataframe thead th {\n",
       "        text-align: right;\n",
       "    }\n",
       "</style>\n",
       "<table border=\"1\" class=\"dataframe\">\n",
       "  <thead>\n",
       "    <tr style=\"text-align: right;\">\n",
       "      <th></th>\n",
       "      <th>Unnamed: 0</th>\n",
       "      <th>date</th>\n",
       "      <th>author</th>\n",
       "      <th>visitors</th>\n",
       "      <th>post_tag</th>\n",
       "      <th>post_id</th>\n",
       "      <th>link</th>\n",
       "      <th>views</th>\n",
       "    </tr>\n",
       "  </thead>\n",
       "  <tbody>\n",
       "    <tr>\n",
       "      <th>0</th>\n",
       "      <td>0</td>\n",
       "      <td>2023-12-13</td>\n",
       "      <td>Данилова Светлана Викторовна</td>\n",
       "      <td>1940</td>\n",
       "      <td>Тенденции</td>\n",
       "      <td>318261</td>\n",
       "      <td>https://adindex.ru/news/tendencies/2023/12/13/...</td>\n",
       "      <td>2748</td>\n",
       "    </tr>\n",
       "    <tr>\n",
       "      <th>1</th>\n",
       "      <td>1</td>\n",
       "      <td>2023-12-13</td>\n",
       "      <td>Данилова Светлана Викторовна</td>\n",
       "      <td>12414</td>\n",
       "      <td>Креатив</td>\n",
       "      <td>318259</td>\n",
       "      <td>https://adindex.ru/news/creative/2023/12/13/31...</td>\n",
       "      <td>15366</td>\n",
       "    </tr>\n",
       "    <tr>\n",
       "      <th>2</th>\n",
       "      <td>2</td>\n",
       "      <td>2023-12-13</td>\n",
       "      <td>Данилова Светлана Викторовна</td>\n",
       "      <td>604</td>\n",
       "      <td>Тенденции</td>\n",
       "      <td>318152</td>\n",
       "      <td>https://adindex.ru/news/tendencies/2023/12/13/...</td>\n",
       "      <td>891</td>\n",
       "    </tr>\n",
       "    <tr>\n",
       "      <th>3</th>\n",
       "      <td>3</td>\n",
       "      <td>2023-12-13</td>\n",
       "      <td>Григорьева Людмила Григорьевна</td>\n",
       "      <td>2696</td>\n",
       "      <td>Кадры</td>\n",
       "      <td>318149</td>\n",
       "      <td>https://adindex.ru/news/hr/2023/12/13/318149.p...</td>\n",
       "      <td>3771</td>\n",
       "    </tr>\n",
       "    <tr>\n",
       "      <th>4</th>\n",
       "      <td>4</td>\n",
       "      <td>2023-12-13</td>\n",
       "      <td>Григорьева Людмила Григорьевна</td>\n",
       "      <td>161</td>\n",
       "      <td>Кадры</td>\n",
       "      <td>318116</td>\n",
       "      <td>https://adindex.ru/news/hr/2023/12/13/318116.p...</td>\n",
       "      <td>205</td>\n",
       "    </tr>\n",
       "    <tr>\n",
       "      <th>...</th>\n",
       "      <td>...</td>\n",
       "      <td>...</td>\n",
       "      <td>...</td>\n",
       "      <td>...</td>\n",
       "      <td>...</td>\n",
       "      <td>...</td>\n",
       "      <td>...</td>\n",
       "      <td>...</td>\n",
       "    </tr>\n",
       "    <tr>\n",
       "      <th>136</th>\n",
       "      <td>136</td>\n",
       "      <td>2023-12-04</td>\n",
       "      <td>Петрова Мария Сергеевна</td>\n",
       "      <td>2366</td>\n",
       "      <td>Тенденции</td>\n",
       "      <td>317659</td>\n",
       "      <td>https://adindex.ru/news/tendencies/2023/12/4/3...</td>\n",
       "      <td>3078</td>\n",
       "    </tr>\n",
       "    <tr>\n",
       "      <th>137</th>\n",
       "      <td>137</td>\n",
       "      <td>2023-12-04</td>\n",
       "      <td>Жукова Ирина Ильинична</td>\n",
       "      <td>9288</td>\n",
       "      <td>Тенденции</td>\n",
       "      <td>317658</td>\n",
       "      <td>https://adindex.ru/news/tendencies/2023/12/4/3...</td>\n",
       "      <td>13022</td>\n",
       "    </tr>\n",
       "    <tr>\n",
       "      <th>138</th>\n",
       "      <td>138</td>\n",
       "      <td>2023-12-04</td>\n",
       "      <td>Жукова Ирина Ильинична</td>\n",
       "      <td>10936</td>\n",
       "      <td>Тенденции</td>\n",
       "      <td>317657</td>\n",
       "      <td>https://adindex.ru/news/tendencies/2023/12/4/3...</td>\n",
       "      <td>15843</td>\n",
       "    </tr>\n",
       "    <tr>\n",
       "      <th>139</th>\n",
       "      <td>139</td>\n",
       "      <td>2023-12-04</td>\n",
       "      <td>Данилова Светлана Викторовна</td>\n",
       "      <td>7658</td>\n",
       "      <td>Маркетинг</td>\n",
       "      <td>317656</td>\n",
       "      <td>https://adindex.ru/news/marketing/2023/12/4/31...</td>\n",
       "      <td>10336</td>\n",
       "    </tr>\n",
       "    <tr>\n",
       "      <th>140</th>\n",
       "      <td>140</td>\n",
       "      <td>2023-12-04</td>\n",
       "      <td>Андреева Анастасия Андреевна</td>\n",
       "      <td>9827</td>\n",
       "      <td>Маркетинг</td>\n",
       "      <td>317655</td>\n",
       "      <td>https://adindex.ru/news/marketing/2023/12/4/31...</td>\n",
       "      <td>9974</td>\n",
       "    </tr>\n",
       "  </tbody>\n",
       "</table>\n",
       "<p>141 rows × 8 columns</p>\n",
       "</div>"
      ],
      "text/plain": [
       "     Unnamed: 0        date                          author  visitors  \\\n",
       "0             0  2023-12-13    Данилова Светлана Викторовна      1940   \n",
       "1             1  2023-12-13    Данилова Светлана Викторовна     12414   \n",
       "2             2  2023-12-13    Данилова Светлана Викторовна       604   \n",
       "3             3  2023-12-13  Григорьева Людмила Григорьевна      2696   \n",
       "4             4  2023-12-13  Григорьева Людмила Григорьевна       161   \n",
       "..          ...         ...                             ...       ...   \n",
       "136         136  2023-12-04         Петрова Мария Сергеевна      2366   \n",
       "137         137  2023-12-04          Жукова Ирина Ильинична      9288   \n",
       "138         138  2023-12-04          Жукова Ирина Ильинична     10936   \n",
       "139         139  2023-12-04    Данилова Светлана Викторовна      7658   \n",
       "140         140  2023-12-04    Андреева Анастасия Андреевна      9827   \n",
       "\n",
       "      post_tag  post_id                                               link  \\\n",
       "0    Тенденции   318261  https://adindex.ru/news/tendencies/2023/12/13/...   \n",
       "1      Креатив   318259  https://adindex.ru/news/creative/2023/12/13/31...   \n",
       "2    Тенденции   318152  https://adindex.ru/news/tendencies/2023/12/13/...   \n",
       "3        Кадры   318149  https://adindex.ru/news/hr/2023/12/13/318149.p...   \n",
       "4        Кадры   318116  https://adindex.ru/news/hr/2023/12/13/318116.p...   \n",
       "..         ...      ...                                                ...   \n",
       "136  Тенденции   317659  https://adindex.ru/news/tendencies/2023/12/4/3...   \n",
       "137  Тенденции   317658  https://adindex.ru/news/tendencies/2023/12/4/3...   \n",
       "138  Тенденции   317657  https://adindex.ru/news/tendencies/2023/12/4/3...   \n",
       "139  Маркетинг   317656  https://adindex.ru/news/marketing/2023/12/4/31...   \n",
       "140  Маркетинг   317655  https://adindex.ru/news/marketing/2023/12/4/31...   \n",
       "\n",
       "     views  \n",
       "0     2748  \n",
       "1    15366  \n",
       "2      891  \n",
       "3     3771  \n",
       "4      205  \n",
       "..     ...  \n",
       "136   3078  \n",
       "137  13022  \n",
       "138  15843  \n",
       "139  10336  \n",
       "140   9974  \n",
       "\n",
       "[141 rows x 8 columns]"
      ]
     },
     "execution_count": 3,
     "metadata": {},
     "output_type": "execute_result"
    }
   ],
   "source": [
    "df"
   ]
  },
  {
   "cell_type": "code",
   "execution_count": 4,
   "metadata": {},
   "outputs": [],
   "source": [
    "df = df.loc[ : 5]"
   ]
  },
  {
   "cell_type": "code",
   "execution_count": 5,
   "metadata": {},
   "outputs": [
    {
     "name": "stdout",
     "output_type": "stream",
     "text": [
      "[{'Поисковые системы': {'Посетители': 4.0, 'Читатели': 11.0, 'Уникальные пользователи': 4.0, '% недочитываемости': 0.0, 'Глубина просмотра': 2.0, 'Ср. время на сайте (сек)': 16.5}}, {'Telegram': {}}] 14daysAgo\n",
      "[{'Поисковые системы': {'Посетители': 11.0, 'Читатели': 32.0, 'Уникальные пользователи': 11.0, '% недочитываемости': 0.0, 'Глубина просмотра': 3.0, 'Ср. время на сайте (сек)': 56.333333335}}, {'Telegram': {}}] 14daysAgo\n",
      "[{'Поисковые системы': {'Посетители': 15.0, 'Читатели': 44.0, 'Уникальные пользователи': 15.0, '% недочитываемости': 0.0, 'Глубина просмотра': 1.5, 'Ср. время на сайте (сек)': 22.0}}, {'Telegram': {'Посетители': 2.0, 'Читатели': 2.0, 'Уникальные пользователи': 2.0, '% недочитываемости': 50.0, 'Глубина просмотра': 1.0, 'Ср. время на сайте (сек)': 7.5}}] 14daysAgo\n",
      "({'query': {'ids': [22386646], 'dimensions': ['ym:s:refererDomain'], 'metrics': ['ym:s:visits', 'ym:s:pageviews', 'ym:s:users', 'ym:s:bounceRate', 'ym:s:pageDepth', 'ym:s:avgVisitDurationSeconds'], 'sort': ['-ym:s:visits'], 'date1': '2023-12-13', 'date2': '2023-12-14', 'filters': \"ym:pv:URL=='https://adindex.ru/news/hr/2023/12/13/318149.phtml'\", 'limit': 100, 'offset': 1, 'group': 'Week', 'auto_group_size': '1', 'attr_name': '', 'quantile': '50', 'offline_window': '21', 'attribution': 'LastSign', 'currency': 'RUB', 'adfox_event_id': '0'}, 'data': [], 'total_rows': 0, 'total_rows_rounded': False, 'sampled': False, 'contains_sensitive_data': False, 'sample_share': 1.0, 'sample_size': 14076, 'sample_space': 14076, 'data_lag': 0, 'totals': [0.0, 0.0, 0.0, 0.0, 0.0, 0.0], 'min': [0.0, 0.0, 0.0, 0.0, 0.0, 0.0], 'max': [0.0, 0.0, 0.0, 0.0, 0.0, 0.0]}, 'https://adindex.ru/news/hr/2023/12/13/318149.phtml') 14daysAgo\n",
      "[{'Поисковые системы': {'Посетители': 8.0, 'Читатели': 79.0, 'Уникальные пользователи': 8.0, '% недочитываемости': 0.0, 'Глубина просмотра': 1.5, 'Ср. время на сайте (сек)': 24.0}}, {'Telegram': {'Посетители': 1.0, 'Читатели': 3.0, 'Уникальные пользователи': 1.0, '% недочитываемости': 0.0, 'Глубина просмотра': 3.0, 'Ср. время на сайте (сек)': 138.0}}] 14daysAgo\n",
      "[{'Поисковые системы': {'Посетители': 5.0, 'Читатели': 8.0, 'Уникальные пользователи': 5.0, '% недочитываемости': 50.0, 'Глубина просмотра': 1.0, 'Ср. время на сайте (сек)': 11.0}}, {'Telegram': {}}] 14daysAgo\n"
     ]
    }
   ],
   "source": [
    "try:\n",
    "    for link in df.link:\n",
    "        print(get_data_from_url(link), '14daysAgo')\n",
    "\n",
    "except Exception as e:\n",
    "    print(e)"
   ]
  },
  {
   "cell_type": "markdown",
   "metadata": {},
   "source": [
    "---"
   ]
  },
  {
   "cell_type": "markdown",
   "metadata": {},
   "source": [
    "https://adindex.ru/news/hr/2023/12/13/318149.phtml\n",
    "https://adindex.ru/publication/opinion/frames/2023/12/13/318148.phtml   \n",
    "\n",
    " При переходе на некоторые ссылки адрес меняется и мы не можем получать метрики для новости - надо менять парсер\n"
   ]
  },
  {
   "cell_type": "code",
   "execution_count": 22,
   "metadata": {},
   "outputs": [
    {
     "data": {
      "text/plain": [
       "[{'Поисковые системы': {'Посетители': 22.0,\n",
       "   'Читатели': 98.0,\n",
       "   'Уникальные пользователи': 21.0,\n",
       "   '% недочитываемости': 0.0,\n",
       "   'Глубина просмотра': 3.0,\n",
       "   'Ср. время на сайте (сек)': 128.5}},\n",
       " {'Telegram': {'Посетители': 7.0,\n",
       "   'Читатели': 8.0,\n",
       "   'Уникальные пользователи': 7.0,\n",
       "   '% недочитываемости': 0.0,\n",
       "   'Глубина просмотра': 1.14,\n",
       "   'Ср. время на сайте (сек)': 28.86}}]"
      ]
     },
     "execution_count": 22,
     "metadata": {},
     "output_type": "execute_result"
    }
   ],
   "source": [
    "get_data_from_url('https://adindex.ru/publication/opinion/frames/2023/12/13/318148.phtml', '15daysAgo')"
   ]
  },
  {
   "cell_type": "code",
   "execution_count": 109,
   "metadata": {},
   "outputs": [],
   "source": [
    "page_metrics = []\n",
    "response_data = response['data']\n",
    "names = ['Посетители', \"Читатели\", \"Уникальные пользователи\", \"% недочитываемости\", \"Глубина просмотра\", \"Ср. время на сайте (сек)\"]\n",
    "\n",
    "\n",
    "for data in response_data:\n",
    "    page_metrics.append(\n",
    "        {\n",
    "            'Сайт' : data['dimensions'][0]['name']\n",
    "        }\n",
    "    )\n",
    "\n",
    "    for counter, metric_name in enumerate(names):\n",
    "        page_metrics[-1].update(\n",
    "            {\n",
    "                metric_name : data['metrics'][counter]\n",
    "            }\n",
    "        )"
   ]
  },
  {
   "cell_type": "code",
   "execution_count": 110,
   "metadata": {},
   "outputs": [],
   "source": [
    "datas = pd.DataFrame(page_metrics)"
   ]
  },
  {
   "cell_type": "code",
   "execution_count": 111,
   "metadata": {},
   "outputs": [],
   "source": [
    "datas[datas.columns[ 1 :]] = datas[datas.columns[ 1 :]].apply(lambda x: round(x, 2))"
   ]
  },
  {
   "cell_type": "code",
   "execution_count": 112,
   "metadata": {},
   "outputs": [],
   "source": [
    "out = [{}, {}, {'% недочитываемости' : [], 'Глубина просмотра' : [], \"Ср. время на сайте (сек)\"  : []}]\n",
    "\n",
    "restrict_keys = ['Сайт', '% недочитываемости', 'Глубина просмотра', \"Ср. время на сайте (сек)\"]\n",
    "\n",
    "\n",
    "for data in page_metrics:\n",
    "    if 'telegram' not in data['Сайт']:\n",
    "        if out[0]:\n",
    "            out[0].update(\n",
    "                {\n",
    "                    key : out[0][key] + data[key] for key in list(data.keys())[ : -3][1 :]\n",
    "                } \n",
    "            )\n",
    "        \n",
    "        else:\n",
    "            for key in data:\n",
    "                if key != 'Сайт':\n",
    "                    out[0][key] = data[key]\n",
    "\n",
    "\n",
    "        for key in restrict_keys[1 :]:\n",
    "            out[2][key].append(data[key])\n",
    "\n",
    "    else:\n",
    "        for key in data:\n",
    "            if key != 'Сайт':\n",
    "                out[1][key] = round(data[key], 2)"
   ]
  },
  {
   "cell_type": "code",
   "execution_count": 113,
   "metadata": {},
   "outputs": [],
   "source": [
    "for key in out[2]:\n",
    "    out[0][key] = median(out[2][key])\n",
    "\n",
    "del out[2]"
   ]
  },
  {
   "cell_type": "code",
   "execution_count": 114,
   "metadata": {},
   "outputs": [],
   "source": [
    "out[0] = {\n",
    "    'Поисковые системы' : out[0]\n",
    "}\n",
    "\n",
    "out[1] = {\n",
    "    'Telegram' : out[1]\n",
    "}"
   ]
  },
  {
   "cell_type": "code",
   "execution_count": 115,
   "metadata": {},
   "outputs": [
    {
     "data": {
      "text/plain": [
       "[{'Поисковые системы': {'Посетители': 466.0,\n",
       "   'Читатели': 669.0,\n",
       "   'Уникальные пользователи': 446.0,\n",
       "   '% недочитываемости': 0.0,\n",
       "   'Глубина просмотра': 1.0,\n",
       "   'Ср. время на сайте (сек)': 15.0}},\n",
       " {'Telegram': {'Посетители': 3.0,\n",
       "   'Читатели': 3.0,\n",
       "   'Уникальные пользователи': 3.0,\n",
       "   '% недочитываемости': 33.33,\n",
       "   'Глубина просмотра': 1.0,\n",
       "   'Ср. время на сайте (сек)': 10.33}}]"
      ]
     },
     "execution_count": 115,
     "metadata": {},
     "output_type": "execute_result"
    }
   ],
   "source": [
    "out"
   ]
  },
  {
   "cell_type": "code",
   "execution_count": 118,
   "metadata": {},
   "outputs": [
    {
     "data": {
      "text/html": [
       "<div>\n",
       "<style scoped>\n",
       "    .dataframe tbody tr th:only-of-type {\n",
       "        vertical-align: middle;\n",
       "    }\n",
       "\n",
       "    .dataframe tbody tr th {\n",
       "        vertical-align: top;\n",
       "    }\n",
       "\n",
       "    .dataframe thead th {\n",
       "        text-align: right;\n",
       "    }\n",
       "</style>\n",
       "<table border=\"1\" class=\"dataframe\">\n",
       "  <thead>\n",
       "    <tr style=\"text-align: right;\">\n",
       "      <th></th>\n",
       "      <th>Поисковые системы</th>\n",
       "      <th>Telegram</th>\n",
       "    </tr>\n",
       "  </thead>\n",
       "  <tbody>\n",
       "    <tr>\n",
       "      <th>0</th>\n",
       "      <td>{'Посетители': 466.0, 'Читатели': 669.0, 'Уник...</td>\n",
       "      <td>NaN</td>\n",
       "    </tr>\n",
       "    <tr>\n",
       "      <th>1</th>\n",
       "      <td>NaN</td>\n",
       "      <td>{'Посетители': 3.0, 'Читатели': 3.0, 'Уникальн...</td>\n",
       "    </tr>\n",
       "  </tbody>\n",
       "</table>\n",
       "</div>"
      ],
      "text/plain": [
       "                                   Поисковые системы  \\\n",
       "0  {'Посетители': 466.0, 'Читатели': 669.0, 'Уник...   \n",
       "1                                                NaN   \n",
       "\n",
       "                                            Telegram  \n",
       "0                                                NaN  \n",
       "1  {'Посетители': 3.0, 'Читатели': 3.0, 'Уникальн...  "
      ]
     },
     "execution_count": 118,
     "metadata": {},
     "output_type": "execute_result"
    }
   ],
   "source": [
    "pd.DataFrame(out)"
   ]
  }
 ],
 "metadata": {
  "kernelspec": {
   "display_name": "Python 3",
   "language": "python",
   "name": "python3"
  },
  "language_info": {
   "codemirror_mode": {
    "name": "ipython",
    "version": 3
   },
   "file_extension": ".py",
   "mimetype": "text/x-python",
   "name": "python",
   "nbconvert_exporter": "python",
   "pygments_lexer": "ipython3",
   "version": "3.10.8"
  }
 },
 "nbformat": 4,
 "nbformat_minor": 2
}
