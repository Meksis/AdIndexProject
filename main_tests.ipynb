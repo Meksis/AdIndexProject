{
 "cells": [
  {
   "cell_type": "code",
   "execution_count": 13,
   "metadata": {},
   "outputs": [],
   "source": [
    "from tapi_yandex_metrika import YandexMetrikaManagement\n",
    "\n",
    "ACCESS_TOKEN = open('OAuth Tokent.txt', 'r', encoding='utf-8').read()\n",
    "COUNTER_ID = '22386646'\n",
    "\n",
    "client = YandexMetrikaManagement(\n",
    "    access_token=ACCESS_TOKEN,\n",
    "    default_url_params={'counterId': COUNTER_ID}\n",
    ")"
   ]
  },
  {
   "cell_type": "code",
   "execution_count": 14,
   "metadata": {},
   "outputs": [
    {
     "data": {
      "text/plain": [
       "<TapiClientExecutor object\n",
       "'https://api-metrika.yandex.net/management/v1/counters'>"
      ]
     },
     "execution_count": 14,
     "metadata": {},
     "output_type": "execute_result"
    }
   ],
   "source": [
    "client.counters()"
   ]
  },
  {
   "cell_type": "code",
   "execution_count": 21,
   "metadata": {},
   "outputs": [
    {
     "data": {
      "text/plain": [
       "'y0_AgAAAABxT5u9AArhkAAAAADy8AwUGyWYHrEEShSqD6bR8olevN2hFew'"
      ]
     },
     "execution_count": 21,
     "metadata": {},
     "output_type": "execute_result"
    }
   ],
   "source": [
    "ACCESS_TOKEN"
   ]
  },
  {
   "cell_type": "code",
   "execution_count": null,
   "metadata": {},
   "outputs": [],
   "source": []
  },
  {
   "cell_type": "code",
   "execution_count": 57,
   "metadata": {},
   "outputs": [],
   "source": [
    "import requests\n",
    "\n",
    "API_URL = 'https://api-metrika.yandex.ru/stat/v1/data'\n",
    "\n",
    "params = {\n",
    "  \n",
    "'date1': '6daysAgo',\n",
    "'date2': 'today',\n",
    "'ids': 22386646,\n",
    "'metrics': 'ym:s:visits,ym:s:users',\n",
    "'dimensions': 'ym:s:TrafficSource',\n",
    "'filters' : \"ym:s:isRobot=='No'\",\n",
    "'limit': 100\n",
    "}\n",
    "r = requests.get(API_URL, params = params, headers={'Authorization':ACCESS_TOKEN})"
   ]
  },
  {
   "cell_type": "code",
   "execution_count": 58,
   "metadata": {},
   "outputs": [
    {
     "name": "stdout",
     "output_type": "stream",
     "text": [
      "{\"errors\":[{\"error_type\":\"access_denied\",\"message\":\"Access is denied\"}],\"code\":403,\"message\":\"Access is denied\"}\n"
     ]
    }
   ],
   "source": [
    "print(r.text)"
   ]
  },
  {
   "cell_type": "code",
   "execution_count": 31,
   "metadata": {},
   "outputs": [],
   "source": [
    "a = requests.get(f'https://login.yandex.ru/info?jwt_secret=5fb200e7d8e6469cbddcb70ac0c85353&oauth_token={ACCESS_TOKEN}')"
   ]
  },
  {
   "cell_type": "code",
   "execution_count": 32,
   "metadata": {},
   "outputs": [
    {
     "data": {
      "text/plain": [
       "'{\"id\": \"1901042621\", \"login\": \"adindex.metrics\", \"client_id\": \"593842576dce48a99a1665d1c293bad9\", \"psuid\": \"1.AArhkA.XILc2NttUWx_GUZ8hnlliQ.pcFCIUd9-Va9ibdwtR-nqQ\"}'"
      ]
     },
     "execution_count": 32,
     "metadata": {},
     "output_type": "execute_result"
    }
   ],
   "source": [
    "a.text"
   ]
  },
  {
   "cell_type": "code",
   "execution_count": 68,
   "metadata": {},
   "outputs": [
    {
     "name": "stdout",
     "output_type": "stream",
     "text": [
      "{\"errors\":[{\"error_type\":\"access_denied\",\"message\":\"Access is denied\"}],\"code\":403,\"message\":\"Access is denied\"}\n"
     ]
    }
   ],
   "source": [
    "import requests\n",
    "\n",
    "API_URL = f'https://api-metrika.yandex.net/stat/v1/data?ids=22386646&metrics=ym%3As%3Apageviews'\n",
    "\n",
    "r = requests.get(API_URL, headers={'Authorization' : f'{ACCESS_TOKEN}'})\n",
    "print(r.text)"
   ]
  },
  {
   "cell_type": "code",
   "execution_count": null,
   "metadata": {},
   "outputs": [],
   "source": [
    "'https://api-metrika.yandex.net/stat/v1/data?preset=sources_summary&id=44147844', {\n",
    "    headers: {\n",
    "      \"Authorization\": \"OAuth 05dd3dd84ff948fdae2bc4fb91f13e22bb1f289ceef0037\"\n",
    "    } "
   ]
  }
 ],
 "metadata": {
  "kernelspec": {
   "display_name": "Python 3",
   "language": "python",
   "name": "python3"
  },
  "language_info": {
   "codemirror_mode": {
    "name": "ipython",
    "version": 3
   },
   "file_extension": ".py",
   "mimetype": "text/x-python",
   "name": "python",
   "nbconvert_exporter": "python",
   "pygments_lexer": "ipython3",
   "version": "3.10.8"
  }
 },
 "nbformat": 4,
 "nbformat_minor": 2
}
