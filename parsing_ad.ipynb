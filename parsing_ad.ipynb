{
 "cells": [
  {
   "cell_type": "code",
   "execution_count": 4,
   "metadata": {},
   "outputs": [],
   "source": [
    "import requests as rq\n",
    "from bs4 import BeautifulSoup\n",
    "\n",
    "all_news = 'https://adindex.ru/news/all.phtml'\n",
    "home_page = 'https://adindex.ru'"
   ]
  },
  {
   "cell_type": "code",
   "execution_count": 41,
   "metadata": {},
   "outputs": [],
   "source": [
    "cook = {'_ym_d':'1699824931'}"
   ]
  },
  {
   "cell_type": "code",
   "execution_count": 42,
   "metadata": {},
   "outputs": [],
   "source": [
    "data = rq.get(\n",
    "    all_news, cookies=cook\n",
    ")\n",
    "\n",
    "parser = BeautifulSoup(data.text, 'html.parser')"
   ]
  },
  {
   "cell_type": "code",
   "execution_count": 43,
   "metadata": {},
   "outputs": [],
   "source": [
    "newsfeed = parser.select_one('.newsfeed')"
   ]
  },
  {
   "cell_type": "code",
   "execution_count": 56,
   "metadata": {},
   "outputs": [],
   "source": [
    "day = newsfeed.select('.newsfeed__section')"
   ]
  },
  {
   "cell_type": "code",
   "execution_count": 61,
   "metadata": {},
   "outputs": [
    {
     "data": {
      "text/plain": [
       "' 13 ноября '"
      ]
     },
     "execution_count": 61,
     "metadata": {},
     "output_type": "execute_result"
    }
   ],
   "source": [
    "day[0].select_one('.newsfeed__section-title-in').text.replace('\\n',' ')"
   ]
  },
  {
   "cell_type": "code",
   "execution_count": 63,
   "metadata": {},
   "outputs": [],
   "source": [
    "news = day[0].select('.newsfeed__list-item')"
   ]
  },
  {
   "cell_type": "code",
   "execution_count": 64,
   "metadata": {},
   "outputs": [
    {
     "data": {
      "text/plain": [
       "<div class=\"newsfeed__list-item\">\n",
       "<h2 class=\"newsfeed__list-item-title\"><a href=\"/news/right/2023/11/13/317178.phtml\">Альфа-банк получил штраф в размере 350 тысяч рублей за нарушение закона о рекламе</a></h2>\n",
       "<div class=\"newsfeed__list-footer\">\n",
       "<a class=\"newsfeed__list-item-category\" href=\"/news/right/\">Право</a>\n",
       "<span class=\"newsfeed__list-item-date\">13.11.23 | 11:18</span>\n",
       "</div>\n",
       "</div>"
      ]
     },
     "execution_count": 64,
     "metadata": {},
     "output_type": "execute_result"
    }
   ],
   "source": [
    "news[0]"
   ]
  }
 ],
 "metadata": {
  "kernelspec": {
   "display_name": "base",
   "language": "python",
   "name": "python3"
  },
  "language_info": {
   "codemirror_mode": {
    "name": "ipython",
    "version": 3
   },
   "file_extension": ".py",
   "mimetype": "text/x-python",
   "name": "python",
   "nbconvert_exporter": "python",
   "pygments_lexer": "ipython3",
   "version": "3.10.9"
  }
 },
 "nbformat": 4,
 "nbformat_minor": 2
}
