{
 "cells": [
  {
   "cell_type": "code",
   "execution_count": 2,
   "metadata": {},
   "outputs": [
    {
     "data": {
      "application/vnd.plotly.v1+json": {
       "config": {
        "plotlyServerURL": "https://plot.ly"
       },
       "data": [
        {
         "domain": {
          "x": [
           0,
           1
          ],
          "y": [
           0,
           1
          ]
         },
         "hovertemplate": "day=%{label}<br>tip=%{value}<extra></extra>",
         "labels": [
          "Sun",
          "Sun",
          "Sun",
          "Sun",
          "Sun",
          "Sun",
          "Sun",
          "Sun",
          "Sun",
          "Sun",
          "Sun",
          "Sun",
          "Sun",
          "Sun",
          "Sun",
          "Sun",
          "Sun",
          "Sun",
          "Sun",
          "Sat",
          "Sat",
          "Sat",
          "Sat",
          "Sat",
          "Sat",
          "Sat",
          "Sat",
          "Sat",
          "Sat",
          "Sat",
          "Sat",
          "Sat",
          "Sat",
          "Sat",
          "Sat",
          "Sat",
          "Sat",
          "Sat",
          "Sat",
          "Sat",
          "Sat",
          "Sun",
          "Sun",
          "Sun",
          "Sun",
          "Sun",
          "Sun",
          "Sun",
          "Sun",
          "Sun",
          "Sun",
          "Sun",
          "Sun",
          "Sun",
          "Sun",
          "Sun",
          "Sat",
          "Sat",
          "Sat",
          "Sat",
          "Sat",
          "Sat",
          "Sat",
          "Sat",
          "Sat",
          "Sat",
          "Sat",
          "Sat",
          "Sat",
          "Sat",
          "Sat",
          "Sat",
          "Sat",
          "Sat",
          "Sat",
          "Sat",
          "Sat",
          "Thur",
          "Thur",
          "Thur",
          "Thur",
          "Thur",
          "Thur",
          "Thur",
          "Thur",
          "Thur",
          "Thur",
          "Thur",
          "Thur",
          "Thur",
          "Fri",
          "Fri",
          "Fri",
          "Fri",
          "Fri",
          "Fri",
          "Fri",
          "Fri",
          "Fri",
          "Fri",
          "Fri",
          "Fri",
          "Sat",
          "Sat",
          "Sat",
          "Sat",
          "Sat",
          "Sat",
          "Sat",
          "Sat",
          "Sat",
          "Sat",
          "Sun",
          "Sun",
          "Sun",
          "Sun",
          "Sun",
          "Thur",
          "Thur",
          "Thur",
          "Thur",
          "Thur",
          "Thur",
          "Thur",
          "Thur",
          "Thur",
          "Thur",
          "Thur",
          "Thur",
          "Thur",
          "Thur",
          "Thur",
          "Thur",
          "Thur",
          "Thur",
          "Thur",
          "Thur",
          "Thur",
          "Thur",
          "Thur",
          "Thur",
          "Thur",
          "Thur",
          "Thur",
          "Thur",
          "Thur",
          "Thur",
          "Thur",
          "Thur",
          "Thur",
          "Sun",
          "Sun",
          "Sun",
          "Sun",
          "Sun",
          "Sun",
          "Sun",
          "Sun",
          "Sun",
          "Sun",
          "Sun",
          "Sun",
          "Sun",
          "Sun",
          "Sun",
          "Sun",
          "Sun",
          "Sun",
          "Sat",
          "Sat",
          "Sat",
          "Sat",
          "Sun",
          "Sun",
          "Sun",
          "Sun",
          "Sun",
          "Sun",
          "Sun",
          "Sun",
          "Sun",
          "Sun",
          "Sun",
          "Sun",
          "Sun",
          "Sun",
          "Sun",
          "Sun",
          "Sun",
          "Sun",
          "Sun",
          "Thur",
          "Thur",
          "Thur",
          "Thur",
          "Thur",
          "Thur",
          "Thur",
          "Thur",
          "Thur",
          "Thur",
          "Thur",
          "Thur",
          "Thur",
          "Thur",
          "Thur",
          "Sat",
          "Sat",
          "Sat",
          "Sat",
          "Sat",
          "Sat",
          "Sat",
          "Sat",
          "Sat",
          "Sat",
          "Sat",
          "Sat",
          "Sat",
          "Sat",
          "Fri",
          "Fri",
          "Fri",
          "Fri",
          "Fri",
          "Fri",
          "Fri",
          "Sat",
          "Sat",
          "Sat",
          "Sat",
          "Sat",
          "Sat",
          "Sat",
          "Sat",
          "Sat",
          "Sat",
          "Sat",
          "Sat",
          "Sat",
          "Sat",
          "Sat",
          "Sat",
          "Thur"
         ],
         "legendgroup": "",
         "name": "",
         "showlegend": true,
         "type": "pie",
         "values": [
          1.01,
          1.66,
          3.5,
          3.31,
          3.61,
          4.71,
          2,
          3.12,
          1.96,
          3.23,
          1.71,
          5,
          1.57,
          3,
          3.02,
          3.92,
          1.67,
          3.71,
          3.5,
          3.35,
          4.08,
          2.75,
          2.23,
          7.58,
          3.18,
          2.34,
          2,
          2,
          4.3,
          3,
          1.45,
          2.5,
          3,
          2.45,
          3.27,
          3.6,
          2,
          3.07,
          2.31,
          5,
          2.24,
          2.54,
          3.06,
          1.32,
          5.6,
          3,
          5,
          6,
          2.05,
          3,
          2.5,
          2.6,
          5.2,
          1.56,
          4.34,
          3.51,
          3,
          1.5,
          1.76,
          6.73,
          3.21,
          2,
          1.98,
          3.76,
          2.64,
          3.15,
          2.47,
          1,
          2.01,
          2.09,
          1.97,
          3,
          3.14,
          5,
          2.2,
          1.25,
          3.08,
          4,
          3,
          2.71,
          3,
          3.4,
          1.83,
          5,
          2.03,
          5.17,
          2,
          4,
          5.85,
          3,
          3,
          3.5,
          1,
          4.3,
          3.25,
          4.73,
          4,
          1.5,
          3,
          1.5,
          2.5,
          3,
          2.5,
          3.48,
          4.08,
          1.64,
          4.06,
          4.29,
          3.76,
          4,
          3,
          1,
          4,
          2.55,
          4,
          3.5,
          5.07,
          1.5,
          1.8,
          2.92,
          2.31,
          1.68,
          2.5,
          2,
          2.52,
          4.2,
          1.48,
          2,
          2,
          2.18,
          1.5,
          2.83,
          1.5,
          2,
          3.25,
          1.25,
          2,
          2,
          2,
          2.75,
          3.5,
          6.7,
          5,
          5,
          2.3,
          1.5,
          1.36,
          1.63,
          1.73,
          2,
          2.5,
          2,
          2.74,
          2,
          2,
          5.14,
          5,
          3.75,
          2.61,
          2,
          3.5,
          2.5,
          2,
          2,
          3,
          3.48,
          2.24,
          4.5,
          1.61,
          2,
          10,
          3.16,
          5.15,
          3.18,
          4,
          3.11,
          2,
          2,
          4,
          3.55,
          3.68,
          5.65,
          3.5,
          6.5,
          3,
          5,
          3.5,
          2,
          3.5,
          4,
          1.5,
          4.19,
          2.56,
          2.02,
          4,
          1.44,
          2,
          5,
          2,
          2,
          4,
          2.01,
          2,
          2.5,
          4,
          3.23,
          3.41,
          3,
          2.03,
          2.23,
          2,
          5.16,
          9,
          2.5,
          6.5,
          1.1,
          3,
          1.5,
          1.44,
          3.09,
          2.2,
          3.48,
          1.92,
          3,
          1.58,
          2.5,
          2,
          3,
          2.72,
          2.88,
          2,
          3,
          3.39,
          1.47,
          3,
          1.25,
          1,
          1.17,
          4.67,
          5.92,
          2,
          2,
          1.75,
          3
         ]
        }
       ],
       "layout": {
        "legend": {
         "tracegroupgap": 0
        },
        "margin": {
         "t": 60
        },
        "template": {
         "data": {
          "bar": [
           {
            "error_x": {
             "color": "#2a3f5f"
            },
            "error_y": {
             "color": "#2a3f5f"
            },
            "marker": {
             "line": {
              "color": "#E5ECF6",
              "width": 0.5
             },
             "pattern": {
              "fillmode": "overlay",
              "size": 10,
              "solidity": 0.2
             }
            },
            "type": "bar"
           }
          ],
          "barpolar": [
           {
            "marker": {
             "line": {
              "color": "#E5ECF6",
              "width": 0.5
             },
             "pattern": {
              "fillmode": "overlay",
              "size": 10,
              "solidity": 0.2
             }
            },
            "type": "barpolar"
           }
          ],
          "carpet": [
           {
            "aaxis": {
             "endlinecolor": "#2a3f5f",
             "gridcolor": "white",
             "linecolor": "white",
             "minorgridcolor": "white",
             "startlinecolor": "#2a3f5f"
            },
            "baxis": {
             "endlinecolor": "#2a3f5f",
             "gridcolor": "white",
             "linecolor": "white",
             "minorgridcolor": "white",
             "startlinecolor": "#2a3f5f"
            },
            "type": "carpet"
           }
          ],
          "choropleth": [
           {
            "colorbar": {
             "outlinewidth": 0,
             "ticks": ""
            },
            "type": "choropleth"
           }
          ],
          "contour": [
           {
            "colorbar": {
             "outlinewidth": 0,
             "ticks": ""
            },
            "colorscale": [
             [
              0,
              "#0d0887"
             ],
             [
              0.1111111111111111,
              "#46039f"
             ],
             [
              0.2222222222222222,
              "#7201a8"
             ],
             [
              0.3333333333333333,
              "#9c179e"
             ],
             [
              0.4444444444444444,
              "#bd3786"
             ],
             [
              0.5555555555555556,
              "#d8576b"
             ],
             [
              0.6666666666666666,
              "#ed7953"
             ],
             [
              0.7777777777777778,
              "#fb9f3a"
             ],
             [
              0.8888888888888888,
              "#fdca26"
             ],
             [
              1,
              "#f0f921"
             ]
            ],
            "type": "contour"
           }
          ],
          "contourcarpet": [
           {
            "colorbar": {
             "outlinewidth": 0,
             "ticks": ""
            },
            "type": "contourcarpet"
           }
          ],
          "heatmap": [
           {
            "colorbar": {
             "outlinewidth": 0,
             "ticks": ""
            },
            "colorscale": [
             [
              0,
              "#0d0887"
             ],
             [
              0.1111111111111111,
              "#46039f"
             ],
             [
              0.2222222222222222,
              "#7201a8"
             ],
             [
              0.3333333333333333,
              "#9c179e"
             ],
             [
              0.4444444444444444,
              "#bd3786"
             ],
             [
              0.5555555555555556,
              "#d8576b"
             ],
             [
              0.6666666666666666,
              "#ed7953"
             ],
             [
              0.7777777777777778,
              "#fb9f3a"
             ],
             [
              0.8888888888888888,
              "#fdca26"
             ],
             [
              1,
              "#f0f921"
             ]
            ],
            "type": "heatmap"
           }
          ],
          "heatmapgl": [
           {
            "colorbar": {
             "outlinewidth": 0,
             "ticks": ""
            },
            "colorscale": [
             [
              0,
              "#0d0887"
             ],
             [
              0.1111111111111111,
              "#46039f"
             ],
             [
              0.2222222222222222,
              "#7201a8"
             ],
             [
              0.3333333333333333,
              "#9c179e"
             ],
             [
              0.4444444444444444,
              "#bd3786"
             ],
             [
              0.5555555555555556,
              "#d8576b"
             ],
             [
              0.6666666666666666,
              "#ed7953"
             ],
             [
              0.7777777777777778,
              "#fb9f3a"
             ],
             [
              0.8888888888888888,
              "#fdca26"
             ],
             [
              1,
              "#f0f921"
             ]
            ],
            "type": "heatmapgl"
           }
          ],
          "histogram": [
           {
            "marker": {
             "pattern": {
              "fillmode": "overlay",
              "size": 10,
              "solidity": 0.2
             }
            },
            "type": "histogram"
           }
          ],
          "histogram2d": [
           {
            "colorbar": {
             "outlinewidth": 0,
             "ticks": ""
            },
            "colorscale": [
             [
              0,
              "#0d0887"
             ],
             [
              0.1111111111111111,
              "#46039f"
             ],
             [
              0.2222222222222222,
              "#7201a8"
             ],
             [
              0.3333333333333333,
              "#9c179e"
             ],
             [
              0.4444444444444444,
              "#bd3786"
             ],
             [
              0.5555555555555556,
              "#d8576b"
             ],
             [
              0.6666666666666666,
              "#ed7953"
             ],
             [
              0.7777777777777778,
              "#fb9f3a"
             ],
             [
              0.8888888888888888,
              "#fdca26"
             ],
             [
              1,
              "#f0f921"
             ]
            ],
            "type": "histogram2d"
           }
          ],
          "histogram2dcontour": [
           {
            "colorbar": {
             "outlinewidth": 0,
             "ticks": ""
            },
            "colorscale": [
             [
              0,
              "#0d0887"
             ],
             [
              0.1111111111111111,
              "#46039f"
             ],
             [
              0.2222222222222222,
              "#7201a8"
             ],
             [
              0.3333333333333333,
              "#9c179e"
             ],
             [
              0.4444444444444444,
              "#bd3786"
             ],
             [
              0.5555555555555556,
              "#d8576b"
             ],
             [
              0.6666666666666666,
              "#ed7953"
             ],
             [
              0.7777777777777778,
              "#fb9f3a"
             ],
             [
              0.8888888888888888,
              "#fdca26"
             ],
             [
              1,
              "#f0f921"
             ]
            ],
            "type": "histogram2dcontour"
           }
          ],
          "mesh3d": [
           {
            "colorbar": {
             "outlinewidth": 0,
             "ticks": ""
            },
            "type": "mesh3d"
           }
          ],
          "parcoords": [
           {
            "line": {
             "colorbar": {
              "outlinewidth": 0,
              "ticks": ""
             }
            },
            "type": "parcoords"
           }
          ],
          "pie": [
           {
            "automargin": true,
            "type": "pie"
           }
          ],
          "scatter": [
           {
            "fillpattern": {
             "fillmode": "overlay",
             "size": 10,
             "solidity": 0.2
            },
            "type": "scatter"
           }
          ],
          "scatter3d": [
           {
            "line": {
             "colorbar": {
              "outlinewidth": 0,
              "ticks": ""
             }
            },
            "marker": {
             "colorbar": {
              "outlinewidth": 0,
              "ticks": ""
             }
            },
            "type": "scatter3d"
           }
          ],
          "scattercarpet": [
           {
            "marker": {
             "colorbar": {
              "outlinewidth": 0,
              "ticks": ""
             }
            },
            "type": "scattercarpet"
           }
          ],
          "scattergeo": [
           {
            "marker": {
             "colorbar": {
              "outlinewidth": 0,
              "ticks": ""
             }
            },
            "type": "scattergeo"
           }
          ],
          "scattergl": [
           {
            "marker": {
             "colorbar": {
              "outlinewidth": 0,
              "ticks": ""
             }
            },
            "type": "scattergl"
           }
          ],
          "scattermapbox": [
           {
            "marker": {
             "colorbar": {
              "outlinewidth": 0,
              "ticks": ""
             }
            },
            "type": "scattermapbox"
           }
          ],
          "scatterpolar": [
           {
            "marker": {
             "colorbar": {
              "outlinewidth": 0,
              "ticks": ""
             }
            },
            "type": "scatterpolar"
           }
          ],
          "scatterpolargl": [
           {
            "marker": {
             "colorbar": {
              "outlinewidth": 0,
              "ticks": ""
             }
            },
            "type": "scatterpolargl"
           }
          ],
          "scatterternary": [
           {
            "marker": {
             "colorbar": {
              "outlinewidth": 0,
              "ticks": ""
             }
            },
            "type": "scatterternary"
           }
          ],
          "surface": [
           {
            "colorbar": {
             "outlinewidth": 0,
             "ticks": ""
            },
            "colorscale": [
             [
              0,
              "#0d0887"
             ],
             [
              0.1111111111111111,
              "#46039f"
             ],
             [
              0.2222222222222222,
              "#7201a8"
             ],
             [
              0.3333333333333333,
              "#9c179e"
             ],
             [
              0.4444444444444444,
              "#bd3786"
             ],
             [
              0.5555555555555556,
              "#d8576b"
             ],
             [
              0.6666666666666666,
              "#ed7953"
             ],
             [
              0.7777777777777778,
              "#fb9f3a"
             ],
             [
              0.8888888888888888,
              "#fdca26"
             ],
             [
              1,
              "#f0f921"
             ]
            ],
            "type": "surface"
           }
          ],
          "table": [
           {
            "cells": {
             "fill": {
              "color": "#EBF0F8"
             },
             "line": {
              "color": "white"
             }
            },
            "header": {
             "fill": {
              "color": "#C8D4E3"
             },
             "line": {
              "color": "white"
             }
            },
            "type": "table"
           }
          ]
         },
         "layout": {
          "annotationdefaults": {
           "arrowcolor": "#2a3f5f",
           "arrowhead": 0,
           "arrowwidth": 1
          },
          "autotypenumbers": "strict",
          "coloraxis": {
           "colorbar": {
            "outlinewidth": 0,
            "ticks": ""
           }
          },
          "colorscale": {
           "diverging": [
            [
             0,
             "#8e0152"
            ],
            [
             0.1,
             "#c51b7d"
            ],
            [
             0.2,
             "#de77ae"
            ],
            [
             0.3,
             "#f1b6da"
            ],
            [
             0.4,
             "#fde0ef"
            ],
            [
             0.5,
             "#f7f7f7"
            ],
            [
             0.6,
             "#e6f5d0"
            ],
            [
             0.7,
             "#b8e186"
            ],
            [
             0.8,
             "#7fbc41"
            ],
            [
             0.9,
             "#4d9221"
            ],
            [
             1,
             "#276419"
            ]
           ],
           "sequential": [
            [
             0,
             "#0d0887"
            ],
            [
             0.1111111111111111,
             "#46039f"
            ],
            [
             0.2222222222222222,
             "#7201a8"
            ],
            [
             0.3333333333333333,
             "#9c179e"
            ],
            [
             0.4444444444444444,
             "#bd3786"
            ],
            [
             0.5555555555555556,
             "#d8576b"
            ],
            [
             0.6666666666666666,
             "#ed7953"
            ],
            [
             0.7777777777777778,
             "#fb9f3a"
            ],
            [
             0.8888888888888888,
             "#fdca26"
            ],
            [
             1,
             "#f0f921"
            ]
           ],
           "sequentialminus": [
            [
             0,
             "#0d0887"
            ],
            [
             0.1111111111111111,
             "#46039f"
            ],
            [
             0.2222222222222222,
             "#7201a8"
            ],
            [
             0.3333333333333333,
             "#9c179e"
            ],
            [
             0.4444444444444444,
             "#bd3786"
            ],
            [
             0.5555555555555556,
             "#d8576b"
            ],
            [
             0.6666666666666666,
             "#ed7953"
            ],
            [
             0.7777777777777778,
             "#fb9f3a"
            ],
            [
             0.8888888888888888,
             "#fdca26"
            ],
            [
             1,
             "#f0f921"
            ]
           ]
          },
          "colorway": [
           "#636efa",
           "#EF553B",
           "#00cc96",
           "#ab63fa",
           "#FFA15A",
           "#19d3f3",
           "#FF6692",
           "#B6E880",
           "#FF97FF",
           "#FECB52"
          ],
          "font": {
           "color": "#2a3f5f"
          },
          "geo": {
           "bgcolor": "white",
           "lakecolor": "white",
           "landcolor": "#E5ECF6",
           "showlakes": true,
           "showland": true,
           "subunitcolor": "white"
          },
          "hoverlabel": {
           "align": "left"
          },
          "hovermode": "closest",
          "mapbox": {
           "style": "light"
          },
          "paper_bgcolor": "white",
          "plot_bgcolor": "#E5ECF6",
          "polar": {
           "angularaxis": {
            "gridcolor": "white",
            "linecolor": "white",
            "ticks": ""
           },
           "bgcolor": "#E5ECF6",
           "radialaxis": {
            "gridcolor": "white",
            "linecolor": "white",
            "ticks": ""
           }
          },
          "scene": {
           "xaxis": {
            "backgroundcolor": "#E5ECF6",
            "gridcolor": "white",
            "gridwidth": 2,
            "linecolor": "white",
            "showbackground": true,
            "ticks": "",
            "zerolinecolor": "white"
           },
           "yaxis": {
            "backgroundcolor": "#E5ECF6",
            "gridcolor": "white",
            "gridwidth": 2,
            "linecolor": "white",
            "showbackground": true,
            "ticks": "",
            "zerolinecolor": "white"
           },
           "zaxis": {
            "backgroundcolor": "#E5ECF6",
            "gridcolor": "white",
            "gridwidth": 2,
            "linecolor": "white",
            "showbackground": true,
            "ticks": "",
            "zerolinecolor": "white"
           }
          },
          "shapedefaults": {
           "line": {
            "color": "#2a3f5f"
           }
          },
          "ternary": {
           "aaxis": {
            "gridcolor": "white",
            "linecolor": "white",
            "ticks": ""
           },
           "baxis": {
            "gridcolor": "white",
            "linecolor": "white",
            "ticks": ""
           },
           "bgcolor": "#E5ECF6",
           "caxis": {
            "gridcolor": "white",
            "linecolor": "white",
            "ticks": ""
           }
          },
          "title": {
           "x": 0.05
          },
          "xaxis": {
           "automargin": true,
           "gridcolor": "white",
           "linecolor": "white",
           "ticks": "",
           "title": {
            "standoff": 15
           },
           "zerolinecolor": "white",
           "zerolinewidth": 2
          },
          "yaxis": {
           "automargin": true,
           "gridcolor": "white",
           "linecolor": "white",
           "ticks": "",
           "title": {
            "standoff": 15
           },
           "zerolinecolor": "white",
           "zerolinewidth": 2
          }
         }
        }
       }
      }
     },
     "metadata": {},
     "output_type": "display_data"
    }
   ],
   "source": [
    "import plotly.express as px\n",
    "# This dataframe has 244 lines, but 4 distinct values for `day`\n",
    "df = px.data.tips()\n",
    "fig = px.pie(df, values='tip', names='day')\n",
    "fig.show()"
   ]
  },
  {
   "cell_type": "code",
   "execution_count": 6,
   "metadata": {},
   "outputs": [
    {
     "data": {
      "text/plain": [
       "array(['Sun', 'Sat', 'Thur', 'Fri'], dtype=object)"
      ]
     },
     "execution_count": 6,
     "metadata": {},
     "output_type": "execute_result"
    }
   ],
   "source": [
    "df.day.unique()"
   ]
  },
  {
   "cell_type": "code",
   "execution_count": 9,
   "metadata": {},
   "outputs": [],
   "source": [
    "import pandas as pd\n",
    "\n",
    "df = pd.DataFrame([\n",
    "    {\n",
    "        'date' : '1',\n",
    "        'visitors' : 1\n",
    "    },\n",
    "    {\n",
    "        'date' : '2',\n",
    "        'visitors' : 10\n",
    "    },\n",
    "    {\n",
    "        'date' : '3',\n",
    "        'visitors' : 100\n",
    "    },\n",
    "])"
   ]
  },
  {
   "cell_type": "code",
   "execution_count": 12,
   "metadata": {},
   "outputs": [
    {
     "data": {
      "application/vnd.plotly.v1+json": {
       "config": {
        "plotlyServerURL": "https://plot.ly"
       },
       "data": [
        {
         "domain": {
          "x": [
           0,
           1
          ],
          "y": [
           0,
           1
          ]
         },
         "hovertemplate": "date=%{label}<br>visitors=%{value}<extra></extra>",
         "labels": [
          "1",
          "2",
          "3"
         ],
         "legendgroup": "",
         "name": "",
         "showlegend": true,
         "type": "pie",
         "values": [
          1,
          10,
          100
         ]
        }
       ],
       "layout": {
        "legend": {
         "tracegroupgap": 0
        },
        "margin": {
         "t": 60
        },
        "piecolorway": [
         "rgb(103,0,31)",
         "rgb(178,24,43)",
         "rgb(214,96,77)",
         "rgb(244,165,130)",
         "rgb(253,219,199)",
         "rgb(247,247,247)",
         "rgb(209,229,240)",
         "rgb(146,197,222)",
         "rgb(67,147,195)",
         "rgb(33,102,172)",
         "rgb(5,48,97)"
        ],
        "template": {
         "data": {
          "bar": [
           {
            "error_x": {
             "color": "#2a3f5f"
            },
            "error_y": {
             "color": "#2a3f5f"
            },
            "marker": {
             "line": {
              "color": "#E5ECF6",
              "width": 0.5
             },
             "pattern": {
              "fillmode": "overlay",
              "size": 10,
              "solidity": 0.2
             }
            },
            "type": "bar"
           }
          ],
          "barpolar": [
           {
            "marker": {
             "line": {
              "color": "#E5ECF6",
              "width": 0.5
             },
             "pattern": {
              "fillmode": "overlay",
              "size": 10,
              "solidity": 0.2
             }
            },
            "type": "barpolar"
           }
          ],
          "carpet": [
           {
            "aaxis": {
             "endlinecolor": "#2a3f5f",
             "gridcolor": "white",
             "linecolor": "white",
             "minorgridcolor": "white",
             "startlinecolor": "#2a3f5f"
            },
            "baxis": {
             "endlinecolor": "#2a3f5f",
             "gridcolor": "white",
             "linecolor": "white",
             "minorgridcolor": "white",
             "startlinecolor": "#2a3f5f"
            },
            "type": "carpet"
           }
          ],
          "choropleth": [
           {
            "colorbar": {
             "outlinewidth": 0,
             "ticks": ""
            },
            "type": "choropleth"
           }
          ],
          "contour": [
           {
            "colorbar": {
             "outlinewidth": 0,
             "ticks": ""
            },
            "colorscale": [
             [
              0,
              "#0d0887"
             ],
             [
              0.1111111111111111,
              "#46039f"
             ],
             [
              0.2222222222222222,
              "#7201a8"
             ],
             [
              0.3333333333333333,
              "#9c179e"
             ],
             [
              0.4444444444444444,
              "#bd3786"
             ],
             [
              0.5555555555555556,
              "#d8576b"
             ],
             [
              0.6666666666666666,
              "#ed7953"
             ],
             [
              0.7777777777777778,
              "#fb9f3a"
             ],
             [
              0.8888888888888888,
              "#fdca26"
             ],
             [
              1,
              "#f0f921"
             ]
            ],
            "type": "contour"
           }
          ],
          "contourcarpet": [
           {
            "colorbar": {
             "outlinewidth": 0,
             "ticks": ""
            },
            "type": "contourcarpet"
           }
          ],
          "heatmap": [
           {
            "colorbar": {
             "outlinewidth": 0,
             "ticks": ""
            },
            "colorscale": [
             [
              0,
              "#0d0887"
             ],
             [
              0.1111111111111111,
              "#46039f"
             ],
             [
              0.2222222222222222,
              "#7201a8"
             ],
             [
              0.3333333333333333,
              "#9c179e"
             ],
             [
              0.4444444444444444,
              "#bd3786"
             ],
             [
              0.5555555555555556,
              "#d8576b"
             ],
             [
              0.6666666666666666,
              "#ed7953"
             ],
             [
              0.7777777777777778,
              "#fb9f3a"
             ],
             [
              0.8888888888888888,
              "#fdca26"
             ],
             [
              1,
              "#f0f921"
             ]
            ],
            "type": "heatmap"
           }
          ],
          "heatmapgl": [
           {
            "colorbar": {
             "outlinewidth": 0,
             "ticks": ""
            },
            "colorscale": [
             [
              0,
              "#0d0887"
             ],
             [
              0.1111111111111111,
              "#46039f"
             ],
             [
              0.2222222222222222,
              "#7201a8"
             ],
             [
              0.3333333333333333,
              "#9c179e"
             ],
             [
              0.4444444444444444,
              "#bd3786"
             ],
             [
              0.5555555555555556,
              "#d8576b"
             ],
             [
              0.6666666666666666,
              "#ed7953"
             ],
             [
              0.7777777777777778,
              "#fb9f3a"
             ],
             [
              0.8888888888888888,
              "#fdca26"
             ],
             [
              1,
              "#f0f921"
             ]
            ],
            "type": "heatmapgl"
           }
          ],
          "histogram": [
           {
            "marker": {
             "pattern": {
              "fillmode": "overlay",
              "size": 10,
              "solidity": 0.2
             }
            },
            "type": "histogram"
           }
          ],
          "histogram2d": [
           {
            "colorbar": {
             "outlinewidth": 0,
             "ticks": ""
            },
            "colorscale": [
             [
              0,
              "#0d0887"
             ],
             [
              0.1111111111111111,
              "#46039f"
             ],
             [
              0.2222222222222222,
              "#7201a8"
             ],
             [
              0.3333333333333333,
              "#9c179e"
             ],
             [
              0.4444444444444444,
              "#bd3786"
             ],
             [
              0.5555555555555556,
              "#d8576b"
             ],
             [
              0.6666666666666666,
              "#ed7953"
             ],
             [
              0.7777777777777778,
              "#fb9f3a"
             ],
             [
              0.8888888888888888,
              "#fdca26"
             ],
             [
              1,
              "#f0f921"
             ]
            ],
            "type": "histogram2d"
           }
          ],
          "histogram2dcontour": [
           {
            "colorbar": {
             "outlinewidth": 0,
             "ticks": ""
            },
            "colorscale": [
             [
              0,
              "#0d0887"
             ],
             [
              0.1111111111111111,
              "#46039f"
             ],
             [
              0.2222222222222222,
              "#7201a8"
             ],
             [
              0.3333333333333333,
              "#9c179e"
             ],
             [
              0.4444444444444444,
              "#bd3786"
             ],
             [
              0.5555555555555556,
              "#d8576b"
             ],
             [
              0.6666666666666666,
              "#ed7953"
             ],
             [
              0.7777777777777778,
              "#fb9f3a"
             ],
             [
              0.8888888888888888,
              "#fdca26"
             ],
             [
              1,
              "#f0f921"
             ]
            ],
            "type": "histogram2dcontour"
           }
          ],
          "mesh3d": [
           {
            "colorbar": {
             "outlinewidth": 0,
             "ticks": ""
            },
            "type": "mesh3d"
           }
          ],
          "parcoords": [
           {
            "line": {
             "colorbar": {
              "outlinewidth": 0,
              "ticks": ""
             }
            },
            "type": "parcoords"
           }
          ],
          "pie": [
           {
            "automargin": true,
            "type": "pie"
           }
          ],
          "scatter": [
           {
            "fillpattern": {
             "fillmode": "overlay",
             "size": 10,
             "solidity": 0.2
            },
            "type": "scatter"
           }
          ],
          "scatter3d": [
           {
            "line": {
             "colorbar": {
              "outlinewidth": 0,
              "ticks": ""
             }
            },
            "marker": {
             "colorbar": {
              "outlinewidth": 0,
              "ticks": ""
             }
            },
            "type": "scatter3d"
           }
          ],
          "scattercarpet": [
           {
            "marker": {
             "colorbar": {
              "outlinewidth": 0,
              "ticks": ""
             }
            },
            "type": "scattercarpet"
           }
          ],
          "scattergeo": [
           {
            "marker": {
             "colorbar": {
              "outlinewidth": 0,
              "ticks": ""
             }
            },
            "type": "scattergeo"
           }
          ],
          "scattergl": [
           {
            "marker": {
             "colorbar": {
              "outlinewidth": 0,
              "ticks": ""
             }
            },
            "type": "scattergl"
           }
          ],
          "scattermapbox": [
           {
            "marker": {
             "colorbar": {
              "outlinewidth": 0,
              "ticks": ""
             }
            },
            "type": "scattermapbox"
           }
          ],
          "scatterpolar": [
           {
            "marker": {
             "colorbar": {
              "outlinewidth": 0,
              "ticks": ""
             }
            },
            "type": "scatterpolar"
           }
          ],
          "scatterpolargl": [
           {
            "marker": {
             "colorbar": {
              "outlinewidth": 0,
              "ticks": ""
             }
            },
            "type": "scatterpolargl"
           }
          ],
          "scatterternary": [
           {
            "marker": {
             "colorbar": {
              "outlinewidth": 0,
              "ticks": ""
             }
            },
            "type": "scatterternary"
           }
          ],
          "surface": [
           {
            "colorbar": {
             "outlinewidth": 0,
             "ticks": ""
            },
            "colorscale": [
             [
              0,
              "#0d0887"
             ],
             [
              0.1111111111111111,
              "#46039f"
             ],
             [
              0.2222222222222222,
              "#7201a8"
             ],
             [
              0.3333333333333333,
              "#9c179e"
             ],
             [
              0.4444444444444444,
              "#bd3786"
             ],
             [
              0.5555555555555556,
              "#d8576b"
             ],
             [
              0.6666666666666666,
              "#ed7953"
             ],
             [
              0.7777777777777778,
              "#fb9f3a"
             ],
             [
              0.8888888888888888,
              "#fdca26"
             ],
             [
              1,
              "#f0f921"
             ]
            ],
            "type": "surface"
           }
          ],
          "table": [
           {
            "cells": {
             "fill": {
              "color": "#EBF0F8"
             },
             "line": {
              "color": "white"
             }
            },
            "header": {
             "fill": {
              "color": "#C8D4E3"
             },
             "line": {
              "color": "white"
             }
            },
            "type": "table"
           }
          ]
         },
         "layout": {
          "annotationdefaults": {
           "arrowcolor": "#2a3f5f",
           "arrowhead": 0,
           "arrowwidth": 1
          },
          "autotypenumbers": "strict",
          "coloraxis": {
           "colorbar": {
            "outlinewidth": 0,
            "ticks": ""
           }
          },
          "colorscale": {
           "diverging": [
            [
             0,
             "#8e0152"
            ],
            [
             0.1,
             "#c51b7d"
            ],
            [
             0.2,
             "#de77ae"
            ],
            [
             0.3,
             "#f1b6da"
            ],
            [
             0.4,
             "#fde0ef"
            ],
            [
             0.5,
             "#f7f7f7"
            ],
            [
             0.6,
             "#e6f5d0"
            ],
            [
             0.7,
             "#b8e186"
            ],
            [
             0.8,
             "#7fbc41"
            ],
            [
             0.9,
             "#4d9221"
            ],
            [
             1,
             "#276419"
            ]
           ],
           "sequential": [
            [
             0,
             "#0d0887"
            ],
            [
             0.1111111111111111,
             "#46039f"
            ],
            [
             0.2222222222222222,
             "#7201a8"
            ],
            [
             0.3333333333333333,
             "#9c179e"
            ],
            [
             0.4444444444444444,
             "#bd3786"
            ],
            [
             0.5555555555555556,
             "#d8576b"
            ],
            [
             0.6666666666666666,
             "#ed7953"
            ],
            [
             0.7777777777777778,
             "#fb9f3a"
            ],
            [
             0.8888888888888888,
             "#fdca26"
            ],
            [
             1,
             "#f0f921"
            ]
           ],
           "sequentialminus": [
            [
             0,
             "#0d0887"
            ],
            [
             0.1111111111111111,
             "#46039f"
            ],
            [
             0.2222222222222222,
             "#7201a8"
            ],
            [
             0.3333333333333333,
             "#9c179e"
            ],
            [
             0.4444444444444444,
             "#bd3786"
            ],
            [
             0.5555555555555556,
             "#d8576b"
            ],
            [
             0.6666666666666666,
             "#ed7953"
            ],
            [
             0.7777777777777778,
             "#fb9f3a"
            ],
            [
             0.8888888888888888,
             "#fdca26"
            ],
            [
             1,
             "#f0f921"
            ]
           ]
          },
          "colorway": [
           "#636efa",
           "#EF553B",
           "#00cc96",
           "#ab63fa",
           "#FFA15A",
           "#19d3f3",
           "#FF6692",
           "#B6E880",
           "#FF97FF",
           "#FECB52"
          ],
          "font": {
           "color": "#2a3f5f"
          },
          "geo": {
           "bgcolor": "white",
           "lakecolor": "white",
           "landcolor": "#E5ECF6",
           "showlakes": true,
           "showland": true,
           "subunitcolor": "white"
          },
          "hoverlabel": {
           "align": "left"
          },
          "hovermode": "closest",
          "mapbox": {
           "style": "light"
          },
          "paper_bgcolor": "white",
          "plot_bgcolor": "#E5ECF6",
          "polar": {
           "angularaxis": {
            "gridcolor": "white",
            "linecolor": "white",
            "ticks": ""
           },
           "bgcolor": "#E5ECF6",
           "radialaxis": {
            "gridcolor": "white",
            "linecolor": "white",
            "ticks": ""
           }
          },
          "scene": {
           "xaxis": {
            "backgroundcolor": "#E5ECF6",
            "gridcolor": "white",
            "gridwidth": 2,
            "linecolor": "white",
            "showbackground": true,
            "ticks": "",
            "zerolinecolor": "white"
           },
           "yaxis": {
            "backgroundcolor": "#E5ECF6",
            "gridcolor": "white",
            "gridwidth": 2,
            "linecolor": "white",
            "showbackground": true,
            "ticks": "",
            "zerolinecolor": "white"
           },
           "zaxis": {
            "backgroundcolor": "#E5ECF6",
            "gridcolor": "white",
            "gridwidth": 2,
            "linecolor": "white",
            "showbackground": true,
            "ticks": "",
            "zerolinecolor": "white"
           }
          },
          "shapedefaults": {
           "line": {
            "color": "#2a3f5f"
           }
          },
          "ternary": {
           "aaxis": {
            "gridcolor": "white",
            "linecolor": "white",
            "ticks": ""
           },
           "baxis": {
            "gridcolor": "white",
            "linecolor": "white",
            "ticks": ""
           },
           "bgcolor": "#E5ECF6",
           "caxis": {
            "gridcolor": "white",
            "linecolor": "white",
            "ticks": ""
           }
          },
          "title": {
           "x": 0.05
          },
          "xaxis": {
           "automargin": true,
           "gridcolor": "white",
           "linecolor": "white",
           "ticks": "",
           "title": {
            "standoff": 15
           },
           "zerolinecolor": "white",
           "zerolinewidth": 2
          },
          "yaxis": {
           "automargin": true,
           "gridcolor": "white",
           "linecolor": "white",
           "ticks": "",
           "title": {
            "standoff": 15
           },
           "zerolinecolor": "white",
           "zerolinewidth": 2
          }
         }
        }
       }
      }
     },
     "metadata": {},
     "output_type": "display_data"
    }
   ],
   "source": [
    "import plotly.express as px\n",
    "\n",
    "fig = px.pie(df, values='visitors', names='date', color_discrete_sequence=px.colors.sequential.RdBu)\n",
    "fig.show()"
   ]
  },
  {
   "cell_type": "code",
   "execution_count": 13,
   "metadata": {},
   "outputs": [
    {
     "data": {
      "application/vnd.plotly.v1+json": {
       "config": {
        "plotlyServerURL": "https://plot.ly"
       },
       "data": [
        {
         "name": "visitors",
         "type": "scatter",
         "x": [
          "1",
          "2",
          "3"
         ],
         "y": [
          1,
          10,
          100
         ]
        }
       ],
       "layout": {
        "template": {
         "data": {
          "bar": [
           {
            "error_x": {
             "color": "#2a3f5f"
            },
            "error_y": {
             "color": "#2a3f5f"
            },
            "marker": {
             "line": {
              "color": "#E5ECF6",
              "width": 0.5
             },
             "pattern": {
              "fillmode": "overlay",
              "size": 10,
              "solidity": 0.2
             }
            },
            "type": "bar"
           }
          ],
          "barpolar": [
           {
            "marker": {
             "line": {
              "color": "#E5ECF6",
              "width": 0.5
             },
             "pattern": {
              "fillmode": "overlay",
              "size": 10,
              "solidity": 0.2
             }
            },
            "type": "barpolar"
           }
          ],
          "carpet": [
           {
            "aaxis": {
             "endlinecolor": "#2a3f5f",
             "gridcolor": "white",
             "linecolor": "white",
             "minorgridcolor": "white",
             "startlinecolor": "#2a3f5f"
            },
            "baxis": {
             "endlinecolor": "#2a3f5f",
             "gridcolor": "white",
             "linecolor": "white",
             "minorgridcolor": "white",
             "startlinecolor": "#2a3f5f"
            },
            "type": "carpet"
           }
          ],
          "choropleth": [
           {
            "colorbar": {
             "outlinewidth": 0,
             "ticks": ""
            },
            "type": "choropleth"
           }
          ],
          "contour": [
           {
            "colorbar": {
             "outlinewidth": 0,
             "ticks": ""
            },
            "colorscale": [
             [
              0,
              "#0d0887"
             ],
             [
              0.1111111111111111,
              "#46039f"
             ],
             [
              0.2222222222222222,
              "#7201a8"
             ],
             [
              0.3333333333333333,
              "#9c179e"
             ],
             [
              0.4444444444444444,
              "#bd3786"
             ],
             [
              0.5555555555555556,
              "#d8576b"
             ],
             [
              0.6666666666666666,
              "#ed7953"
             ],
             [
              0.7777777777777778,
              "#fb9f3a"
             ],
             [
              0.8888888888888888,
              "#fdca26"
             ],
             [
              1,
              "#f0f921"
             ]
            ],
            "type": "contour"
           }
          ],
          "contourcarpet": [
           {
            "colorbar": {
             "outlinewidth": 0,
             "ticks": ""
            },
            "type": "contourcarpet"
           }
          ],
          "heatmap": [
           {
            "colorbar": {
             "outlinewidth": 0,
             "ticks": ""
            },
            "colorscale": [
             [
              0,
              "#0d0887"
             ],
             [
              0.1111111111111111,
              "#46039f"
             ],
             [
              0.2222222222222222,
              "#7201a8"
             ],
             [
              0.3333333333333333,
              "#9c179e"
             ],
             [
              0.4444444444444444,
              "#bd3786"
             ],
             [
              0.5555555555555556,
              "#d8576b"
             ],
             [
              0.6666666666666666,
              "#ed7953"
             ],
             [
              0.7777777777777778,
              "#fb9f3a"
             ],
             [
              0.8888888888888888,
              "#fdca26"
             ],
             [
              1,
              "#f0f921"
             ]
            ],
            "type": "heatmap"
           }
          ],
          "heatmapgl": [
           {
            "colorbar": {
             "outlinewidth": 0,
             "ticks": ""
            },
            "colorscale": [
             [
              0,
              "#0d0887"
             ],
             [
              0.1111111111111111,
              "#46039f"
             ],
             [
              0.2222222222222222,
              "#7201a8"
             ],
             [
              0.3333333333333333,
              "#9c179e"
             ],
             [
              0.4444444444444444,
              "#bd3786"
             ],
             [
              0.5555555555555556,
              "#d8576b"
             ],
             [
              0.6666666666666666,
              "#ed7953"
             ],
             [
              0.7777777777777778,
              "#fb9f3a"
             ],
             [
              0.8888888888888888,
              "#fdca26"
             ],
             [
              1,
              "#f0f921"
             ]
            ],
            "type": "heatmapgl"
           }
          ],
          "histogram": [
           {
            "marker": {
             "pattern": {
              "fillmode": "overlay",
              "size": 10,
              "solidity": 0.2
             }
            },
            "type": "histogram"
           }
          ],
          "histogram2d": [
           {
            "colorbar": {
             "outlinewidth": 0,
             "ticks": ""
            },
            "colorscale": [
             [
              0,
              "#0d0887"
             ],
             [
              0.1111111111111111,
              "#46039f"
             ],
             [
              0.2222222222222222,
              "#7201a8"
             ],
             [
              0.3333333333333333,
              "#9c179e"
             ],
             [
              0.4444444444444444,
              "#bd3786"
             ],
             [
              0.5555555555555556,
              "#d8576b"
             ],
             [
              0.6666666666666666,
              "#ed7953"
             ],
             [
              0.7777777777777778,
              "#fb9f3a"
             ],
             [
              0.8888888888888888,
              "#fdca26"
             ],
             [
              1,
              "#f0f921"
             ]
            ],
            "type": "histogram2d"
           }
          ],
          "histogram2dcontour": [
           {
            "colorbar": {
             "outlinewidth": 0,
             "ticks": ""
            },
            "colorscale": [
             [
              0,
              "#0d0887"
             ],
             [
              0.1111111111111111,
              "#46039f"
             ],
             [
              0.2222222222222222,
              "#7201a8"
             ],
             [
              0.3333333333333333,
              "#9c179e"
             ],
             [
              0.4444444444444444,
              "#bd3786"
             ],
             [
              0.5555555555555556,
              "#d8576b"
             ],
             [
              0.6666666666666666,
              "#ed7953"
             ],
             [
              0.7777777777777778,
              "#fb9f3a"
             ],
             [
              0.8888888888888888,
              "#fdca26"
             ],
             [
              1,
              "#f0f921"
             ]
            ],
            "type": "histogram2dcontour"
           }
          ],
          "mesh3d": [
           {
            "colorbar": {
             "outlinewidth": 0,
             "ticks": ""
            },
            "type": "mesh3d"
           }
          ],
          "parcoords": [
           {
            "line": {
             "colorbar": {
              "outlinewidth": 0,
              "ticks": ""
             }
            },
            "type": "parcoords"
           }
          ],
          "pie": [
           {
            "automargin": true,
            "type": "pie"
           }
          ],
          "scatter": [
           {
            "fillpattern": {
             "fillmode": "overlay",
             "size": 10,
             "solidity": 0.2
            },
            "type": "scatter"
           }
          ],
          "scatter3d": [
           {
            "line": {
             "colorbar": {
              "outlinewidth": 0,
              "ticks": ""
             }
            },
            "marker": {
             "colorbar": {
              "outlinewidth": 0,
              "ticks": ""
             }
            },
            "type": "scatter3d"
           }
          ],
          "scattercarpet": [
           {
            "marker": {
             "colorbar": {
              "outlinewidth": 0,
              "ticks": ""
             }
            },
            "type": "scattercarpet"
           }
          ],
          "scattergeo": [
           {
            "marker": {
             "colorbar": {
              "outlinewidth": 0,
              "ticks": ""
             }
            },
            "type": "scattergeo"
           }
          ],
          "scattergl": [
           {
            "marker": {
             "colorbar": {
              "outlinewidth": 0,
              "ticks": ""
             }
            },
            "type": "scattergl"
           }
          ],
          "scattermapbox": [
           {
            "marker": {
             "colorbar": {
              "outlinewidth": 0,
              "ticks": ""
             }
            },
            "type": "scattermapbox"
           }
          ],
          "scatterpolar": [
           {
            "marker": {
             "colorbar": {
              "outlinewidth": 0,
              "ticks": ""
             }
            },
            "type": "scatterpolar"
           }
          ],
          "scatterpolargl": [
           {
            "marker": {
             "colorbar": {
              "outlinewidth": 0,
              "ticks": ""
             }
            },
            "type": "scatterpolargl"
           }
          ],
          "scatterternary": [
           {
            "marker": {
             "colorbar": {
              "outlinewidth": 0,
              "ticks": ""
             }
            },
            "type": "scatterternary"
           }
          ],
          "surface": [
           {
            "colorbar": {
             "outlinewidth": 0,
             "ticks": ""
            },
            "colorscale": [
             [
              0,
              "#0d0887"
             ],
             [
              0.1111111111111111,
              "#46039f"
             ],
             [
              0.2222222222222222,
              "#7201a8"
             ],
             [
              0.3333333333333333,
              "#9c179e"
             ],
             [
              0.4444444444444444,
              "#bd3786"
             ],
             [
              0.5555555555555556,
              "#d8576b"
             ],
             [
              0.6666666666666666,
              "#ed7953"
             ],
             [
              0.7777777777777778,
              "#fb9f3a"
             ],
             [
              0.8888888888888888,
              "#fdca26"
             ],
             [
              1,
              "#f0f921"
             ]
            ],
            "type": "surface"
           }
          ],
          "table": [
           {
            "cells": {
             "fill": {
              "color": "#EBF0F8"
             },
             "line": {
              "color": "white"
             }
            },
            "header": {
             "fill": {
              "color": "#C8D4E3"
             },
             "line": {
              "color": "white"
             }
            },
            "type": "table"
           }
          ]
         },
         "layout": {
          "annotationdefaults": {
           "arrowcolor": "#2a3f5f",
           "arrowhead": 0,
           "arrowwidth": 1
          },
          "autotypenumbers": "strict",
          "coloraxis": {
           "colorbar": {
            "outlinewidth": 0,
            "ticks": ""
           }
          },
          "colorscale": {
           "diverging": [
            [
             0,
             "#8e0152"
            ],
            [
             0.1,
             "#c51b7d"
            ],
            [
             0.2,
             "#de77ae"
            ],
            [
             0.3,
             "#f1b6da"
            ],
            [
             0.4,
             "#fde0ef"
            ],
            [
             0.5,
             "#f7f7f7"
            ],
            [
             0.6,
             "#e6f5d0"
            ],
            [
             0.7,
             "#b8e186"
            ],
            [
             0.8,
             "#7fbc41"
            ],
            [
             0.9,
             "#4d9221"
            ],
            [
             1,
             "#276419"
            ]
           ],
           "sequential": [
            [
             0,
             "#0d0887"
            ],
            [
             0.1111111111111111,
             "#46039f"
            ],
            [
             0.2222222222222222,
             "#7201a8"
            ],
            [
             0.3333333333333333,
             "#9c179e"
            ],
            [
             0.4444444444444444,
             "#bd3786"
            ],
            [
             0.5555555555555556,
             "#d8576b"
            ],
            [
             0.6666666666666666,
             "#ed7953"
            ],
            [
             0.7777777777777778,
             "#fb9f3a"
            ],
            [
             0.8888888888888888,
             "#fdca26"
            ],
            [
             1,
             "#f0f921"
            ]
           ],
           "sequentialminus": [
            [
             0,
             "#0d0887"
            ],
            [
             0.1111111111111111,
             "#46039f"
            ],
            [
             0.2222222222222222,
             "#7201a8"
            ],
            [
             0.3333333333333333,
             "#9c179e"
            ],
            [
             0.4444444444444444,
             "#bd3786"
            ],
            [
             0.5555555555555556,
             "#d8576b"
            ],
            [
             0.6666666666666666,
             "#ed7953"
            ],
            [
             0.7777777777777778,
             "#fb9f3a"
            ],
            [
             0.8888888888888888,
             "#fdca26"
            ],
            [
             1,
             "#f0f921"
            ]
           ]
          },
          "colorway": [
           "#636efa",
           "#EF553B",
           "#00cc96",
           "#ab63fa",
           "#FFA15A",
           "#19d3f3",
           "#FF6692",
           "#B6E880",
           "#FF97FF",
           "#FECB52"
          ],
          "font": {
           "color": "#2a3f5f"
          },
          "geo": {
           "bgcolor": "white",
           "lakecolor": "white",
           "landcolor": "#E5ECF6",
           "showlakes": true,
           "showland": true,
           "subunitcolor": "white"
          },
          "hoverlabel": {
           "align": "left"
          },
          "hovermode": "closest",
          "mapbox": {
           "style": "light"
          },
          "paper_bgcolor": "white",
          "plot_bgcolor": "#E5ECF6",
          "polar": {
           "angularaxis": {
            "gridcolor": "white",
            "linecolor": "white",
            "ticks": ""
           },
           "bgcolor": "#E5ECF6",
           "radialaxis": {
            "gridcolor": "white",
            "linecolor": "white",
            "ticks": ""
           }
          },
          "scene": {
           "xaxis": {
            "backgroundcolor": "#E5ECF6",
            "gridcolor": "white",
            "gridwidth": 2,
            "linecolor": "white",
            "showbackground": true,
            "ticks": "",
            "zerolinecolor": "white"
           },
           "yaxis": {
            "backgroundcolor": "#E5ECF6",
            "gridcolor": "white",
            "gridwidth": 2,
            "linecolor": "white",
            "showbackground": true,
            "ticks": "",
            "zerolinecolor": "white"
           },
           "zaxis": {
            "backgroundcolor": "#E5ECF6",
            "gridcolor": "white",
            "gridwidth": 2,
            "linecolor": "white",
            "showbackground": true,
            "ticks": "",
            "zerolinecolor": "white"
           }
          },
          "shapedefaults": {
           "line": {
            "color": "#2a3f5f"
           }
          },
          "ternary": {
           "aaxis": {
            "gridcolor": "white",
            "linecolor": "white",
            "ticks": ""
           },
           "baxis": {
            "gridcolor": "white",
            "linecolor": "white",
            "ticks": ""
           },
           "bgcolor": "#E5ECF6",
           "caxis": {
            "gridcolor": "white",
            "linecolor": "white",
            "ticks": ""
           }
          },
          "title": {
           "x": 0.05
          },
          "xaxis": {
           "automargin": true,
           "gridcolor": "white",
           "linecolor": "white",
           "ticks": "",
           "title": {
            "standoff": 15
           },
           "zerolinecolor": "white",
           "zerolinewidth": 2
          },
          "yaxis": {
           "automargin": true,
           "gridcolor": "white",
           "linecolor": "white",
           "ticks": "",
           "title": {
            "standoff": 15
           },
           "zerolinecolor": "white",
           "zerolinewidth": 2
          }
         }
        }
       }
      }
     },
     "metadata": {},
     "output_type": "display_data"
    }
   ],
   "source": [
    "\n",
    "import plotly.graph_objs as go\n",
    "\n",
    "fig = go.Figure()\n",
    "fig.add_trace(go.Scatter(x=df['date'], y=df['visitors'],  name='visitors'))"
   ]
  },
  {
   "cell_type": "code",
   "execution_count": null,
   "metadata": {},
   "outputs": [],
   "source": []
  },
  {
   "cell_type": "code",
   "execution_count": 1,
   "metadata": {},
   "outputs": [],
   "source": [
    "import parser\n",
    "\n",
    "data = parser.parse_some_news()"
   ]
  },
  {
   "cell_type": "code",
   "execution_count": 7,
   "metadata": {},
   "outputs": [],
   "source": [
    "import pandas as pd"
   ]
  },
  {
   "cell_type": "code",
   "execution_count": 14,
   "metadata": {},
   "outputs": [],
   "source": [
    "data['date'] = pd.to_datetime(data['date'], format='mixed')"
   ]
  },
  {
   "cell_type": "code",
   "execution_count": 16,
   "metadata": {},
   "outputs": [
    {
     "data": {
      "text/plain": [
       "date        datetime64[ns]\n",
       "author              object\n",
       "visitors             int64\n",
       "post_tag            object\n",
       "post_id             object\n",
       "link                object\n",
       "dtype: object"
      ]
     },
     "execution_count": 16,
     "metadata": {},
     "output_type": "execute_result"
    }
   ],
   "source": [
    "data.dtypes"
   ]
  },
  {
   "cell_type": "code",
   "execution_count": 2,
   "metadata": {},
   "outputs": [
    {
     "data": {
      "text/html": [
       "<div>\n",
       "<style scoped>\n",
       "    .dataframe tbody tr th:only-of-type {\n",
       "        vertical-align: middle;\n",
       "    }\n",
       "\n",
       "    .dataframe tbody tr th {\n",
       "        vertical-align: top;\n",
       "    }\n",
       "\n",
       "    .dataframe thead th {\n",
       "        text-align: right;\n",
       "    }\n",
       "</style>\n",
       "<table border=\"1\" class=\"dataframe\">\n",
       "  <thead>\n",
       "    <tr style=\"text-align: right;\">\n",
       "      <th></th>\n",
       "      <th>date</th>\n",
       "      <th>author</th>\n",
       "      <th>visitors</th>\n",
       "      <th>post_tag</th>\n",
       "      <th>post_id</th>\n",
       "      <th>link</th>\n",
       "      <th>views</th>\n",
       "    </tr>\n",
       "  </thead>\n",
       "  <tbody>\n",
       "    <tr>\n",
       "      <th>0</th>\n",
       "      <td>2023-11-27</td>\n",
       "      <td>Борисова Ольга Борисовна</td>\n",
       "      <td>19261</td>\n",
       "      <td>Право</td>\n",
       "      <td>317493</td>\n",
       "      <td>https://adindex.ru/news/right/2023/11/27/31749...</td>\n",
       "      <td>24338</td>\n",
       "    </tr>\n",
       "    <tr>\n",
       "      <th>1</th>\n",
       "      <td>2023-11-27</td>\n",
       "      <td>Иванов Иван Иванович</td>\n",
       "      <td>4870</td>\n",
       "      <td>Тенденции</td>\n",
       "      <td>317491</td>\n",
       "      <td>https://adindex.ru/news/tendencies/2023/11/27/...</td>\n",
       "      <td>6358</td>\n",
       "    </tr>\n",
       "    <tr>\n",
       "      <th>2</th>\n",
       "      <td>2023-11-27</td>\n",
       "      <td>Васильева Екатерина Васильевна</td>\n",
       "      <td>12246</td>\n",
       "      <td>AdYummy!</td>\n",
       "      <td>317488</td>\n",
       "      <td>https://adindex.ru/news/adyummy/2023/11/27/317...</td>\n",
       "      <td>12466</td>\n",
       "    </tr>\n",
       "    <tr>\n",
       "      <th>3</th>\n",
       "      <td>2023-11-27</td>\n",
       "      <td>Борисова Ольга Борисовна</td>\n",
       "      <td>3374</td>\n",
       "      <td>Пресс-релизы</td>\n",
       "      <td>317482</td>\n",
       "      <td>https://adindex.ru/news/releases/2023/11/27/31...</td>\n",
       "      <td>3931</td>\n",
       "    </tr>\n",
       "    <tr>\n",
       "      <th>4</th>\n",
       "      <td>2023-11-27</td>\n",
       "      <td>Жукова Ирина Ильинична</td>\n",
       "      <td>5143</td>\n",
       "      <td>Социальные проекты</td>\n",
       "      <td>317486</td>\n",
       "      <td>https://adindex.ru/news/social_advertising/202...</td>\n",
       "      <td>5377</td>\n",
       "    </tr>\n",
       "    <tr>\n",
       "      <th>5</th>\n",
       "      <td>2023-11-27</td>\n",
       "      <td>Сидоров Антон Владимирович</td>\n",
       "      <td>4150</td>\n",
       "      <td>AdYummy!</td>\n",
       "      <td>317485</td>\n",
       "      <td>https://adindex.ru/news/adyummy/2023/11/27/317...</td>\n",
       "      <td>4278</td>\n",
       "    </tr>\n",
       "    <tr>\n",
       "      <th>6</th>\n",
       "      <td>2023-11-27</td>\n",
       "      <td>Егорова Надежда Андреевна</td>\n",
       "      <td>16561</td>\n",
       "      <td>Маркетинг</td>\n",
       "      <td>317484</td>\n",
       "      <td>https://adindex.ru/news/marketing/2023/11/27/3...</td>\n",
       "      <td>19550</td>\n",
       "    </tr>\n",
       "    <tr>\n",
       "      <th>7</th>\n",
       "      <td>2023-11-27</td>\n",
       "      <td>Васильева Екатерина Васильевна</td>\n",
       "      <td>11060</td>\n",
       "      <td>Пресс-релизы</td>\n",
       "      <td>317477</td>\n",
       "      <td>https://adindex.ru/news/releases/2023/11/27/31...</td>\n",
       "      <td>15063</td>\n",
       "    </tr>\n",
       "    <tr>\n",
       "      <th>8</th>\n",
       "      <td>2023-11-27</td>\n",
       "      <td>Данилова Светлана Викторовна</td>\n",
       "      <td>15603</td>\n",
       "      <td>Пресс-релизы</td>\n",
       "      <td>317478</td>\n",
       "      <td>https://adindex.ru/news/releases/2023/11/27/31...</td>\n",
       "      <td>21007</td>\n",
       "    </tr>\n",
       "    <tr>\n",
       "      <th>9</th>\n",
       "      <td>2023-11-27</td>\n",
       "      <td>Андреева Анастасия Андреевна</td>\n",
       "      <td>15988</td>\n",
       "      <td>Креатив</td>\n",
       "      <td>317476</td>\n",
       "      <td>https://adindex.ru/news/creative/2023/11/27/31...</td>\n",
       "      <td>19240</td>\n",
       "    </tr>\n",
       "    <tr>\n",
       "      <th>10</th>\n",
       "      <td>2023-11-27</td>\n",
       "      <td>Петрова Мария Сергеевна</td>\n",
       "      <td>1026</td>\n",
       "      <td>Digital</td>\n",
       "      <td>317474</td>\n",
       "      <td>https://adindex.ru/news/digital/2023/11/27/317...</td>\n",
       "      <td>1371</td>\n",
       "    </tr>\n",
       "    <tr>\n",
       "      <th>11</th>\n",
       "      <td>2023-11-27</td>\n",
       "      <td>Григорьева Людмила Григорьевна</td>\n",
       "      <td>4868</td>\n",
       "      <td>Наружная реклама</td>\n",
       "      <td>317470</td>\n",
       "      <td>https://adindex.ru/news/ooh/2023/11/27/317470....</td>\n",
       "      <td>7131</td>\n",
       "    </tr>\n",
       "    <tr>\n",
       "      <th>12</th>\n",
       "      <td>2023-11-27</td>\n",
       "      <td>Данилова Светлана Викторовна</td>\n",
       "      <td>5917</td>\n",
       "      <td>Креатив</td>\n",
       "      <td>317468</td>\n",
       "      <td>https://adindex.ru/news/creative/2023/11/27/31...</td>\n",
       "      <td>8532</td>\n",
       "    </tr>\n",
       "    <tr>\n",
       "      <th>13</th>\n",
       "      <td>2023-11-27</td>\n",
       "      <td>Андреева Анастасия Андреевна</td>\n",
       "      <td>9577</td>\n",
       "      <td>Маркетинг</td>\n",
       "      <td>317466</td>\n",
       "      <td>https://adindex.ru/news/marketing/2023/11/27/3...</td>\n",
       "      <td>10689</td>\n",
       "    </tr>\n",
       "    <tr>\n",
       "      <th>14</th>\n",
       "      <td>2023-11-27</td>\n",
       "      <td>Жукова Ирина Ильинична</td>\n",
       "      <td>3535</td>\n",
       "      <td>Тенденции</td>\n",
       "      <td>317465</td>\n",
       "      <td>https://adindex.ru/news/tendencies/2023/11/27/...</td>\n",
       "      <td>4145</td>\n",
       "    </tr>\n",
       "    <tr>\n",
       "      <th>15</th>\n",
       "      <td>2023-11-27</td>\n",
       "      <td>Жукова Ирина Ильинична</td>\n",
       "      <td>3960</td>\n",
       "      <td>Тенденции</td>\n",
       "      <td>317463</td>\n",
       "      <td>https://adindex.ru/news/tendencies/2023/11/27/...</td>\n",
       "      <td>5596</td>\n",
       "    </tr>\n",
       "  </tbody>\n",
       "</table>\n",
       "</div>"
      ],
      "text/plain": [
       "         date                          author  visitors            post_tag  \\\n",
       "0  2023-11-27        Борисова Ольга Борисовна     19261               Право   \n",
       "1  2023-11-27            Иванов Иван Иванович      4870           Тенденции   \n",
       "2  2023-11-27  Васильева Екатерина Васильевна     12246            AdYummy!   \n",
       "3  2023-11-27        Борисова Ольга Борисовна      3374        Пресс-релизы   \n",
       "4  2023-11-27          Жукова Ирина Ильинична      5143  Социальные проекты   \n",
       "5  2023-11-27      Сидоров Антон Владимирович      4150            AdYummy!   \n",
       "6  2023-11-27       Егорова Надежда Андреевна     16561           Маркетинг   \n",
       "7  2023-11-27  Васильева Екатерина Васильевна     11060        Пресс-релизы   \n",
       "8  2023-11-27    Данилова Светлана Викторовна     15603        Пресс-релизы   \n",
       "9  2023-11-27    Андреева Анастасия Андреевна     15988             Креатив   \n",
       "10 2023-11-27         Петрова Мария Сергеевна      1026             Digital   \n",
       "11 2023-11-27  Григорьева Людмила Григорьевна      4868    Наружная реклама   \n",
       "12 2023-11-27    Данилова Светлана Викторовна      5917             Креатив   \n",
       "13 2023-11-27    Андреева Анастасия Андреевна      9577           Маркетинг   \n",
       "14 2023-11-27          Жукова Ирина Ильинична      3535           Тенденции   \n",
       "15 2023-11-27          Жукова Ирина Ильинична      3960           Тенденции   \n",
       "\n",
       "   post_id                                               link  views  \n",
       "0   317493  https://adindex.ru/news/right/2023/11/27/31749...  24338  \n",
       "1   317491  https://adindex.ru/news/tendencies/2023/11/27/...   6358  \n",
       "2   317488  https://adindex.ru/news/adyummy/2023/11/27/317...  12466  \n",
       "3   317482  https://adindex.ru/news/releases/2023/11/27/31...   3931  \n",
       "4   317486  https://adindex.ru/news/social_advertising/202...   5377  \n",
       "5   317485  https://adindex.ru/news/adyummy/2023/11/27/317...   4278  \n",
       "6   317484  https://adindex.ru/news/marketing/2023/11/27/3...  19550  \n",
       "7   317477  https://adindex.ru/news/releases/2023/11/27/31...  15063  \n",
       "8   317478  https://adindex.ru/news/releases/2023/11/27/31...  21007  \n",
       "9   317476  https://adindex.ru/news/creative/2023/11/27/31...  19240  \n",
       "10  317474  https://adindex.ru/news/digital/2023/11/27/317...   1371  \n",
       "11  317470  https://adindex.ru/news/ooh/2023/11/27/317470....   7131  \n",
       "12  317468  https://adindex.ru/news/creative/2023/11/27/31...   8532  \n",
       "13  317466  https://adindex.ru/news/marketing/2023/11/27/3...  10689  \n",
       "14  317465  https://adindex.ru/news/tendencies/2023/11/27/...   4145  \n",
       "15  317463  https://adindex.ru/news/tendencies/2023/11/27/...   5596  "
      ]
     },
     "execution_count": 2,
     "metadata": {},
     "output_type": "execute_result"
    }
   ],
   "source": [
    "data.sort_values('date')"
   ]
  },
  {
   "cell_type": "code",
   "execution_count": 1,
   "metadata": {},
   "outputs": [],
   "source": [
    "import pandas as pd"
   ]
  },
  {
   "cell_type": "code",
   "execution_count": 6,
   "metadata": {},
   "outputs": [],
   "source": [
    "pd.DataFrame().to_csv('./csvs/AdIndex news METRICS 2023-12-14__2023-12-18.csv')"
   ]
  },
  {
   "cell_type": "code",
   "execution_count": 43,
   "metadata": {},
   "outputs": [],
   "source": [
    "df_left = pd.read_csv('./csvs/AdIndex news 2023-12-14__2023-12-18.csv', index_col=0)\n",
    "df_right = pd.read_csv('./csvs/AdIndex news metrics 2023-12-14__2023-12-18.csv', index_col=0)"
   ]
  },
  {
   "cell_type": "code",
   "execution_count": 21,
   "metadata": {},
   "outputs": [],
   "source": [
    "df_left = pd.concat([df_left, pd.DataFrame([{'post_id' : 0}])], ignore_index=True)"
   ]
  },
  {
   "cell_type": "code",
   "execution_count": 44,
   "metadata": {},
   "outputs": [
    {
     "data": {
      "text/html": [
       "<div>\n",
       "<style scoped>\n",
       "    .dataframe tbody tr th:only-of-type {\n",
       "        vertical-align: middle;\n",
       "    }\n",
       "\n",
       "    .dataframe tbody tr th {\n",
       "        vertical-align: top;\n",
       "    }\n",
       "\n",
       "    .dataframe thead th {\n",
       "        text-align: right;\n",
       "    }\n",
       "</style>\n",
       "<table border=\"1\" class=\"dataframe\">\n",
       "  <thead>\n",
       "    <tr style=\"text-align: right;\">\n",
       "      <th></th>\n",
       "      <th>date</th>\n",
       "      <th>author</th>\n",
       "      <th>post_tag</th>\n",
       "      <th>post_id</th>\n",
       "      <th>link</th>\n",
       "    </tr>\n",
       "  </thead>\n",
       "  <tbody>\n",
       "    <tr>\n",
       "      <th>0</th>\n",
       "      <td>2023-12-18 19:03:00</td>\n",
       "      <td>Данилова Светлана Викторовна</td>\n",
       "      <td>Эккаунты</td>\n",
       "      <td>318949</td>\n",
       "      <td>https://adindex.ru/news/ek/2023/12/18/318949.p...</td>\n",
       "    </tr>\n",
       "    <tr>\n",
       "      <th>1</th>\n",
       "      <td>2023-12-18 18:51:00</td>\n",
       "      <td>Петрова Мария Сергеевна</td>\n",
       "      <td>Тенденции</td>\n",
       "      <td>318946</td>\n",
       "      <td>https://adindex.ru/news/tendencies/2023/12/18/...</td>\n",
       "    </tr>\n",
       "    <tr>\n",
       "      <th>2</th>\n",
       "      <td>2023-12-18 18:48:00</td>\n",
       "      <td>Сидоров Антон Владимирович</td>\n",
       "      <td>Маркетинг</td>\n",
       "      <td>318945</td>\n",
       "      <td>https://adindex.ru/news/marketing/2023/12/18/3...</td>\n",
       "    </tr>\n",
       "    <tr>\n",
       "      <th>3</th>\n",
       "      <td>2023-12-18 18:31:00</td>\n",
       "      <td>Андреева Анастасия Андреевна</td>\n",
       "      <td>Дизайн</td>\n",
       "      <td>318944</td>\n",
       "      <td>https://adindex.ru/news/design/2023/12/18/3189...</td>\n",
       "    </tr>\n",
       "    <tr>\n",
       "      <th>4</th>\n",
       "      <td>2023-12-18 17:51:00</td>\n",
       "      <td>Данилова Светлана Викторовна</td>\n",
       "      <td>Креатив</td>\n",
       "      <td>318936</td>\n",
       "      <td>https://adindex.ru/news/creative/2023/12/18/31...</td>\n",
       "    </tr>\n",
       "    <tr>\n",
       "      <th>5</th>\n",
       "      <td>2023-12-18 16:58:00</td>\n",
       "      <td>Григорьева Людмила Григорьевна</td>\n",
       "      <td>Медиа</td>\n",
       "      <td>318923</td>\n",
       "      <td>https://adindex.ru/news/media/2023/12/18/31892...</td>\n",
       "    </tr>\n",
       "    <tr>\n",
       "      <th>6</th>\n",
       "      <td>2023-12-18 14:32:00</td>\n",
       "      <td>Егорова Надежда Андреевна</td>\n",
       "      <td>Digital</td>\n",
       "      <td>318864</td>\n",
       "      <td>https://adindex.ru/news/digital/2023/12/18/318...</td>\n",
       "    </tr>\n",
       "    <tr>\n",
       "      <th>7</th>\n",
       "      <td>2023-12-18 13:51:00</td>\n",
       "      <td>Данилова Светлана Викторовна</td>\n",
       "      <td>Право</td>\n",
       "      <td>318862</td>\n",
       "      <td>https://adindex.ru/news/right/2023/12/18/31886...</td>\n",
       "    </tr>\n",
       "    <tr>\n",
       "      <th>8</th>\n",
       "      <td>2023-12-18 13:03:00</td>\n",
       "      <td>Сидоров Антон Владимирович</td>\n",
       "      <td>Пресс-релизы</td>\n",
       "      <td>318819</td>\n",
       "      <td>https://adindex.ru/news/releases/2023/12/18/31...</td>\n",
       "    </tr>\n",
       "    <tr>\n",
       "      <th>9</th>\n",
       "      <td>2023-12-18 12:53:00</td>\n",
       "      <td>Васильева Екатерина Васильевна</td>\n",
       "      <td>Исследования</td>\n",
       "      <td>318849</td>\n",
       "      <td>https://adindex.ru/news/researches/2023/12/18/...</td>\n",
       "    </tr>\n",
       "    <tr>\n",
       "      <th>10</th>\n",
       "      <td>2023-12-18 12:35:00</td>\n",
       "      <td>Сидоров Антон Владимирович</td>\n",
       "      <td>Исследования</td>\n",
       "      <td>318842</td>\n",
       "      <td>https://adindex.ru/news/researches/2023/12/18/...</td>\n",
       "    </tr>\n",
       "    <tr>\n",
       "      <th>11</th>\n",
       "      <td>2023-12-18 11:18:00</td>\n",
       "      <td>Иванов Иван Иванович</td>\n",
       "      <td>Медиа</td>\n",
       "      <td>318818</td>\n",
       "      <td>https://adindex.ru/news/media/2023/12/18/31881...</td>\n",
       "    </tr>\n",
       "    <tr>\n",
       "      <th>12</th>\n",
       "      <td>2023-12-18 09:43:00</td>\n",
       "      <td>Иванов Иван Иванович</td>\n",
       "      <td>Креатив</td>\n",
       "      <td>318793</td>\n",
       "      <td>https://adindex.ru/news/creative/2023/12/18/31...</td>\n",
       "    </tr>\n",
       "    <tr>\n",
       "      <th>13</th>\n",
       "      <td>2023-12-18 09:02:00</td>\n",
       "      <td>Иванов Иван Иванович</td>\n",
       "      <td>Тенденции</td>\n",
       "      <td>318791</td>\n",
       "      <td>https://adindex.ru/news/tendencies/2023/12/18/...</td>\n",
       "    </tr>\n",
       "    <tr>\n",
       "      <th>14</th>\n",
       "      <td>2023-12-18 08:37:00</td>\n",
       "      <td>Андреева Анастасия Андреевна</td>\n",
       "      <td>Тенденции</td>\n",
       "      <td>318790</td>\n",
       "      <td>https://adindex.ru/news/tendencies/2023/12/18/...</td>\n",
       "    </tr>\n",
       "    <tr>\n",
       "      <th>15</th>\n",
       "      <td>2023-12-18 07:49:00</td>\n",
       "      <td>Борисова Ольга Борисовна</td>\n",
       "      <td>Право</td>\n",
       "      <td>318789</td>\n",
       "      <td>https://adindex.ru/news/right/2023/12/18/31878...</td>\n",
       "    </tr>\n",
       "    <tr>\n",
       "      <th>16</th>\n",
       "      <td>2023-12-18 07:29:00</td>\n",
       "      <td>Васильева Екатерина Васильевна</td>\n",
       "      <td>Маркетинг</td>\n",
       "      <td>318788</td>\n",
       "      <td>https://adindex.ru/news/marketing/2023/12/18/3...</td>\n",
       "    </tr>\n",
       "    <tr>\n",
       "      <th>17</th>\n",
       "      <td>2023-12-18 07:18:00</td>\n",
       "      <td>Сидоров Антон Владимирович</td>\n",
       "      <td>Тенденции</td>\n",
       "      <td>318787</td>\n",
       "      <td>https://adindex.ru/news/tendencies/2023/12/18/...</td>\n",
       "    </tr>\n",
       "    <tr>\n",
       "      <th>18</th>\n",
       "      <td>2023-12-18 07:08:00</td>\n",
       "      <td>Васильева Екатерина Васильевна</td>\n",
       "      <td>Кадры</td>\n",
       "      <td>318786</td>\n",
       "      <td>https://adindex.ru/news/hr/2023/12/18/318786.p...</td>\n",
       "    </tr>\n",
       "    <tr>\n",
       "      <th>19</th>\n",
       "      <td>2023-12-16 12:00:00</td>\n",
       "      <td>Андреева Анастасия Андреевна</td>\n",
       "      <td>Маркетинг</td>\n",
       "      <td>318768</td>\n",
       "      <td>https://adindex.ru/news/marketing/2023/12/15/3...</td>\n",
       "    </tr>\n",
       "    <tr>\n",
       "      <th>20</th>\n",
       "      <td>2023-12-15 20:25:00</td>\n",
       "      <td>Егорова Надежда Андреевна</td>\n",
       "      <td>Медиа</td>\n",
       "      <td>318741</td>\n",
       "      <td>https://adindex.ru/news/media/2023/12/15/31874...</td>\n",
       "    </tr>\n",
       "    <tr>\n",
       "      <th>21</th>\n",
       "      <td>2023-12-15 18:48:00</td>\n",
       "      <td>Иванов Иван Иванович</td>\n",
       "      <td>Тенденции</td>\n",
       "      <td>318766</td>\n",
       "      <td>https://adindex.ru/news/tendencies/2023/12/15/...</td>\n",
       "    </tr>\n",
       "    <tr>\n",
       "      <th>22</th>\n",
       "      <td>2023-12-15 16:10:00</td>\n",
       "      <td>Васильева Екатерина Васильевна</td>\n",
       "      <td>Кадры</td>\n",
       "      <td>318579</td>\n",
       "      <td>https://adindex.ru/news/hr/2023/12/15/318579.p...</td>\n",
       "    </tr>\n",
       "    <tr>\n",
       "      <th>23</th>\n",
       "      <td>2023-12-15 15:57:00</td>\n",
       "      <td>Данилова Светлана Викторовна</td>\n",
       "      <td>Пресс-релизы</td>\n",
       "      <td>318575</td>\n",
       "      <td>https://adindex.ru/news/releases/2023/12/15/31...</td>\n",
       "    </tr>\n",
       "    <tr>\n",
       "      <th>24</th>\n",
       "      <td>2023-12-15 13:20:00</td>\n",
       "      <td>Иванов Иван Иванович</td>\n",
       "      <td>Кадры</td>\n",
       "      <td>318545</td>\n",
       "      <td>https://adindex.ru/news/hr/2023/12/15/318545.p...</td>\n",
       "    </tr>\n",
       "    <tr>\n",
       "      <th>25</th>\n",
       "      <td>2023-12-15 12:34:00</td>\n",
       "      <td>Андреева Анастасия Андреевна</td>\n",
       "      <td>Медиа</td>\n",
       "      <td>318486</td>\n",
       "      <td>https://adindex.ru/news/media/2023/12/15/31848...</td>\n",
       "    </tr>\n",
       "    <tr>\n",
       "      <th>26</th>\n",
       "      <td>2023-12-15 11:59:00</td>\n",
       "      <td>Сидоров Антон Владимирович</td>\n",
       "      <td>Пресс-релизы</td>\n",
       "      <td>318413</td>\n",
       "      <td>https://adindex.ru/news/releases/2023/12/15/31...</td>\n",
       "    </tr>\n",
       "    <tr>\n",
       "      <th>27</th>\n",
       "      <td>2023-12-15 11:52:00</td>\n",
       "      <td>Данилова Светлана Викторовна</td>\n",
       "      <td>Медиа</td>\n",
       "      <td>318437</td>\n",
       "      <td>https://adindex.ru/news/media/2023/12/15/31843...</td>\n",
       "    </tr>\n",
       "    <tr>\n",
       "      <th>28</th>\n",
       "      <td>2023-12-15 11:28:00</td>\n",
       "      <td>Егорова Надежда Андреевна</td>\n",
       "      <td>Пресс-релизы</td>\n",
       "      <td>318383</td>\n",
       "      <td>https://adindex.ru/news/releases/2023/12/15/31...</td>\n",
       "    </tr>\n",
       "    <tr>\n",
       "      <th>29</th>\n",
       "      <td>2023-12-15 09:45:00</td>\n",
       "      <td>Петрова Мария Сергеевна</td>\n",
       "      <td>Digital</td>\n",
       "      <td>318382</td>\n",
       "      <td>https://adindex.ru/news/digital/2023/12/15/318...</td>\n",
       "    </tr>\n",
       "    <tr>\n",
       "      <th>30</th>\n",
       "      <td>2023-12-15 08:32:00</td>\n",
       "      <td>Данилова Светлана Викторовна</td>\n",
       "      <td>Право</td>\n",
       "      <td>318381</td>\n",
       "      <td>https://adindex.ru/news/right/2023/12/15/31838...</td>\n",
       "    </tr>\n",
       "    <tr>\n",
       "      <th>31</th>\n",
       "      <td>2023-12-15 07:54:00</td>\n",
       "      <td>Григорьева Людмила Григорьевна</td>\n",
       "      <td>Тенденции</td>\n",
       "      <td>318379</td>\n",
       "      <td>https://adindex.ru/news/tendencies/2023/12/15/...</td>\n",
       "    </tr>\n",
       "    <tr>\n",
       "      <th>32</th>\n",
       "      <td>2023-12-15 07:42:00</td>\n",
       "      <td>Егорова Надежда Андреевна</td>\n",
       "      <td>Маркетинг</td>\n",
       "      <td>318378</td>\n",
       "      <td>https://adindex.ru/news/marketing/2023/12/15/3...</td>\n",
       "    </tr>\n",
       "    <tr>\n",
       "      <th>33</th>\n",
       "      <td>2023-12-15 07:34:00</td>\n",
       "      <td>Борисова Ольга Борисовна</td>\n",
       "      <td>Digital</td>\n",
       "      <td>318377</td>\n",
       "      <td>https://adindex.ru/news/digital/2023/12/15/318...</td>\n",
       "    </tr>\n",
       "    <tr>\n",
       "      <th>34</th>\n",
       "      <td>2023-12-15 07:17:00</td>\n",
       "      <td>Васильева Екатерина Васильевна</td>\n",
       "      <td>Право</td>\n",
       "      <td>318376</td>\n",
       "      <td>https://adindex.ru/news/right/2023/12/15/31837...</td>\n",
       "    </tr>\n",
       "    <tr>\n",
       "      <th>35</th>\n",
       "      <td>2023-12-14 19:06:00</td>\n",
       "      <td>Петрова Мария Сергеевна</td>\n",
       "      <td>Тенденции</td>\n",
       "      <td>318374</td>\n",
       "      <td>https://adindex.ru/news/tendencies/2023/12/14/...</td>\n",
       "    </tr>\n",
       "    <tr>\n",
       "      <th>36</th>\n",
       "      <td>2023-12-14 18:29:00</td>\n",
       "      <td>Борисова Ольга Борисовна</td>\n",
       "      <td>Право</td>\n",
       "      <td>318373</td>\n",
       "      <td>https://adindex.ru/news/right/2023/12/14/31837...</td>\n",
       "    </tr>\n",
       "    <tr>\n",
       "      <th>37</th>\n",
       "      <td>2023-12-14 17:31:00</td>\n",
       "      <td>Васильева Екатерина Васильевна</td>\n",
       "      <td>Креатив</td>\n",
       "      <td>318371</td>\n",
       "      <td>https://adindex.ru/news/creative/2023/12/14/31...</td>\n",
       "    </tr>\n",
       "    <tr>\n",
       "      <th>38</th>\n",
       "      <td>2023-12-14 16:22:00</td>\n",
       "      <td>Петрова Мария Сергеевна</td>\n",
       "      <td>Исследования</td>\n",
       "      <td>318368</td>\n",
       "      <td>https://adindex.ru/news/researches/2023/12/14/...</td>\n",
       "    </tr>\n",
       "    <tr>\n",
       "      <th>39</th>\n",
       "      <td>2023-12-14 15:31:00</td>\n",
       "      <td>Иванов Иван Иванович</td>\n",
       "      <td>Кадры</td>\n",
       "      <td>318366</td>\n",
       "      <td>https://adindex.ru/news/hr/2023/12/14/318366.p...</td>\n",
       "    </tr>\n",
       "    <tr>\n",
       "      <th>40</th>\n",
       "      <td>2023-12-14 13:46:00</td>\n",
       "      <td>Григорьева Людмила Григорьевна</td>\n",
       "      <td>Креатив</td>\n",
       "      <td>318361</td>\n",
       "      <td>https://adindex.ru/news/creative/2023/12/14/31...</td>\n",
       "    </tr>\n",
       "    <tr>\n",
       "      <th>41</th>\n",
       "      <td>2023-12-14 12:10:00</td>\n",
       "      <td>Сидоров Антон Владимирович</td>\n",
       "      <td>Тенденции</td>\n",
       "      <td>318350</td>\n",
       "      <td>https://adindex.ru/news/tendencies/2023/12/14/...</td>\n",
       "    </tr>\n",
       "    <tr>\n",
       "      <th>42</th>\n",
       "      <td>2023-12-14 10:30:00</td>\n",
       "      <td>Петрова Мария Сергеевна</td>\n",
       "      <td>Маркетинг</td>\n",
       "      <td>318336</td>\n",
       "      <td>https://adindex.ru/news/marketing/2023/12/14/3...</td>\n",
       "    </tr>\n",
       "    <tr>\n",
       "      <th>43</th>\n",
       "      <td>2023-12-14 10:05:00</td>\n",
       "      <td>Сидоров Антон Владимирович</td>\n",
       "      <td>Право</td>\n",
       "      <td>318335</td>\n",
       "      <td>https://adindex.ru/news/right/2023/12/14/31833...</td>\n",
       "    </tr>\n",
       "    <tr>\n",
       "      <th>44</th>\n",
       "      <td>2023-12-14 09:01:00</td>\n",
       "      <td>Данилова Светлана Викторовна</td>\n",
       "      <td>Digital</td>\n",
       "      <td>318334</td>\n",
       "      <td>https://adindex.ru/news/digital/2023/12/14/318...</td>\n",
       "    </tr>\n",
       "    <tr>\n",
       "      <th>45</th>\n",
       "      <td>2023-12-14 08:34:00</td>\n",
       "      <td>Жукова Ирина Ильинична</td>\n",
       "      <td>Маркетинг</td>\n",
       "      <td>318333</td>\n",
       "      <td>https://adindex.ru/news/marketing/2023/12/14/3...</td>\n",
       "    </tr>\n",
       "    <tr>\n",
       "      <th>46</th>\n",
       "      <td>2023-12-14 07:59:00</td>\n",
       "      <td>Борисова Ольга Борисовна</td>\n",
       "      <td>Право</td>\n",
       "      <td>318331</td>\n",
       "      <td>https://adindex.ru/news/right/2023/12/14/31833...</td>\n",
       "    </tr>\n",
       "    <tr>\n",
       "      <th>47</th>\n",
       "      <td>2023-12-14 07:34:00</td>\n",
       "      <td>Андреева Анастасия Андреевна</td>\n",
       "      <td>Digital</td>\n",
       "      <td>318330</td>\n",
       "      <td>https://adindex.ru/news/digital/2023/12/14/318...</td>\n",
       "    </tr>\n",
       "    <tr>\n",
       "      <th>48</th>\n",
       "      <td>2023-12-14 07:28:00</td>\n",
       "      <td>Борисова Ольга Борисовна</td>\n",
       "      <td>Тенденции</td>\n",
       "      <td>318329</td>\n",
       "      <td>https://adindex.ru/news/tendencies/2023/12/14/...</td>\n",
       "    </tr>\n",
       "    <tr>\n",
       "      <th>49</th>\n",
       "      <td>2023-12-14 07:10:00</td>\n",
       "      <td>Григорьева Людмила Григорьевна</td>\n",
       "      <td>Право</td>\n",
       "      <td>318328</td>\n",
       "      <td>https://adindex.ru/news/right/2023/12/14/31832...</td>\n",
       "    </tr>\n",
       "  </tbody>\n",
       "</table>\n",
       "</div>"
      ],
      "text/plain": [
       "                   date                          author      post_tag  \\\n",
       "0   2023-12-18 19:03:00    Данилова Светлана Викторовна      Эккаунты   \n",
       "1   2023-12-18 18:51:00         Петрова Мария Сергеевна     Тенденции   \n",
       "2   2023-12-18 18:48:00      Сидоров Антон Владимирович     Маркетинг   \n",
       "3   2023-12-18 18:31:00    Андреева Анастасия Андреевна        Дизайн   \n",
       "4   2023-12-18 17:51:00    Данилова Светлана Викторовна       Креатив   \n",
       "5   2023-12-18 16:58:00  Григорьева Людмила Григорьевна         Медиа   \n",
       "6   2023-12-18 14:32:00       Егорова Надежда Андреевна       Digital   \n",
       "7   2023-12-18 13:51:00    Данилова Светлана Викторовна         Право   \n",
       "8   2023-12-18 13:03:00      Сидоров Антон Владимирович  Пресс-релизы   \n",
       "9   2023-12-18 12:53:00  Васильева Екатерина Васильевна  Исследования   \n",
       "10  2023-12-18 12:35:00      Сидоров Антон Владимирович  Исследования   \n",
       "11  2023-12-18 11:18:00            Иванов Иван Иванович         Медиа   \n",
       "12  2023-12-18 09:43:00            Иванов Иван Иванович       Креатив   \n",
       "13  2023-12-18 09:02:00            Иванов Иван Иванович     Тенденции   \n",
       "14  2023-12-18 08:37:00    Андреева Анастасия Андреевна     Тенденции   \n",
       "15  2023-12-18 07:49:00        Борисова Ольга Борисовна         Право   \n",
       "16  2023-12-18 07:29:00  Васильева Екатерина Васильевна     Маркетинг   \n",
       "17  2023-12-18 07:18:00      Сидоров Антон Владимирович     Тенденции   \n",
       "18  2023-12-18 07:08:00  Васильева Екатерина Васильевна         Кадры   \n",
       "19  2023-12-16 12:00:00    Андреева Анастасия Андреевна     Маркетинг   \n",
       "20  2023-12-15 20:25:00       Егорова Надежда Андреевна         Медиа   \n",
       "21  2023-12-15 18:48:00            Иванов Иван Иванович     Тенденции   \n",
       "22  2023-12-15 16:10:00  Васильева Екатерина Васильевна         Кадры   \n",
       "23  2023-12-15 15:57:00    Данилова Светлана Викторовна  Пресс-релизы   \n",
       "24  2023-12-15 13:20:00            Иванов Иван Иванович         Кадры   \n",
       "25  2023-12-15 12:34:00    Андреева Анастасия Андреевна         Медиа   \n",
       "26  2023-12-15 11:59:00      Сидоров Антон Владимирович  Пресс-релизы   \n",
       "27  2023-12-15 11:52:00    Данилова Светлана Викторовна         Медиа   \n",
       "28  2023-12-15 11:28:00       Егорова Надежда Андреевна  Пресс-релизы   \n",
       "29  2023-12-15 09:45:00         Петрова Мария Сергеевна       Digital   \n",
       "30  2023-12-15 08:32:00    Данилова Светлана Викторовна         Право   \n",
       "31  2023-12-15 07:54:00  Григорьева Людмила Григорьевна     Тенденции   \n",
       "32  2023-12-15 07:42:00       Егорова Надежда Андреевна     Маркетинг   \n",
       "33  2023-12-15 07:34:00        Борисова Ольга Борисовна       Digital   \n",
       "34  2023-12-15 07:17:00  Васильева Екатерина Васильевна         Право   \n",
       "35  2023-12-14 19:06:00         Петрова Мария Сергеевна     Тенденции   \n",
       "36  2023-12-14 18:29:00        Борисова Ольга Борисовна         Право   \n",
       "37  2023-12-14 17:31:00  Васильева Екатерина Васильевна       Креатив   \n",
       "38  2023-12-14 16:22:00         Петрова Мария Сергеевна  Исследования   \n",
       "39  2023-12-14 15:31:00            Иванов Иван Иванович         Кадры   \n",
       "40  2023-12-14 13:46:00  Григорьева Людмила Григорьевна       Креатив   \n",
       "41  2023-12-14 12:10:00      Сидоров Антон Владимирович     Тенденции   \n",
       "42  2023-12-14 10:30:00         Петрова Мария Сергеевна     Маркетинг   \n",
       "43  2023-12-14 10:05:00      Сидоров Антон Владимирович         Право   \n",
       "44  2023-12-14 09:01:00    Данилова Светлана Викторовна       Digital   \n",
       "45  2023-12-14 08:34:00          Жукова Ирина Ильинична     Маркетинг   \n",
       "46  2023-12-14 07:59:00        Борисова Ольга Борисовна         Право   \n",
       "47  2023-12-14 07:34:00    Андреева Анастасия Андреевна       Digital   \n",
       "48  2023-12-14 07:28:00        Борисова Ольга Борисовна     Тенденции   \n",
       "49  2023-12-14 07:10:00  Григорьева Людмила Григорьевна         Право   \n",
       "\n",
       "    post_id                                               link  \n",
       "0    318949  https://adindex.ru/news/ek/2023/12/18/318949.p...  \n",
       "1    318946  https://adindex.ru/news/tendencies/2023/12/18/...  \n",
       "2    318945  https://adindex.ru/news/marketing/2023/12/18/3...  \n",
       "3    318944  https://adindex.ru/news/design/2023/12/18/3189...  \n",
       "4    318936  https://adindex.ru/news/creative/2023/12/18/31...  \n",
       "5    318923  https://adindex.ru/news/media/2023/12/18/31892...  \n",
       "6    318864  https://adindex.ru/news/digital/2023/12/18/318...  \n",
       "7    318862  https://adindex.ru/news/right/2023/12/18/31886...  \n",
       "8    318819  https://adindex.ru/news/releases/2023/12/18/31...  \n",
       "9    318849  https://adindex.ru/news/researches/2023/12/18/...  \n",
       "10   318842  https://adindex.ru/news/researches/2023/12/18/...  \n",
       "11   318818  https://adindex.ru/news/media/2023/12/18/31881...  \n",
       "12   318793  https://adindex.ru/news/creative/2023/12/18/31...  \n",
       "13   318791  https://adindex.ru/news/tendencies/2023/12/18/...  \n",
       "14   318790  https://adindex.ru/news/tendencies/2023/12/18/...  \n",
       "15   318789  https://adindex.ru/news/right/2023/12/18/31878...  \n",
       "16   318788  https://adindex.ru/news/marketing/2023/12/18/3...  \n",
       "17   318787  https://adindex.ru/news/tendencies/2023/12/18/...  \n",
       "18   318786  https://adindex.ru/news/hr/2023/12/18/318786.p...  \n",
       "19   318768  https://adindex.ru/news/marketing/2023/12/15/3...  \n",
       "20   318741  https://adindex.ru/news/media/2023/12/15/31874...  \n",
       "21   318766  https://adindex.ru/news/tendencies/2023/12/15/...  \n",
       "22   318579  https://adindex.ru/news/hr/2023/12/15/318579.p...  \n",
       "23   318575  https://adindex.ru/news/releases/2023/12/15/31...  \n",
       "24   318545  https://adindex.ru/news/hr/2023/12/15/318545.p...  \n",
       "25   318486  https://adindex.ru/news/media/2023/12/15/31848...  \n",
       "26   318413  https://adindex.ru/news/releases/2023/12/15/31...  \n",
       "27   318437  https://adindex.ru/news/media/2023/12/15/31843...  \n",
       "28   318383  https://adindex.ru/news/releases/2023/12/15/31...  \n",
       "29   318382  https://adindex.ru/news/digital/2023/12/15/318...  \n",
       "30   318381  https://adindex.ru/news/right/2023/12/15/31838...  \n",
       "31   318379  https://adindex.ru/news/tendencies/2023/12/15/...  \n",
       "32   318378  https://adindex.ru/news/marketing/2023/12/15/3...  \n",
       "33   318377  https://adindex.ru/news/digital/2023/12/15/318...  \n",
       "34   318376  https://adindex.ru/news/right/2023/12/15/31837...  \n",
       "35   318374  https://adindex.ru/news/tendencies/2023/12/14/...  \n",
       "36   318373  https://adindex.ru/news/right/2023/12/14/31837...  \n",
       "37   318371  https://adindex.ru/news/creative/2023/12/14/31...  \n",
       "38   318368  https://adindex.ru/news/researches/2023/12/14/...  \n",
       "39   318366  https://adindex.ru/news/hr/2023/12/14/318366.p...  \n",
       "40   318361  https://adindex.ru/news/creative/2023/12/14/31...  \n",
       "41   318350  https://adindex.ru/news/tendencies/2023/12/14/...  \n",
       "42   318336  https://adindex.ru/news/marketing/2023/12/14/3...  \n",
       "43   318335  https://adindex.ru/news/right/2023/12/14/31833...  \n",
       "44   318334  https://adindex.ru/news/digital/2023/12/14/318...  \n",
       "45   318333  https://adindex.ru/news/marketing/2023/12/14/3...  \n",
       "46   318331  https://adindex.ru/news/right/2023/12/14/31833...  \n",
       "47   318330  https://adindex.ru/news/digital/2023/12/14/318...  \n",
       "48   318329  https://adindex.ru/news/tendencies/2023/12/14/...  \n",
       "49   318328  https://adindex.ru/news/right/2023/12/14/31832...  "
      ]
     },
     "execution_count": 44,
     "metadata": {},
     "output_type": "execute_result"
    }
   ],
   "source": [
    "df_left"
   ]
  },
  {
   "cell_type": "code",
   "execution_count": 35,
   "metadata": {},
   "outputs": [
    {
     "data": {
      "text/html": [
       "<div>\n",
       "<style scoped>\n",
       "    .dataframe tbody tr th:only-of-type {\n",
       "        vertical-align: middle;\n",
       "    }\n",
       "\n",
       "    .dataframe tbody tr th {\n",
       "        vertical-align: top;\n",
       "    }\n",
       "\n",
       "    .dataframe thead th {\n",
       "        text-align: right;\n",
       "    }\n",
       "</style>\n",
       "<table border=\"1\" class=\"dataframe\">\n",
       "  <thead>\n",
       "    <tr style=\"text-align: right;\">\n",
       "      <th></th>\n",
       "      <th>date</th>\n",
       "      <th>author</th>\n",
       "      <th>post_tag</th>\n",
       "      <th>post_id</th>\n",
       "      <th>link</th>\n",
       "      <th>Посетители</th>\n",
       "      <th>Читатели</th>\n",
       "      <th>Уникальные пользователи</th>\n",
       "      <th>% недочитываемости</th>\n",
       "      <th>Глубина просмотра</th>\n",
       "      <th>Ср. время на сайте (сек)</th>\n",
       "      <th>0</th>\n",
       "    </tr>\n",
       "  </thead>\n",
       "  <tbody>\n",
       "    <tr>\n",
       "      <th>0</th>\n",
       "      <td>2023-12-18 19:03:00</td>\n",
       "      <td>Петрова Мария Сергеевна</td>\n",
       "      <td>Эккаунты</td>\n",
       "      <td>318949</td>\n",
       "      <td>https://adindex.ru/news/ek/2023/12/18/318949.p...</td>\n",
       "      <td>2.0</td>\n",
       "      <td>3.0</td>\n",
       "      <td>2.0</td>\n",
       "      <td>0.000000</td>\n",
       "      <td>1.500000</td>\n",
       "      <td>95.500000</td>\n",
       "      <td>NaN</td>\n",
       "    </tr>\n",
       "    <tr>\n",
       "      <th>1</th>\n",
       "      <td>2023-12-18 18:51:00</td>\n",
       "      <td>Васильева Екатерина Васильевна</td>\n",
       "      <td>Тенденции</td>\n",
       "      <td>318946</td>\n",
       "      <td>https://adindex.ru/news/tendencies/2023/12/18/...</td>\n",
       "      <td>2.0</td>\n",
       "      <td>34.0</td>\n",
       "      <td>2.0</td>\n",
       "      <td>0.000000</td>\n",
       "      <td>17.000000</td>\n",
       "      <td>4050.000000</td>\n",
       "      <td>NaN</td>\n",
       "    </tr>\n",
       "    <tr>\n",
       "      <th>2</th>\n",
       "      <td>2023-12-18 18:48:00</td>\n",
       "      <td>Данилова Светлана Викторовна</td>\n",
       "      <td>Маркетинг</td>\n",
       "      <td>318945</td>\n",
       "      <td>https://adindex.ru/news/marketing/2023/12/18/3...</td>\n",
       "      <td>11.0</td>\n",
       "      <td>51.0</td>\n",
       "      <td>11.0</td>\n",
       "      <td>0.000000</td>\n",
       "      <td>2.000000</td>\n",
       "      <td>39.000000</td>\n",
       "      <td>NaN</td>\n",
       "    </tr>\n",
       "    <tr>\n",
       "      <th>3</th>\n",
       "      <td>2023-12-18 18:31:00</td>\n",
       "      <td>Петрова Мария Сергеевна</td>\n",
       "      <td>Дизайн</td>\n",
       "      <td>318944</td>\n",
       "      <td>https://adindex.ru/news/design/2023/12/18/3189...</td>\n",
       "      <td>13.0</td>\n",
       "      <td>45.0</td>\n",
       "      <td>13.0</td>\n",
       "      <td>5.555556</td>\n",
       "      <td>1.638889</td>\n",
       "      <td>83.888889</td>\n",
       "      <td>NaN</td>\n",
       "    </tr>\n",
       "    <tr>\n",
       "      <th>4</th>\n",
       "      <td>2023-12-18 17:51:00</td>\n",
       "      <td>Егорова Надежда Андреевна</td>\n",
       "      <td>Креатив</td>\n",
       "      <td>318936</td>\n",
       "      <td>https://adindex.ru/news/creative/2023/12/18/31...</td>\n",
       "      <td>7.0</td>\n",
       "      <td>54.0</td>\n",
       "      <td>7.0</td>\n",
       "      <td>0.000000</td>\n",
       "      <td>6.250000</td>\n",
       "      <td>1934.750000</td>\n",
       "      <td>NaN</td>\n",
       "    </tr>\n",
       "    <tr>\n",
       "      <th>5</th>\n",
       "      <td>2023-12-18 16:58:00</td>\n",
       "      <td>Борисова Ольга Борисовна</td>\n",
       "      <td>Медиа</td>\n",
       "      <td>318923</td>\n",
       "      <td>https://adindex.ru/news/media/2023/12/18/31892...</td>\n",
       "      <td>29.0</td>\n",
       "      <td>97.0</td>\n",
       "      <td>29.0</td>\n",
       "      <td>0.000000</td>\n",
       "      <td>1.071429</td>\n",
       "      <td>23.000000</td>\n",
       "      <td>NaN</td>\n",
       "    </tr>\n",
       "    <tr>\n",
       "      <th>6</th>\n",
       "      <td>2023-12-18 14:32:00</td>\n",
       "      <td>Васильева Екатерина Васильевна</td>\n",
       "      <td>Digital</td>\n",
       "      <td>318864</td>\n",
       "      <td>https://adindex.ru/news/digital/2023/12/18/318...</td>\n",
       "      <td>11.0</td>\n",
       "      <td>45.0</td>\n",
       "      <td>11.0</td>\n",
       "      <td>10.000000</td>\n",
       "      <td>4.233333</td>\n",
       "      <td>146.000000</td>\n",
       "      <td>NaN</td>\n",
       "    </tr>\n",
       "    <tr>\n",
       "      <th>7</th>\n",
       "      <td>2023-12-18 13:51:00</td>\n",
       "      <td>Андреева Анастасия Андреевна</td>\n",
       "      <td>Право</td>\n",
       "      <td>318862</td>\n",
       "      <td>https://adindex.ru/news/right/2023/12/18/31886...</td>\n",
       "      <td>19.0</td>\n",
       "      <td>96.0</td>\n",
       "      <td>19.0</td>\n",
       "      <td>0.000000</td>\n",
       "      <td>4.500000</td>\n",
       "      <td>80.666667</td>\n",
       "      <td>NaN</td>\n",
       "    </tr>\n",
       "    <tr>\n",
       "      <th>8</th>\n",
       "      <td>2023-12-18 12:53:00</td>\n",
       "      <td>Васильева Екатерина Васильевна</td>\n",
       "      <td>Исследования</td>\n",
       "      <td>318849</td>\n",
       "      <td>https://adindex.ru/news/researches/2023/12/18/...</td>\n",
       "      <td>28.0</td>\n",
       "      <td>68.0</td>\n",
       "      <td>27.0</td>\n",
       "      <td>0.000000</td>\n",
       "      <td>4.000000</td>\n",
       "      <td>67.000000</td>\n",
       "      <td>NaN</td>\n",
       "    </tr>\n",
       "    <tr>\n",
       "      <th>9</th>\n",
       "      <td>2023-12-18 12:35:00</td>\n",
       "      <td>Сидоров Антон Владимирович</td>\n",
       "      <td>Исследования</td>\n",
       "      <td>318842</td>\n",
       "      <td>https://adindex.ru/news/researches/2023/12/18/...</td>\n",
       "      <td>22.0</td>\n",
       "      <td>60.0</td>\n",
       "      <td>22.0</td>\n",
       "      <td>0.000000</td>\n",
       "      <td>1.166667</td>\n",
       "      <td>141.433333</td>\n",
       "      <td>NaN</td>\n",
       "    </tr>\n",
       "    <tr>\n",
       "      <th>10</th>\n",
       "      <td>2023-12-18 11:18:00</td>\n",
       "      <td>Андреева Анастасия Андреевна</td>\n",
       "      <td>Медиа</td>\n",
       "      <td>318818</td>\n",
       "      <td>https://adindex.ru/news/media/2023/12/18/31881...</td>\n",
       "      <td>30.0</td>\n",
       "      <td>104.0</td>\n",
       "      <td>29.0</td>\n",
       "      <td>12.500000</td>\n",
       "      <td>2.000000</td>\n",
       "      <td>73.236111</td>\n",
       "      <td>NaN</td>\n",
       "    </tr>\n",
       "    <tr>\n",
       "      <th>11</th>\n",
       "      <td>2023-12-18 09:43:00</td>\n",
       "      <td>Петрова Мария Сергеевна</td>\n",
       "      <td>Креатив</td>\n",
       "      <td>318793</td>\n",
       "      <td>https://adindex.ru/news/creative/2023/12/18/31...</td>\n",
       "      <td>39.0</td>\n",
       "      <td>166.0</td>\n",
       "      <td>38.0</td>\n",
       "      <td>0.000000</td>\n",
       "      <td>2.500000</td>\n",
       "      <td>117.375000</td>\n",
       "      <td>NaN</td>\n",
       "    </tr>\n",
       "    <tr>\n",
       "      <th>12</th>\n",
       "      <td>2023-12-18 09:02:00</td>\n",
       "      <td>Андреева Анастасия Андреевна</td>\n",
       "      <td>Тенденции</td>\n",
       "      <td>318791</td>\n",
       "      <td>https://adindex.ru/news/tendencies/2023/12/18/...</td>\n",
       "      <td>30.0</td>\n",
       "      <td>120.0</td>\n",
       "      <td>29.0</td>\n",
       "      <td>0.000000</td>\n",
       "      <td>3.000000</td>\n",
       "      <td>138.333333</td>\n",
       "      <td>NaN</td>\n",
       "    </tr>\n",
       "    <tr>\n",
       "      <th>13</th>\n",
       "      <td>2023-12-18 08:37:00</td>\n",
       "      <td>Андреева Анастасия Андреевна</td>\n",
       "      <td>Тенденции</td>\n",
       "      <td>318790</td>\n",
       "      <td>https://adindex.ru/news/tendencies/2023/12/18/...</td>\n",
       "      <td>48.0</td>\n",
       "      <td>96.0</td>\n",
       "      <td>44.0</td>\n",
       "      <td>0.000000</td>\n",
       "      <td>1.600000</td>\n",
       "      <td>27.800000</td>\n",
       "      <td>NaN</td>\n",
       "    </tr>\n",
       "    <tr>\n",
       "      <th>14</th>\n",
       "      <td>2023-12-18 07:49:00</td>\n",
       "      <td>Андреева Анастасия Андреевна</td>\n",
       "      <td>Право</td>\n",
       "      <td>318789</td>\n",
       "      <td>https://adindex.ru/news/right/2023/12/18/31878...</td>\n",
       "      <td>23.0</td>\n",
       "      <td>95.0</td>\n",
       "      <td>22.0</td>\n",
       "      <td>20.000000</td>\n",
       "      <td>1.000000</td>\n",
       "      <td>15.000000</td>\n",
       "      <td>NaN</td>\n",
       "    </tr>\n",
       "    <tr>\n",
       "      <th>15</th>\n",
       "      <td>2023-12-18 07:29:00</td>\n",
       "      <td>Жукова Ирина Ильинична</td>\n",
       "      <td>Маркетинг</td>\n",
       "      <td>318788</td>\n",
       "      <td>https://adindex.ru/news/marketing/2023/12/18/3...</td>\n",
       "      <td>18.0</td>\n",
       "      <td>74.0</td>\n",
       "      <td>16.0</td>\n",
       "      <td>0.000000</td>\n",
       "      <td>2.583333</td>\n",
       "      <td>147.250000</td>\n",
       "      <td>NaN</td>\n",
       "    </tr>\n",
       "    <tr>\n",
       "      <th>16</th>\n",
       "      <td>2023-12-18 07:18:00</td>\n",
       "      <td>Иванов Иван Иванович</td>\n",
       "      <td>Тенденции</td>\n",
       "      <td>318787</td>\n",
       "      <td>https://adindex.ru/news/tendencies/2023/12/18/...</td>\n",
       "      <td>76.0</td>\n",
       "      <td>145.0</td>\n",
       "      <td>75.0</td>\n",
       "      <td>0.000000</td>\n",
       "      <td>2.267241</td>\n",
       "      <td>124.333333</td>\n",
       "      <td>NaN</td>\n",
       "    </tr>\n",
       "    <tr>\n",
       "      <th>17</th>\n",
       "      <td>2023-12-18 07:08:00</td>\n",
       "      <td>Жукова Ирина Ильинична</td>\n",
       "      <td>Кадры</td>\n",
       "      <td>318786</td>\n",
       "      <td>https://adindex.ru/news/hr/2023/12/18/318786.p...</td>\n",
       "      <td>94.0</td>\n",
       "      <td>142.0</td>\n",
       "      <td>90.0</td>\n",
       "      <td>0.000000</td>\n",
       "      <td>1.000000</td>\n",
       "      <td>15.000000</td>\n",
       "      <td>NaN</td>\n",
       "    </tr>\n",
       "    <tr>\n",
       "      <th>18</th>\n",
       "      <td>2023-12-16 12:00:00</td>\n",
       "      <td>Данилова Светлана Викторовна</td>\n",
       "      <td>Маркетинг</td>\n",
       "      <td>318768</td>\n",
       "      <td>https://adindex.ru/news/marketing/2023/12/15/3...</td>\n",
       "      <td>39.0</td>\n",
       "      <td>89.0</td>\n",
       "      <td>36.0</td>\n",
       "      <td>0.000000</td>\n",
       "      <td>1.618421</td>\n",
       "      <td>70.875000</td>\n",
       "      <td>NaN</td>\n",
       "    </tr>\n",
       "    <tr>\n",
       "      <th>19</th>\n",
       "      <td>2023-12-15 20:25:00</td>\n",
       "      <td>Егорова Надежда Андреевна</td>\n",
       "      <td>Медиа</td>\n",
       "      <td>318741</td>\n",
       "      <td>https://adindex.ru/news/media/2023/12/15/31874...</td>\n",
       "      <td>5.0</td>\n",
       "      <td>12.0</td>\n",
       "      <td>5.0</td>\n",
       "      <td>33.333333</td>\n",
       "      <td>1.666667</td>\n",
       "      <td>453.666667</td>\n",
       "      <td>NaN</td>\n",
       "    </tr>\n",
       "    <tr>\n",
       "      <th>20</th>\n",
       "      <td>2023-12-15 18:48:00</td>\n",
       "      <td>Жукова Ирина Ильинична</td>\n",
       "      <td>Тенденции</td>\n",
       "      <td>318766</td>\n",
       "      <td>https://adindex.ru/news/tendencies/2023/12/15/...</td>\n",
       "      <td>5.0</td>\n",
       "      <td>48.0</td>\n",
       "      <td>5.0</td>\n",
       "      <td>0.000000</td>\n",
       "      <td>8.833333</td>\n",
       "      <td>1596.583333</td>\n",
       "      <td>NaN</td>\n",
       "    </tr>\n",
       "    <tr>\n",
       "      <th>21</th>\n",
       "      <td>2023-12-15 13:20:00</td>\n",
       "      <td>Андреева Анастасия Андреевна</td>\n",
       "      <td>Кадры</td>\n",
       "      <td>318545</td>\n",
       "      <td>https://adindex.ru/news/hr/2023/12/15/318545.p...</td>\n",
       "      <td>3.0</td>\n",
       "      <td>3.0</td>\n",
       "      <td>3.0</td>\n",
       "      <td>75.000000</td>\n",
       "      <td>1.000000</td>\n",
       "      <td>8.750000</td>\n",
       "      <td>NaN</td>\n",
       "    </tr>\n",
       "    <tr>\n",
       "      <th>22</th>\n",
       "      <td>2023-12-15 12:34:00</td>\n",
       "      <td>Иванов Иван Иванович</td>\n",
       "      <td>Медиа</td>\n",
       "      <td>318486</td>\n",
       "      <td>https://adindex.ru/news/media/2023/12/15/31848...</td>\n",
       "      <td>10.0</td>\n",
       "      <td>17.0</td>\n",
       "      <td>10.0</td>\n",
       "      <td>0.000000</td>\n",
       "      <td>2.166667</td>\n",
       "      <td>37.785714</td>\n",
       "      <td>NaN</td>\n",
       "    </tr>\n",
       "    <tr>\n",
       "      <th>23</th>\n",
       "      <td>2023-12-15 11:59:00</td>\n",
       "      <td>Борисова Ольга Борисовна</td>\n",
       "      <td>Пресс-релизы</td>\n",
       "      <td>318413</td>\n",
       "      <td>https://adindex.ru/news/releases/2023/12/15/31...</td>\n",
       "      <td>422.0</td>\n",
       "      <td>467.0</td>\n",
       "      <td>408.0</td>\n",
       "      <td>23.717949</td>\n",
       "      <td>1.000000</td>\n",
       "      <td>18.000000</td>\n",
       "      <td>NaN</td>\n",
       "    </tr>\n",
       "    <tr>\n",
       "      <th>24</th>\n",
       "      <td>2023-12-15 11:52:00</td>\n",
       "      <td>Андреева Анастасия Андреевна</td>\n",
       "      <td>Медиа</td>\n",
       "      <td>318437</td>\n",
       "      <td>https://adindex.ru/news/media/2023/12/15/31843...</td>\n",
       "      <td>2.0</td>\n",
       "      <td>11.0</td>\n",
       "      <td>2.0</td>\n",
       "      <td>0.000000</td>\n",
       "      <td>5.500000</td>\n",
       "      <td>106.000000</td>\n",
       "      <td>NaN</td>\n",
       "    </tr>\n",
       "    <tr>\n",
       "      <th>25</th>\n",
       "      <td>2023-12-15 09:45:00</td>\n",
       "      <td>Иванов Иван Иванович</td>\n",
       "      <td>Digital</td>\n",
       "      <td>318382</td>\n",
       "      <td>https://adindex.ru/news/digital/2023/12/15/318...</td>\n",
       "      <td>11.0</td>\n",
       "      <td>69.0</td>\n",
       "      <td>11.0</td>\n",
       "      <td>0.000000</td>\n",
       "      <td>2.333333</td>\n",
       "      <td>669.000000</td>\n",
       "      <td>NaN</td>\n",
       "    </tr>\n",
       "    <tr>\n",
       "      <th>26</th>\n",
       "      <td>2023-12-15 07:54:00</td>\n",
       "      <td>Данилова Светлана Викторовна</td>\n",
       "      <td>Тенденции</td>\n",
       "      <td>318379</td>\n",
       "      <td>https://adindex.ru/news/tendencies/2023/12/15/...</td>\n",
       "      <td>1.0</td>\n",
       "      <td>1.0</td>\n",
       "      <td>1.0</td>\n",
       "      <td>0.000000</td>\n",
       "      <td>1.000000</td>\n",
       "      <td>14.000000</td>\n",
       "      <td>NaN</td>\n",
       "    </tr>\n",
       "    <tr>\n",
       "      <th>27</th>\n",
       "      <td>2023-12-15 07:42:00</td>\n",
       "      <td>Григорьева Людмила Григорьевна</td>\n",
       "      <td>Маркетинг</td>\n",
       "      <td>318378</td>\n",
       "      <td>https://adindex.ru/news/marketing/2023/12/15/3...</td>\n",
       "      <td>14.0</td>\n",
       "      <td>33.0</td>\n",
       "      <td>14.0</td>\n",
       "      <td>50.000000</td>\n",
       "      <td>1.730769</td>\n",
       "      <td>31.038462</td>\n",
       "      <td>NaN</td>\n",
       "    </tr>\n",
       "    <tr>\n",
       "      <th>28</th>\n",
       "      <td>2023-12-15 07:34:00</td>\n",
       "      <td>Петрова Мария Сергеевна</td>\n",
       "      <td>Digital</td>\n",
       "      <td>318377</td>\n",
       "      <td>https://adindex.ru/news/digital/2023/12/15/318...</td>\n",
       "      <td>8.0</td>\n",
       "      <td>32.0</td>\n",
       "      <td>7.0</td>\n",
       "      <td>25.000000</td>\n",
       "      <td>1.500000</td>\n",
       "      <td>32.000000</td>\n",
       "      <td>NaN</td>\n",
       "    </tr>\n",
       "    <tr>\n",
       "      <th>29</th>\n",
       "      <td>2023-12-15 07:17:00</td>\n",
       "      <td>Егорова Надежда Андреевна</td>\n",
       "      <td>Право</td>\n",
       "      <td>318376</td>\n",
       "      <td>https://adindex.ru/news/right/2023/12/15/31837...</td>\n",
       "      <td>21.0</td>\n",
       "      <td>25.0</td>\n",
       "      <td>21.0</td>\n",
       "      <td>23.809524</td>\n",
       "      <td>1.190476</td>\n",
       "      <td>55.666667</td>\n",
       "      <td>NaN</td>\n",
       "    </tr>\n",
       "    <tr>\n",
       "      <th>30</th>\n",
       "      <td>2023-12-14 19:06:00</td>\n",
       "      <td>Андреева Анастасия Андреевна</td>\n",
       "      <td>Тенденции</td>\n",
       "      <td>318374</td>\n",
       "      <td>https://adindex.ru/news/tendencies/2023/12/14/...</td>\n",
       "      <td>1.0</td>\n",
       "      <td>9.0</td>\n",
       "      <td>1.0</td>\n",
       "      <td>0.000000</td>\n",
       "      <td>9.000000</td>\n",
       "      <td>567.000000</td>\n",
       "      <td>NaN</td>\n",
       "    </tr>\n",
       "    <tr>\n",
       "      <th>31</th>\n",
       "      <td>2023-12-14 17:31:00</td>\n",
       "      <td>Жукова Ирина Ильинична</td>\n",
       "      <td>Креатив</td>\n",
       "      <td>318371</td>\n",
       "      <td>https://adindex.ru/news/creative/2023/12/14/31...</td>\n",
       "      <td>5.0</td>\n",
       "      <td>25.0</td>\n",
       "      <td>5.0</td>\n",
       "      <td>0.000000</td>\n",
       "      <td>3.416667</td>\n",
       "      <td>481.666667</td>\n",
       "      <td>NaN</td>\n",
       "    </tr>\n",
       "    <tr>\n",
       "      <th>32</th>\n",
       "      <td>2023-12-14 16:22:00</td>\n",
       "      <td>Иванов Иван Иванович</td>\n",
       "      <td>Исследования</td>\n",
       "      <td>318368</td>\n",
       "      <td>https://adindex.ru/news/researches/2023/12/14/...</td>\n",
       "      <td>12.0</td>\n",
       "      <td>14.0</td>\n",
       "      <td>12.0</td>\n",
       "      <td>10.000000</td>\n",
       "      <td>1.000000</td>\n",
       "      <td>13.000000</td>\n",
       "      <td>NaN</td>\n",
       "    </tr>\n",
       "    <tr>\n",
       "      <th>33</th>\n",
       "      <td>2023-12-14 13:46:00</td>\n",
       "      <td>Данилова Светлана Викторовна</td>\n",
       "      <td>Креатив</td>\n",
       "      <td>318361</td>\n",
       "      <td>https://adindex.ru/news/creative/2023/12/14/31...</td>\n",
       "      <td>4.0</td>\n",
       "      <td>11.0</td>\n",
       "      <td>4.0</td>\n",
       "      <td>0.000000</td>\n",
       "      <td>1.000000</td>\n",
       "      <td>15.000000</td>\n",
       "      <td>NaN</td>\n",
       "    </tr>\n",
       "    <tr>\n",
       "      <th>34</th>\n",
       "      <td>2023-12-14 12:10:00</td>\n",
       "      <td>Борисова Ольга Борисовна</td>\n",
       "      <td>Тенденции</td>\n",
       "      <td>318350</td>\n",
       "      <td>https://adindex.ru/news/tendencies/2023/12/14/...</td>\n",
       "      <td>1.0</td>\n",
       "      <td>10.0</td>\n",
       "      <td>1.0</td>\n",
       "      <td>0.000000</td>\n",
       "      <td>10.000000</td>\n",
       "      <td>230.000000</td>\n",
       "      <td>NaN</td>\n",
       "    </tr>\n",
       "    <tr>\n",
       "      <th>35</th>\n",
       "      <td>2023-12-14 10:30:00</td>\n",
       "      <td>Васильева Екатерина Васильевна</td>\n",
       "      <td>Маркетинг</td>\n",
       "      <td>318336</td>\n",
       "      <td>https://adindex.ru/news/marketing/2023/12/14/3...</td>\n",
       "      <td>2.0</td>\n",
       "      <td>4.0</td>\n",
       "      <td>2.0</td>\n",
       "      <td>50.000000</td>\n",
       "      <td>2.000000</td>\n",
       "      <td>23.000000</td>\n",
       "      <td>NaN</td>\n",
       "    </tr>\n",
       "    <tr>\n",
       "      <th>36</th>\n",
       "      <td>2023-12-14 10:05:00</td>\n",
       "      <td>Васильева Екатерина Васильевна</td>\n",
       "      <td>Право</td>\n",
       "      <td>318335</td>\n",
       "      <td>https://adindex.ru/news/right/2023/12/14/31833...</td>\n",
       "      <td>2.0</td>\n",
       "      <td>2.0</td>\n",
       "      <td>2.0</td>\n",
       "      <td>0.000000</td>\n",
       "      <td>1.000000</td>\n",
       "      <td>15.000000</td>\n",
       "      <td>NaN</td>\n",
       "    </tr>\n",
       "    <tr>\n",
       "      <th>37</th>\n",
       "      <td>2023-12-14 09:01:00</td>\n",
       "      <td>Иванов Иван Иванович</td>\n",
       "      <td>Digital</td>\n",
       "      <td>318334</td>\n",
       "      <td>https://adindex.ru/news/digital/2023/12/14/318...</td>\n",
       "      <td>7.0</td>\n",
       "      <td>9.0</td>\n",
       "      <td>7.0</td>\n",
       "      <td>18.750000</td>\n",
       "      <td>1.187500</td>\n",
       "      <td>25.250000</td>\n",
       "      <td>NaN</td>\n",
       "    </tr>\n",
       "    <tr>\n",
       "      <th>38</th>\n",
       "      <td>2023-12-14 08:34:00</td>\n",
       "      <td>Борисова Ольга Борисовна</td>\n",
       "      <td>Маркетинг</td>\n",
       "      <td>318333</td>\n",
       "      <td>https://adindex.ru/news/marketing/2023/12/14/3...</td>\n",
       "      <td>8.0</td>\n",
       "      <td>43.0</td>\n",
       "      <td>8.0</td>\n",
       "      <td>0.000000</td>\n",
       "      <td>1.500000</td>\n",
       "      <td>18.750000</td>\n",
       "      <td>NaN</td>\n",
       "    </tr>\n",
       "    <tr>\n",
       "      <th>39</th>\n",
       "      <td>2023-12-14 07:59:00</td>\n",
       "      <td>Данилова Светлана Викторовна</td>\n",
       "      <td>Право</td>\n",
       "      <td>318331</td>\n",
       "      <td>https://adindex.ru/news/right/2023/12/14/31833...</td>\n",
       "      <td>49.0</td>\n",
       "      <td>65.0</td>\n",
       "      <td>48.0</td>\n",
       "      <td>0.000000</td>\n",
       "      <td>7.000000</td>\n",
       "      <td>464.000000</td>\n",
       "      <td>NaN</td>\n",
       "    </tr>\n",
       "    <tr>\n",
       "      <th>40</th>\n",
       "      <td>2023-12-14 07:34:00</td>\n",
       "      <td>Егорова Надежда Андреевна</td>\n",
       "      <td>Digital</td>\n",
       "      <td>318330</td>\n",
       "      <td>https://adindex.ru/news/digital/2023/12/14/318...</td>\n",
       "      <td>6.0</td>\n",
       "      <td>54.0</td>\n",
       "      <td>6.0</td>\n",
       "      <td>0.000000</td>\n",
       "      <td>5.500000</td>\n",
       "      <td>1179.250000</td>\n",
       "      <td>NaN</td>\n",
       "    </tr>\n",
       "    <tr>\n",
       "      <th>41</th>\n",
       "      <td>2023-12-14 07:10:00</td>\n",
       "      <td>Васильева Екатерина Васильевна</td>\n",
       "      <td>Право</td>\n",
       "      <td>318328</td>\n",
       "      <td>https://adindex.ru/news/right/2023/12/14/31832...</td>\n",
       "      <td>3.0</td>\n",
       "      <td>4.0</td>\n",
       "      <td>3.0</td>\n",
       "      <td>25.000000</td>\n",
       "      <td>1.500000</td>\n",
       "      <td>36.250000</td>\n",
       "      <td>NaN</td>\n",
       "    </tr>\n",
       "  </tbody>\n",
       "</table>\n",
       "</div>"
      ],
      "text/plain": [
       "                   date                          author      post_tag  \\\n",
       "0   2023-12-18 19:03:00         Петрова Мария Сергеевна      Эккаунты   \n",
       "1   2023-12-18 18:51:00  Васильева Екатерина Васильевна     Тенденции   \n",
       "2   2023-12-18 18:48:00    Данилова Светлана Викторовна     Маркетинг   \n",
       "3   2023-12-18 18:31:00         Петрова Мария Сергеевна        Дизайн   \n",
       "4   2023-12-18 17:51:00       Егорова Надежда Андреевна       Креатив   \n",
       "5   2023-12-18 16:58:00        Борисова Ольга Борисовна         Медиа   \n",
       "6   2023-12-18 14:32:00  Васильева Екатерина Васильевна       Digital   \n",
       "7   2023-12-18 13:51:00    Андреева Анастасия Андреевна         Право   \n",
       "8   2023-12-18 12:53:00  Васильева Екатерина Васильевна  Исследования   \n",
       "9   2023-12-18 12:35:00      Сидоров Антон Владимирович  Исследования   \n",
       "10  2023-12-18 11:18:00    Андреева Анастасия Андреевна         Медиа   \n",
       "11  2023-12-18 09:43:00         Петрова Мария Сергеевна       Креатив   \n",
       "12  2023-12-18 09:02:00    Андреева Анастасия Андреевна     Тенденции   \n",
       "13  2023-12-18 08:37:00    Андреева Анастасия Андреевна     Тенденции   \n",
       "14  2023-12-18 07:49:00    Андреева Анастасия Андреевна         Право   \n",
       "15  2023-12-18 07:29:00          Жукова Ирина Ильинична     Маркетинг   \n",
       "16  2023-12-18 07:18:00            Иванов Иван Иванович     Тенденции   \n",
       "17  2023-12-18 07:08:00          Жукова Ирина Ильинична         Кадры   \n",
       "18  2023-12-16 12:00:00    Данилова Светлана Викторовна     Маркетинг   \n",
       "19  2023-12-15 20:25:00       Егорова Надежда Андреевна         Медиа   \n",
       "20  2023-12-15 18:48:00          Жукова Ирина Ильинична     Тенденции   \n",
       "21  2023-12-15 13:20:00    Андреева Анастасия Андреевна         Кадры   \n",
       "22  2023-12-15 12:34:00            Иванов Иван Иванович         Медиа   \n",
       "23  2023-12-15 11:59:00        Борисова Ольга Борисовна  Пресс-релизы   \n",
       "24  2023-12-15 11:52:00    Андреева Анастасия Андреевна         Медиа   \n",
       "25  2023-12-15 09:45:00            Иванов Иван Иванович       Digital   \n",
       "26  2023-12-15 07:54:00    Данилова Светлана Викторовна     Тенденции   \n",
       "27  2023-12-15 07:42:00  Григорьева Людмила Григорьевна     Маркетинг   \n",
       "28  2023-12-15 07:34:00         Петрова Мария Сергеевна       Digital   \n",
       "29  2023-12-15 07:17:00       Егорова Надежда Андреевна         Право   \n",
       "30  2023-12-14 19:06:00    Андреева Анастасия Андреевна     Тенденции   \n",
       "31  2023-12-14 17:31:00          Жукова Ирина Ильинична       Креатив   \n",
       "32  2023-12-14 16:22:00            Иванов Иван Иванович  Исследования   \n",
       "33  2023-12-14 13:46:00    Данилова Светлана Викторовна       Креатив   \n",
       "34  2023-12-14 12:10:00        Борисова Ольга Борисовна     Тенденции   \n",
       "35  2023-12-14 10:30:00  Васильева Екатерина Васильевна     Маркетинг   \n",
       "36  2023-12-14 10:05:00  Васильева Екатерина Васильевна         Право   \n",
       "37  2023-12-14 09:01:00            Иванов Иван Иванович       Digital   \n",
       "38  2023-12-14 08:34:00        Борисова Ольга Борисовна     Маркетинг   \n",
       "39  2023-12-14 07:59:00    Данилова Светлана Викторовна         Право   \n",
       "40  2023-12-14 07:34:00       Егорова Надежда Андреевна       Digital   \n",
       "41  2023-12-14 07:10:00  Васильева Екатерина Васильевна         Право   \n",
       "\n",
       "    post_id                                               link  Посетители  \\\n",
       "0    318949  https://adindex.ru/news/ek/2023/12/18/318949.p...         2.0   \n",
       "1    318946  https://adindex.ru/news/tendencies/2023/12/18/...         2.0   \n",
       "2    318945  https://adindex.ru/news/marketing/2023/12/18/3...        11.0   \n",
       "3    318944  https://adindex.ru/news/design/2023/12/18/3189...        13.0   \n",
       "4    318936  https://adindex.ru/news/creative/2023/12/18/31...         7.0   \n",
       "5    318923  https://adindex.ru/news/media/2023/12/18/31892...        29.0   \n",
       "6    318864  https://adindex.ru/news/digital/2023/12/18/318...        11.0   \n",
       "7    318862  https://adindex.ru/news/right/2023/12/18/31886...        19.0   \n",
       "8    318849  https://adindex.ru/news/researches/2023/12/18/...        28.0   \n",
       "9    318842  https://adindex.ru/news/researches/2023/12/18/...        22.0   \n",
       "10   318818  https://adindex.ru/news/media/2023/12/18/31881...        30.0   \n",
       "11   318793  https://adindex.ru/news/creative/2023/12/18/31...        39.0   \n",
       "12   318791  https://adindex.ru/news/tendencies/2023/12/18/...        30.0   \n",
       "13   318790  https://adindex.ru/news/tendencies/2023/12/18/...        48.0   \n",
       "14   318789  https://adindex.ru/news/right/2023/12/18/31878...        23.0   \n",
       "15   318788  https://adindex.ru/news/marketing/2023/12/18/3...        18.0   \n",
       "16   318787  https://adindex.ru/news/tendencies/2023/12/18/...        76.0   \n",
       "17   318786  https://adindex.ru/news/hr/2023/12/18/318786.p...        94.0   \n",
       "18   318768  https://adindex.ru/news/marketing/2023/12/15/3...        39.0   \n",
       "19   318741  https://adindex.ru/news/media/2023/12/15/31874...         5.0   \n",
       "20   318766  https://adindex.ru/news/tendencies/2023/12/15/...         5.0   \n",
       "21   318545  https://adindex.ru/news/hr/2023/12/15/318545.p...         3.0   \n",
       "22   318486  https://adindex.ru/news/media/2023/12/15/31848...        10.0   \n",
       "23   318413  https://adindex.ru/news/releases/2023/12/15/31...       422.0   \n",
       "24   318437  https://adindex.ru/news/media/2023/12/15/31843...         2.0   \n",
       "25   318382  https://adindex.ru/news/digital/2023/12/15/318...        11.0   \n",
       "26   318379  https://adindex.ru/news/tendencies/2023/12/15/...         1.0   \n",
       "27   318378  https://adindex.ru/news/marketing/2023/12/15/3...        14.0   \n",
       "28   318377  https://adindex.ru/news/digital/2023/12/15/318...         8.0   \n",
       "29   318376  https://adindex.ru/news/right/2023/12/15/31837...        21.0   \n",
       "30   318374  https://adindex.ru/news/tendencies/2023/12/14/...         1.0   \n",
       "31   318371  https://adindex.ru/news/creative/2023/12/14/31...         5.0   \n",
       "32   318368  https://adindex.ru/news/researches/2023/12/14/...        12.0   \n",
       "33   318361  https://adindex.ru/news/creative/2023/12/14/31...         4.0   \n",
       "34   318350  https://adindex.ru/news/tendencies/2023/12/14/...         1.0   \n",
       "35   318336  https://adindex.ru/news/marketing/2023/12/14/3...         2.0   \n",
       "36   318335  https://adindex.ru/news/right/2023/12/14/31833...         2.0   \n",
       "37   318334  https://adindex.ru/news/digital/2023/12/14/318...         7.0   \n",
       "38   318333  https://adindex.ru/news/marketing/2023/12/14/3...         8.0   \n",
       "39   318331  https://adindex.ru/news/right/2023/12/14/31833...        49.0   \n",
       "40   318330  https://adindex.ru/news/digital/2023/12/14/318...         6.0   \n",
       "41   318328  https://adindex.ru/news/right/2023/12/14/31832...         3.0   \n",
       "\n",
       "    Читатели  Уникальные пользователи  % недочитываемости  Глубина просмотра  \\\n",
       "0        3.0                      2.0            0.000000           1.500000   \n",
       "1       34.0                      2.0            0.000000          17.000000   \n",
       "2       51.0                     11.0            0.000000           2.000000   \n",
       "3       45.0                     13.0            5.555556           1.638889   \n",
       "4       54.0                      7.0            0.000000           6.250000   \n",
       "5       97.0                     29.0            0.000000           1.071429   \n",
       "6       45.0                     11.0           10.000000           4.233333   \n",
       "7       96.0                     19.0            0.000000           4.500000   \n",
       "8       68.0                     27.0            0.000000           4.000000   \n",
       "9       60.0                     22.0            0.000000           1.166667   \n",
       "10     104.0                     29.0           12.500000           2.000000   \n",
       "11     166.0                     38.0            0.000000           2.500000   \n",
       "12     120.0                     29.0            0.000000           3.000000   \n",
       "13      96.0                     44.0            0.000000           1.600000   \n",
       "14      95.0                     22.0           20.000000           1.000000   \n",
       "15      74.0                     16.0            0.000000           2.583333   \n",
       "16     145.0                     75.0            0.000000           2.267241   \n",
       "17     142.0                     90.0            0.000000           1.000000   \n",
       "18      89.0                     36.0            0.000000           1.618421   \n",
       "19      12.0                      5.0           33.333333           1.666667   \n",
       "20      48.0                      5.0            0.000000           8.833333   \n",
       "21       3.0                      3.0           75.000000           1.000000   \n",
       "22      17.0                     10.0            0.000000           2.166667   \n",
       "23     467.0                    408.0           23.717949           1.000000   \n",
       "24      11.0                      2.0            0.000000           5.500000   \n",
       "25      69.0                     11.0            0.000000           2.333333   \n",
       "26       1.0                      1.0            0.000000           1.000000   \n",
       "27      33.0                     14.0           50.000000           1.730769   \n",
       "28      32.0                      7.0           25.000000           1.500000   \n",
       "29      25.0                     21.0           23.809524           1.190476   \n",
       "30       9.0                      1.0            0.000000           9.000000   \n",
       "31      25.0                      5.0            0.000000           3.416667   \n",
       "32      14.0                     12.0           10.000000           1.000000   \n",
       "33      11.0                      4.0            0.000000           1.000000   \n",
       "34      10.0                      1.0            0.000000          10.000000   \n",
       "35       4.0                      2.0           50.000000           2.000000   \n",
       "36       2.0                      2.0            0.000000           1.000000   \n",
       "37       9.0                      7.0           18.750000           1.187500   \n",
       "38      43.0                      8.0            0.000000           1.500000   \n",
       "39      65.0                     48.0            0.000000           7.000000   \n",
       "40      54.0                      6.0            0.000000           5.500000   \n",
       "41       4.0                      3.0           25.000000           1.500000   \n",
       "\n",
       "    Ср. время на сайте (сек)   0  \n",
       "0                  95.500000 NaN  \n",
       "1                4050.000000 NaN  \n",
       "2                  39.000000 NaN  \n",
       "3                  83.888889 NaN  \n",
       "4                1934.750000 NaN  \n",
       "5                  23.000000 NaN  \n",
       "6                 146.000000 NaN  \n",
       "7                  80.666667 NaN  \n",
       "8                  67.000000 NaN  \n",
       "9                 141.433333 NaN  \n",
       "10                 73.236111 NaN  \n",
       "11                117.375000 NaN  \n",
       "12                138.333333 NaN  \n",
       "13                 27.800000 NaN  \n",
       "14                 15.000000 NaN  \n",
       "15                147.250000 NaN  \n",
       "16                124.333333 NaN  \n",
       "17                 15.000000 NaN  \n",
       "18                 70.875000 NaN  \n",
       "19                453.666667 NaN  \n",
       "20               1596.583333 NaN  \n",
       "21                  8.750000 NaN  \n",
       "22                 37.785714 NaN  \n",
       "23                 18.000000 NaN  \n",
       "24                106.000000 NaN  \n",
       "25                669.000000 NaN  \n",
       "26                 14.000000 NaN  \n",
       "27                 31.038462 NaN  \n",
       "28                 32.000000 NaN  \n",
       "29                 55.666667 NaN  \n",
       "30                567.000000 NaN  \n",
       "31                481.666667 NaN  \n",
       "32                 13.000000 NaN  \n",
       "33                 15.000000 NaN  \n",
       "34                230.000000 NaN  \n",
       "35                 23.000000 NaN  \n",
       "36                 15.000000 NaN  \n",
       "37                 25.250000 NaN  \n",
       "38                 18.750000 NaN  \n",
       "39                464.000000 NaN  \n",
       "40               1179.250000 NaN  \n",
       "41                 36.250000 NaN  "
      ]
     },
     "execution_count": 35,
     "metadata": {},
     "output_type": "execute_result"
    }
   ],
   "source": [
    "df_right"
   ]
  },
  {
   "cell_type": "code",
   "execution_count": 45,
   "metadata": {},
   "outputs": [
    {
     "data": {
      "text/html": [
       "<div>\n",
       "<style scoped>\n",
       "    .dataframe tbody tr th:only-of-type {\n",
       "        vertical-align: middle;\n",
       "    }\n",
       "\n",
       "    .dataframe tbody tr th {\n",
       "        vertical-align: top;\n",
       "    }\n",
       "\n",
       "    .dataframe thead th {\n",
       "        text-align: right;\n",
       "    }\n",
       "</style>\n",
       "<table border=\"1\" class=\"dataframe\">\n",
       "  <thead>\n",
       "    <tr style=\"text-align: right;\">\n",
       "      <th></th>\n",
       "      <th>date_x</th>\n",
       "      <th>author_x</th>\n",
       "      <th>post_tag_x</th>\n",
       "      <th>post_id_x</th>\n",
       "      <th>link</th>\n",
       "      <th>date_y</th>\n",
       "      <th>author_y</th>\n",
       "      <th>post_tag_y</th>\n",
       "      <th>post_id_y</th>\n",
       "      <th>Посетители</th>\n",
       "      <th>Читатели</th>\n",
       "      <th>Уникальные пользователи</th>\n",
       "      <th>% недочитываемости</th>\n",
       "      <th>Глубина просмотра</th>\n",
       "      <th>Ср. время на сайте (сек)</th>\n",
       "      <th>0</th>\n",
       "    </tr>\n",
       "  </thead>\n",
       "  <tbody>\n",
       "    <tr>\n",
       "      <th>0</th>\n",
       "      <td>2023-12-18 19:03:00</td>\n",
       "      <td>Данилова Светлана Викторовна</td>\n",
       "      <td>Эккаунты</td>\n",
       "      <td>318949</td>\n",
       "      <td>https://adindex.ru/news/ek/2023/12/18/318949.p...</td>\n",
       "      <td>2023-12-18 19:03:00</td>\n",
       "      <td>Данилова Светлана Викторовна</td>\n",
       "      <td>Эккаунты</td>\n",
       "      <td>318949.0</td>\n",
       "      <td>3.0</td>\n",
       "      <td>5.0</td>\n",
       "      <td>3.0</td>\n",
       "      <td>0.000000</td>\n",
       "      <td>2.000000</td>\n",
       "      <td>83.000000</td>\n",
       "      <td>NaN</td>\n",
       "    </tr>\n",
       "    <tr>\n",
       "      <th>1</th>\n",
       "      <td>2023-12-18 18:51:00</td>\n",
       "      <td>Петрова Мария Сергеевна</td>\n",
       "      <td>Тенденции</td>\n",
       "      <td>318946</td>\n",
       "      <td>https://adindex.ru/news/tendencies/2023/12/18/...</td>\n",
       "      <td>2023-12-18 18:51:00</td>\n",
       "      <td>Петрова Мария Сергеевна</td>\n",
       "      <td>Тенденции</td>\n",
       "      <td>318946.0</td>\n",
       "      <td>2.0</td>\n",
       "      <td>34.0</td>\n",
       "      <td>2.0</td>\n",
       "      <td>0.000000</td>\n",
       "      <td>17.000000</td>\n",
       "      <td>4050.000000</td>\n",
       "      <td>NaN</td>\n",
       "    </tr>\n",
       "    <tr>\n",
       "      <th>2</th>\n",
       "      <td>2023-12-18 18:48:00</td>\n",
       "      <td>Сидоров Антон Владимирович</td>\n",
       "      <td>Маркетинг</td>\n",
       "      <td>318945</td>\n",
       "      <td>https://adindex.ru/news/marketing/2023/12/18/3...</td>\n",
       "      <td>2023-12-18 18:48:00</td>\n",
       "      <td>Сидоров Антон Владимирович</td>\n",
       "      <td>Маркетинг</td>\n",
       "      <td>318945.0</td>\n",
       "      <td>11.0</td>\n",
       "      <td>51.0</td>\n",
       "      <td>11.0</td>\n",
       "      <td>0.000000</td>\n",
       "      <td>2.000000</td>\n",
       "      <td>39.000000</td>\n",
       "      <td>NaN</td>\n",
       "    </tr>\n",
       "    <tr>\n",
       "      <th>3</th>\n",
       "      <td>2023-12-18 18:31:00</td>\n",
       "      <td>Андреева Анастасия Андреевна</td>\n",
       "      <td>Дизайн</td>\n",
       "      <td>318944</td>\n",
       "      <td>https://adindex.ru/news/design/2023/12/18/3189...</td>\n",
       "      <td>2023-12-18 18:31:00</td>\n",
       "      <td>Андреева Анастасия Андреевна</td>\n",
       "      <td>Дизайн</td>\n",
       "      <td>318944.0</td>\n",
       "      <td>14.0</td>\n",
       "      <td>46.0</td>\n",
       "      <td>14.0</td>\n",
       "      <td>5.000000</td>\n",
       "      <td>1.600000</td>\n",
       "      <td>77.000000</td>\n",
       "      <td>NaN</td>\n",
       "    </tr>\n",
       "    <tr>\n",
       "      <th>4</th>\n",
       "      <td>2023-12-18 17:51:00</td>\n",
       "      <td>Данилова Светлана Викторовна</td>\n",
       "      <td>Креатив</td>\n",
       "      <td>318936</td>\n",
       "      <td>https://adindex.ru/news/creative/2023/12/18/31...</td>\n",
       "      <td>2023-12-18 17:51:00</td>\n",
       "      <td>Данилова Светлана Викторовна</td>\n",
       "      <td>Креатив</td>\n",
       "      <td>318936.0</td>\n",
       "      <td>7.0</td>\n",
       "      <td>54.0</td>\n",
       "      <td>7.0</td>\n",
       "      <td>0.000000</td>\n",
       "      <td>6.250000</td>\n",
       "      <td>1934.750000</td>\n",
       "      <td>NaN</td>\n",
       "    </tr>\n",
       "    <tr>\n",
       "      <th>5</th>\n",
       "      <td>2023-12-18 16:58:00</td>\n",
       "      <td>Григорьева Людмила Григорьевна</td>\n",
       "      <td>Медиа</td>\n",
       "      <td>318923</td>\n",
       "      <td>https://adindex.ru/news/media/2023/12/18/31892...</td>\n",
       "      <td>2023-12-18 16:58:00</td>\n",
       "      <td>Григорьева Людмила Григорьевна</td>\n",
       "      <td>Медиа</td>\n",
       "      <td>318923.0</td>\n",
       "      <td>29.0</td>\n",
       "      <td>97.0</td>\n",
       "      <td>29.0</td>\n",
       "      <td>0.000000</td>\n",
       "      <td>1.071429</td>\n",
       "      <td>23.000000</td>\n",
       "      <td>NaN</td>\n",
       "    </tr>\n",
       "    <tr>\n",
       "      <th>6</th>\n",
       "      <td>2023-12-18 14:32:00</td>\n",
       "      <td>Егорова Надежда Андреевна</td>\n",
       "      <td>Digital</td>\n",
       "      <td>318864</td>\n",
       "      <td>https://adindex.ru/news/digital/2023/12/18/318...</td>\n",
       "      <td>2023-12-18 14:32:00</td>\n",
       "      <td>Егорова Надежда Андреевна</td>\n",
       "      <td>Digital</td>\n",
       "      <td>318864.0</td>\n",
       "      <td>11.0</td>\n",
       "      <td>45.0</td>\n",
       "      <td>11.0</td>\n",
       "      <td>10.000000</td>\n",
       "      <td>4.233333</td>\n",
       "      <td>146.000000</td>\n",
       "      <td>NaN</td>\n",
       "    </tr>\n",
       "    <tr>\n",
       "      <th>7</th>\n",
       "      <td>2023-12-18 13:51:00</td>\n",
       "      <td>Данилова Светлана Викторовна</td>\n",
       "      <td>Право</td>\n",
       "      <td>318862</td>\n",
       "      <td>https://adindex.ru/news/right/2023/12/18/31886...</td>\n",
       "      <td>2023-12-18 13:51:00</td>\n",
       "      <td>Данилова Светлана Викторовна</td>\n",
       "      <td>Право</td>\n",
       "      <td>318862.0</td>\n",
       "      <td>20.0</td>\n",
       "      <td>100.0</td>\n",
       "      <td>20.0</td>\n",
       "      <td>0.000000</td>\n",
       "      <td>4.500000</td>\n",
       "      <td>86.000000</td>\n",
       "      <td>NaN</td>\n",
       "    </tr>\n",
       "    <tr>\n",
       "      <th>8</th>\n",
       "      <td>2023-12-18 13:03:00</td>\n",
       "      <td>Сидоров Антон Владимирович</td>\n",
       "      <td>Пресс-релизы</td>\n",
       "      <td>318819</td>\n",
       "      <td>https://adindex.ru/news/releases/2023/12/18/31...</td>\n",
       "      <td>NaN</td>\n",
       "      <td>NaN</td>\n",
       "      <td>NaN</td>\n",
       "      <td>NaN</td>\n",
       "      <td>NaN</td>\n",
       "      <td>NaN</td>\n",
       "      <td>NaN</td>\n",
       "      <td>NaN</td>\n",
       "      <td>NaN</td>\n",
       "      <td>NaN</td>\n",
       "      <td>NaN</td>\n",
       "    </tr>\n",
       "    <tr>\n",
       "      <th>9</th>\n",
       "      <td>2023-12-18 12:53:00</td>\n",
       "      <td>Васильева Екатерина Васильевна</td>\n",
       "      <td>Исследования</td>\n",
       "      <td>318849</td>\n",
       "      <td>https://adindex.ru/news/researches/2023/12/18/...</td>\n",
       "      <td>2023-12-18 12:53:00</td>\n",
       "      <td>Васильева Екатерина Васильевна</td>\n",
       "      <td>Исследования</td>\n",
       "      <td>318849.0</td>\n",
       "      <td>28.0</td>\n",
       "      <td>68.0</td>\n",
       "      <td>27.0</td>\n",
       "      <td>0.000000</td>\n",
       "      <td>4.000000</td>\n",
       "      <td>67.000000</td>\n",
       "      <td>NaN</td>\n",
       "    </tr>\n",
       "    <tr>\n",
       "      <th>10</th>\n",
       "      <td>2023-12-18 12:35:00</td>\n",
       "      <td>Сидоров Антон Владимирович</td>\n",
       "      <td>Исследования</td>\n",
       "      <td>318842</td>\n",
       "      <td>https://adindex.ru/news/researches/2023/12/18/...</td>\n",
       "      <td>2023-12-18 12:35:00</td>\n",
       "      <td>Сидоров Антон Владимирович</td>\n",
       "      <td>Исследования</td>\n",
       "      <td>318842.0</td>\n",
       "      <td>23.0</td>\n",
       "      <td>61.0</td>\n",
       "      <td>23.0</td>\n",
       "      <td>0.000000</td>\n",
       "      <td>1.166667</td>\n",
       "      <td>141.433333</td>\n",
       "      <td>NaN</td>\n",
       "    </tr>\n",
       "    <tr>\n",
       "      <th>11</th>\n",
       "      <td>2023-12-18 11:18:00</td>\n",
       "      <td>Иванов Иван Иванович</td>\n",
       "      <td>Медиа</td>\n",
       "      <td>318818</td>\n",
       "      <td>https://adindex.ru/news/media/2023/12/18/31881...</td>\n",
       "      <td>2023-12-18 11:18:00</td>\n",
       "      <td>Иванов Иван Иванович</td>\n",
       "      <td>Медиа</td>\n",
       "      <td>318818.0</td>\n",
       "      <td>31.0</td>\n",
       "      <td>105.0</td>\n",
       "      <td>30.0</td>\n",
       "      <td>12.500000</td>\n",
       "      <td>1.583333</td>\n",
       "      <td>44.930556</td>\n",
       "      <td>NaN</td>\n",
       "    </tr>\n",
       "    <tr>\n",
       "      <th>12</th>\n",
       "      <td>2023-12-18 09:43:00</td>\n",
       "      <td>Иванов Иван Иванович</td>\n",
       "      <td>Креатив</td>\n",
       "      <td>318793</td>\n",
       "      <td>https://adindex.ru/news/creative/2023/12/18/31...</td>\n",
       "      <td>2023-12-18 09:43:00</td>\n",
       "      <td>Иванов Иван Иванович</td>\n",
       "      <td>Креатив</td>\n",
       "      <td>318793.0</td>\n",
       "      <td>40.0</td>\n",
       "      <td>167.0</td>\n",
       "      <td>39.0</td>\n",
       "      <td>0.000000</td>\n",
       "      <td>2.500000</td>\n",
       "      <td>116.730263</td>\n",
       "      <td>NaN</td>\n",
       "    </tr>\n",
       "    <tr>\n",
       "      <th>13</th>\n",
       "      <td>2023-12-18 09:02:00</td>\n",
       "      <td>Иванов Иван Иванович</td>\n",
       "      <td>Тенденции</td>\n",
       "      <td>318791</td>\n",
       "      <td>https://adindex.ru/news/tendencies/2023/12/18/...</td>\n",
       "      <td>2023-12-18 09:02:00</td>\n",
       "      <td>Иванов Иван Иванович</td>\n",
       "      <td>Тенденции</td>\n",
       "      <td>318791.0</td>\n",
       "      <td>30.0</td>\n",
       "      <td>120.0</td>\n",
       "      <td>29.0</td>\n",
       "      <td>0.000000</td>\n",
       "      <td>3.000000</td>\n",
       "      <td>138.333333</td>\n",
       "      <td>NaN</td>\n",
       "    </tr>\n",
       "    <tr>\n",
       "      <th>14</th>\n",
       "      <td>2023-12-18 08:37:00</td>\n",
       "      <td>Андреева Анастасия Андреевна</td>\n",
       "      <td>Тенденции</td>\n",
       "      <td>318790</td>\n",
       "      <td>https://adindex.ru/news/tendencies/2023/12/18/...</td>\n",
       "      <td>2023-12-18 08:37:00</td>\n",
       "      <td>Андреева Анастасия Андреевна</td>\n",
       "      <td>Тенденции</td>\n",
       "      <td>318790.0</td>\n",
       "      <td>48.0</td>\n",
       "      <td>96.0</td>\n",
       "      <td>44.0</td>\n",
       "      <td>0.000000</td>\n",
       "      <td>1.600000</td>\n",
       "      <td>27.800000</td>\n",
       "      <td>NaN</td>\n",
       "    </tr>\n",
       "    <tr>\n",
       "      <th>15</th>\n",
       "      <td>2023-12-18 07:49:00</td>\n",
       "      <td>Борисова Ольга Борисовна</td>\n",
       "      <td>Право</td>\n",
       "      <td>318789</td>\n",
       "      <td>https://adindex.ru/news/right/2023/12/18/31878...</td>\n",
       "      <td>2023-12-18 07:49:00</td>\n",
       "      <td>Борисова Ольга Борисовна</td>\n",
       "      <td>Право</td>\n",
       "      <td>318789.0</td>\n",
       "      <td>23.0</td>\n",
       "      <td>95.0</td>\n",
       "      <td>22.0</td>\n",
       "      <td>20.000000</td>\n",
       "      <td>1.000000</td>\n",
       "      <td>15.000000</td>\n",
       "      <td>NaN</td>\n",
       "    </tr>\n",
       "    <tr>\n",
       "      <th>16</th>\n",
       "      <td>2023-12-18 07:29:00</td>\n",
       "      <td>Васильева Екатерина Васильевна</td>\n",
       "      <td>Маркетинг</td>\n",
       "      <td>318788</td>\n",
       "      <td>https://adindex.ru/news/marketing/2023/12/18/3...</td>\n",
       "      <td>2023-12-18 07:29:00</td>\n",
       "      <td>Васильева Екатерина Васильевна</td>\n",
       "      <td>Маркетинг</td>\n",
       "      <td>318788.0</td>\n",
       "      <td>18.0</td>\n",
       "      <td>74.0</td>\n",
       "      <td>16.0</td>\n",
       "      <td>0.000000</td>\n",
       "      <td>2.583333</td>\n",
       "      <td>147.250000</td>\n",
       "      <td>NaN</td>\n",
       "    </tr>\n",
       "    <tr>\n",
       "      <th>17</th>\n",
       "      <td>2023-12-18 07:18:00</td>\n",
       "      <td>Сидоров Антон Владимирович</td>\n",
       "      <td>Тенденции</td>\n",
       "      <td>318787</td>\n",
       "      <td>https://adindex.ru/news/tendencies/2023/12/18/...</td>\n",
       "      <td>2023-12-18 07:18:00</td>\n",
       "      <td>Сидоров Антон Владимирович</td>\n",
       "      <td>Тенденции</td>\n",
       "      <td>318787.0</td>\n",
       "      <td>77.0</td>\n",
       "      <td>146.0</td>\n",
       "      <td>76.0</td>\n",
       "      <td>0.000000</td>\n",
       "      <td>2.266949</td>\n",
       "      <td>124.333333</td>\n",
       "      <td>NaN</td>\n",
       "    </tr>\n",
       "    <tr>\n",
       "      <th>18</th>\n",
       "      <td>2023-12-18 07:08:00</td>\n",
       "      <td>Васильева Екатерина Васильевна</td>\n",
       "      <td>Кадры</td>\n",
       "      <td>318786</td>\n",
       "      <td>https://adindex.ru/news/hr/2023/12/18/318786.p...</td>\n",
       "      <td>2023-12-18 07:08:00</td>\n",
       "      <td>Васильева Екатерина Васильевна</td>\n",
       "      <td>Кадры</td>\n",
       "      <td>318786.0</td>\n",
       "      <td>94.0</td>\n",
       "      <td>142.0</td>\n",
       "      <td>90.0</td>\n",
       "      <td>0.000000</td>\n",
       "      <td>1.000000</td>\n",
       "      <td>15.000000</td>\n",
       "      <td>NaN</td>\n",
       "    </tr>\n",
       "    <tr>\n",
       "      <th>19</th>\n",
       "      <td>2023-12-16 12:00:00</td>\n",
       "      <td>Андреева Анастасия Андреевна</td>\n",
       "      <td>Маркетинг</td>\n",
       "      <td>318768</td>\n",
       "      <td>https://adindex.ru/news/marketing/2023/12/15/3...</td>\n",
       "      <td>2023-12-16 12:00:00</td>\n",
       "      <td>Андреева Анастасия Андреевна</td>\n",
       "      <td>Маркетинг</td>\n",
       "      <td>318768.0</td>\n",
       "      <td>39.0</td>\n",
       "      <td>89.0</td>\n",
       "      <td>36.0</td>\n",
       "      <td>0.000000</td>\n",
       "      <td>1.618421</td>\n",
       "      <td>70.875000</td>\n",
       "      <td>NaN</td>\n",
       "    </tr>\n",
       "    <tr>\n",
       "      <th>20</th>\n",
       "      <td>2023-12-15 20:25:00</td>\n",
       "      <td>Егорова Надежда Андреевна</td>\n",
       "      <td>Медиа</td>\n",
       "      <td>318741</td>\n",
       "      <td>https://adindex.ru/news/media/2023/12/15/31874...</td>\n",
       "      <td>2023-12-15 20:25:00</td>\n",
       "      <td>Егорова Надежда Андреевна</td>\n",
       "      <td>Медиа</td>\n",
       "      <td>318741.0</td>\n",
       "      <td>5.0</td>\n",
       "      <td>12.0</td>\n",
       "      <td>5.0</td>\n",
       "      <td>33.333333</td>\n",
       "      <td>1.666667</td>\n",
       "      <td>453.666667</td>\n",
       "      <td>NaN</td>\n",
       "    </tr>\n",
       "    <tr>\n",
       "      <th>21</th>\n",
       "      <td>2023-12-15 18:48:00</td>\n",
       "      <td>Иванов Иван Иванович</td>\n",
       "      <td>Тенденции</td>\n",
       "      <td>318766</td>\n",
       "      <td>https://adindex.ru/news/tendencies/2023/12/15/...</td>\n",
       "      <td>2023-12-15 18:48:00</td>\n",
       "      <td>Иванов Иван Иванович</td>\n",
       "      <td>Тенденции</td>\n",
       "      <td>318766.0</td>\n",
       "      <td>5.0</td>\n",
       "      <td>48.0</td>\n",
       "      <td>5.0</td>\n",
       "      <td>0.000000</td>\n",
       "      <td>8.833333</td>\n",
       "      <td>1596.583333</td>\n",
       "      <td>NaN</td>\n",
       "    </tr>\n",
       "    <tr>\n",
       "      <th>22</th>\n",
       "      <td>2023-12-15 16:10:00</td>\n",
       "      <td>Васильева Екатерина Васильевна</td>\n",
       "      <td>Кадры</td>\n",
       "      <td>318579</td>\n",
       "      <td>https://adindex.ru/news/hr/2023/12/15/318579.p...</td>\n",
       "      <td>NaN</td>\n",
       "      <td>NaN</td>\n",
       "      <td>NaN</td>\n",
       "      <td>NaN</td>\n",
       "      <td>NaN</td>\n",
       "      <td>NaN</td>\n",
       "      <td>NaN</td>\n",
       "      <td>NaN</td>\n",
       "      <td>NaN</td>\n",
       "      <td>NaN</td>\n",
       "      <td>NaN</td>\n",
       "    </tr>\n",
       "    <tr>\n",
       "      <th>23</th>\n",
       "      <td>2023-12-15 15:57:00</td>\n",
       "      <td>Данилова Светлана Викторовна</td>\n",
       "      <td>Пресс-релизы</td>\n",
       "      <td>318575</td>\n",
       "      <td>https://adindex.ru/news/releases/2023/12/15/31...</td>\n",
       "      <td>NaN</td>\n",
       "      <td>NaN</td>\n",
       "      <td>NaN</td>\n",
       "      <td>NaN</td>\n",
       "      <td>NaN</td>\n",
       "      <td>NaN</td>\n",
       "      <td>NaN</td>\n",
       "      <td>NaN</td>\n",
       "      <td>NaN</td>\n",
       "      <td>NaN</td>\n",
       "      <td>NaN</td>\n",
       "    </tr>\n",
       "    <tr>\n",
       "      <th>24</th>\n",
       "      <td>2023-12-15 13:20:00</td>\n",
       "      <td>Иванов Иван Иванович</td>\n",
       "      <td>Кадры</td>\n",
       "      <td>318545</td>\n",
       "      <td>https://adindex.ru/news/hr/2023/12/15/318545.p...</td>\n",
       "      <td>2023-12-15 13:20:00</td>\n",
       "      <td>Иванов Иван Иванович</td>\n",
       "      <td>Кадры</td>\n",
       "      <td>318545.0</td>\n",
       "      <td>3.0</td>\n",
       "      <td>3.0</td>\n",
       "      <td>3.0</td>\n",
       "      <td>75.000000</td>\n",
       "      <td>1.000000</td>\n",
       "      <td>8.750000</td>\n",
       "      <td>NaN</td>\n",
       "    </tr>\n",
       "    <tr>\n",
       "      <th>25</th>\n",
       "      <td>2023-12-15 12:34:00</td>\n",
       "      <td>Андреева Анастасия Андреевна</td>\n",
       "      <td>Медиа</td>\n",
       "      <td>318486</td>\n",
       "      <td>https://adindex.ru/news/media/2023/12/15/31848...</td>\n",
       "      <td>2023-12-15 12:34:00</td>\n",
       "      <td>Андреева Анастасия Андреевна</td>\n",
       "      <td>Медиа</td>\n",
       "      <td>318486.0</td>\n",
       "      <td>10.0</td>\n",
       "      <td>17.0</td>\n",
       "      <td>10.0</td>\n",
       "      <td>0.000000</td>\n",
       "      <td>2.166667</td>\n",
       "      <td>37.785714</td>\n",
       "      <td>NaN</td>\n",
       "    </tr>\n",
       "    <tr>\n",
       "      <th>26</th>\n",
       "      <td>2023-12-15 11:59:00</td>\n",
       "      <td>Сидоров Антон Владимирович</td>\n",
       "      <td>Пресс-релизы</td>\n",
       "      <td>318413</td>\n",
       "      <td>https://adindex.ru/news/releases/2023/12/15/31...</td>\n",
       "      <td>2023-12-15 11:59:00</td>\n",
       "      <td>Сидоров Антон Владимирович</td>\n",
       "      <td>Пресс-релизы</td>\n",
       "      <td>318413.0</td>\n",
       "      <td>423.0</td>\n",
       "      <td>468.0</td>\n",
       "      <td>409.0</td>\n",
       "      <td>23.717949</td>\n",
       "      <td>1.000000</td>\n",
       "      <td>18.000000</td>\n",
       "      <td>NaN</td>\n",
       "    </tr>\n",
       "    <tr>\n",
       "      <th>27</th>\n",
       "      <td>2023-12-15 11:52:00</td>\n",
       "      <td>Данилова Светлана Викторовна</td>\n",
       "      <td>Медиа</td>\n",
       "      <td>318437</td>\n",
       "      <td>https://adindex.ru/news/media/2023/12/15/31843...</td>\n",
       "      <td>2023-12-15 11:52:00</td>\n",
       "      <td>Данилова Светлана Викторовна</td>\n",
       "      <td>Медиа</td>\n",
       "      <td>318437.0</td>\n",
       "      <td>2.0</td>\n",
       "      <td>11.0</td>\n",
       "      <td>2.0</td>\n",
       "      <td>0.000000</td>\n",
       "      <td>5.500000</td>\n",
       "      <td>106.000000</td>\n",
       "      <td>NaN</td>\n",
       "    </tr>\n",
       "    <tr>\n",
       "      <th>28</th>\n",
       "      <td>2023-12-15 11:28:00</td>\n",
       "      <td>Егорова Надежда Андреевна</td>\n",
       "      <td>Пресс-релизы</td>\n",
       "      <td>318383</td>\n",
       "      <td>https://adindex.ru/news/releases/2023/12/15/31...</td>\n",
       "      <td>NaN</td>\n",
       "      <td>NaN</td>\n",
       "      <td>NaN</td>\n",
       "      <td>NaN</td>\n",
       "      <td>NaN</td>\n",
       "      <td>NaN</td>\n",
       "      <td>NaN</td>\n",
       "      <td>NaN</td>\n",
       "      <td>NaN</td>\n",
       "      <td>NaN</td>\n",
       "      <td>NaN</td>\n",
       "    </tr>\n",
       "    <tr>\n",
       "      <th>29</th>\n",
       "      <td>2023-12-15 09:45:00</td>\n",
       "      <td>Петрова Мария Сергеевна</td>\n",
       "      <td>Digital</td>\n",
       "      <td>318382</td>\n",
       "      <td>https://adindex.ru/news/digital/2023/12/15/318...</td>\n",
       "      <td>2023-12-15 09:45:00</td>\n",
       "      <td>Петрова Мария Сергеевна</td>\n",
       "      <td>Digital</td>\n",
       "      <td>318382.0</td>\n",
       "      <td>11.0</td>\n",
       "      <td>69.0</td>\n",
       "      <td>11.0</td>\n",
       "      <td>0.000000</td>\n",
       "      <td>2.333333</td>\n",
       "      <td>669.000000</td>\n",
       "      <td>NaN</td>\n",
       "    </tr>\n",
       "    <tr>\n",
       "      <th>30</th>\n",
       "      <td>2023-12-15 08:32:00</td>\n",
       "      <td>Данилова Светлана Викторовна</td>\n",
       "      <td>Право</td>\n",
       "      <td>318381</td>\n",
       "      <td>https://adindex.ru/news/right/2023/12/15/31838...</td>\n",
       "      <td>NaN</td>\n",
       "      <td>NaN</td>\n",
       "      <td>NaN</td>\n",
       "      <td>NaN</td>\n",
       "      <td>NaN</td>\n",
       "      <td>NaN</td>\n",
       "      <td>NaN</td>\n",
       "      <td>NaN</td>\n",
       "      <td>NaN</td>\n",
       "      <td>NaN</td>\n",
       "      <td>NaN</td>\n",
       "    </tr>\n",
       "    <tr>\n",
       "      <th>31</th>\n",
       "      <td>2023-12-15 07:54:00</td>\n",
       "      <td>Григорьева Людмила Григорьевна</td>\n",
       "      <td>Тенденции</td>\n",
       "      <td>318379</td>\n",
       "      <td>https://adindex.ru/news/tendencies/2023/12/15/...</td>\n",
       "      <td>2023-12-15 07:54:00</td>\n",
       "      <td>Григорьева Людмила Григорьевна</td>\n",
       "      <td>Тенденции</td>\n",
       "      <td>318379.0</td>\n",
       "      <td>1.0</td>\n",
       "      <td>1.0</td>\n",
       "      <td>1.0</td>\n",
       "      <td>0.000000</td>\n",
       "      <td>1.000000</td>\n",
       "      <td>14.000000</td>\n",
       "      <td>NaN</td>\n",
       "    </tr>\n",
       "    <tr>\n",
       "      <th>32</th>\n",
       "      <td>2023-12-15 07:42:00</td>\n",
       "      <td>Егорова Надежда Андреевна</td>\n",
       "      <td>Маркетинг</td>\n",
       "      <td>318378</td>\n",
       "      <td>https://adindex.ru/news/marketing/2023/12/15/3...</td>\n",
       "      <td>2023-12-15 07:42:00</td>\n",
       "      <td>Егорова Надежда Андреевна</td>\n",
       "      <td>Маркетинг</td>\n",
       "      <td>318378.0</td>\n",
       "      <td>14.0</td>\n",
       "      <td>33.0</td>\n",
       "      <td>14.0</td>\n",
       "      <td>50.000000</td>\n",
       "      <td>1.730769</td>\n",
       "      <td>31.038462</td>\n",
       "      <td>NaN</td>\n",
       "    </tr>\n",
       "    <tr>\n",
       "      <th>33</th>\n",
       "      <td>2023-12-15 07:34:00</td>\n",
       "      <td>Борисова Ольга Борисовна</td>\n",
       "      <td>Digital</td>\n",
       "      <td>318377</td>\n",
       "      <td>https://adindex.ru/news/digital/2023/12/15/318...</td>\n",
       "      <td>2023-12-15 07:34:00</td>\n",
       "      <td>Борисова Ольга Борисовна</td>\n",
       "      <td>Digital</td>\n",
       "      <td>318377.0</td>\n",
       "      <td>8.0</td>\n",
       "      <td>32.0</td>\n",
       "      <td>7.0</td>\n",
       "      <td>25.000000</td>\n",
       "      <td>1.500000</td>\n",
       "      <td>32.000000</td>\n",
       "      <td>NaN</td>\n",
       "    </tr>\n",
       "    <tr>\n",
       "      <th>34</th>\n",
       "      <td>2023-12-15 07:17:00</td>\n",
       "      <td>Васильева Екатерина Васильевна</td>\n",
       "      <td>Право</td>\n",
       "      <td>318376</td>\n",
       "      <td>https://adindex.ru/news/right/2023/12/15/31837...</td>\n",
       "      <td>2023-12-15 07:17:00</td>\n",
       "      <td>Васильева Екатерина Васильевна</td>\n",
       "      <td>Право</td>\n",
       "      <td>318376.0</td>\n",
       "      <td>21.0</td>\n",
       "      <td>25.0</td>\n",
       "      <td>21.0</td>\n",
       "      <td>23.809524</td>\n",
       "      <td>1.190476</td>\n",
       "      <td>55.666667</td>\n",
       "      <td>NaN</td>\n",
       "    </tr>\n",
       "    <tr>\n",
       "      <th>35</th>\n",
       "      <td>2023-12-14 19:06:00</td>\n",
       "      <td>Петрова Мария Сергеевна</td>\n",
       "      <td>Тенденции</td>\n",
       "      <td>318374</td>\n",
       "      <td>https://adindex.ru/news/tendencies/2023/12/14/...</td>\n",
       "      <td>2023-12-14 19:06:00</td>\n",
       "      <td>Петрова Мария Сергеевна</td>\n",
       "      <td>Тенденции</td>\n",
       "      <td>318374.0</td>\n",
       "      <td>1.0</td>\n",
       "      <td>9.0</td>\n",
       "      <td>1.0</td>\n",
       "      <td>0.000000</td>\n",
       "      <td>9.000000</td>\n",
       "      <td>567.000000</td>\n",
       "      <td>NaN</td>\n",
       "    </tr>\n",
       "    <tr>\n",
       "      <th>36</th>\n",
       "      <td>2023-12-14 18:29:00</td>\n",
       "      <td>Борисова Ольга Борисовна</td>\n",
       "      <td>Право</td>\n",
       "      <td>318373</td>\n",
       "      <td>https://adindex.ru/news/right/2023/12/14/31837...</td>\n",
       "      <td>NaN</td>\n",
       "      <td>NaN</td>\n",
       "      <td>NaN</td>\n",
       "      <td>NaN</td>\n",
       "      <td>NaN</td>\n",
       "      <td>NaN</td>\n",
       "      <td>NaN</td>\n",
       "      <td>NaN</td>\n",
       "      <td>NaN</td>\n",
       "      <td>NaN</td>\n",
       "      <td>NaN</td>\n",
       "    </tr>\n",
       "    <tr>\n",
       "      <th>37</th>\n",
       "      <td>2023-12-14 17:31:00</td>\n",
       "      <td>Васильева Екатерина Васильевна</td>\n",
       "      <td>Креатив</td>\n",
       "      <td>318371</td>\n",
       "      <td>https://adindex.ru/news/creative/2023/12/14/31...</td>\n",
       "      <td>2023-12-14 17:31:00</td>\n",
       "      <td>Васильева Екатерина Васильевна</td>\n",
       "      <td>Креатив</td>\n",
       "      <td>318371.0</td>\n",
       "      <td>5.0</td>\n",
       "      <td>25.0</td>\n",
       "      <td>5.0</td>\n",
       "      <td>0.000000</td>\n",
       "      <td>3.416667</td>\n",
       "      <td>481.666667</td>\n",
       "      <td>NaN</td>\n",
       "    </tr>\n",
       "    <tr>\n",
       "      <th>38</th>\n",
       "      <td>2023-12-14 16:22:00</td>\n",
       "      <td>Петрова Мария Сергеевна</td>\n",
       "      <td>Исследования</td>\n",
       "      <td>318368</td>\n",
       "      <td>https://adindex.ru/news/researches/2023/12/14/...</td>\n",
       "      <td>2023-12-14 16:22:00</td>\n",
       "      <td>Петрова Мария Сергеевна</td>\n",
       "      <td>Исследования</td>\n",
       "      <td>318368.0</td>\n",
       "      <td>12.0</td>\n",
       "      <td>14.0</td>\n",
       "      <td>12.0</td>\n",
       "      <td>10.000000</td>\n",
       "      <td>1.000000</td>\n",
       "      <td>13.000000</td>\n",
       "      <td>NaN</td>\n",
       "    </tr>\n",
       "    <tr>\n",
       "      <th>39</th>\n",
       "      <td>2023-12-14 15:31:00</td>\n",
       "      <td>Иванов Иван Иванович</td>\n",
       "      <td>Кадры</td>\n",
       "      <td>318366</td>\n",
       "      <td>https://adindex.ru/news/hr/2023/12/14/318366.p...</td>\n",
       "      <td>NaN</td>\n",
       "      <td>NaN</td>\n",
       "      <td>NaN</td>\n",
       "      <td>NaN</td>\n",
       "      <td>NaN</td>\n",
       "      <td>NaN</td>\n",
       "      <td>NaN</td>\n",
       "      <td>NaN</td>\n",
       "      <td>NaN</td>\n",
       "      <td>NaN</td>\n",
       "      <td>NaN</td>\n",
       "    </tr>\n",
       "    <tr>\n",
       "      <th>40</th>\n",
       "      <td>2023-12-14 13:46:00</td>\n",
       "      <td>Григорьева Людмила Григорьевна</td>\n",
       "      <td>Креатив</td>\n",
       "      <td>318361</td>\n",
       "      <td>https://adindex.ru/news/creative/2023/12/14/31...</td>\n",
       "      <td>2023-12-14 13:46:00</td>\n",
       "      <td>Григорьева Людмила Григорьевна</td>\n",
       "      <td>Креатив</td>\n",
       "      <td>318361.0</td>\n",
       "      <td>4.0</td>\n",
       "      <td>11.0</td>\n",
       "      <td>4.0</td>\n",
       "      <td>0.000000</td>\n",
       "      <td>1.000000</td>\n",
       "      <td>15.000000</td>\n",
       "      <td>NaN</td>\n",
       "    </tr>\n",
       "    <tr>\n",
       "      <th>41</th>\n",
       "      <td>2023-12-14 12:10:00</td>\n",
       "      <td>Сидоров Антон Владимирович</td>\n",
       "      <td>Тенденции</td>\n",
       "      <td>318350</td>\n",
       "      <td>https://adindex.ru/news/tendencies/2023/12/14/...</td>\n",
       "      <td>2023-12-14 12:10:00</td>\n",
       "      <td>Сидоров Антон Владимирович</td>\n",
       "      <td>Тенденции</td>\n",
       "      <td>318350.0</td>\n",
       "      <td>1.0</td>\n",
       "      <td>10.0</td>\n",
       "      <td>1.0</td>\n",
       "      <td>0.000000</td>\n",
       "      <td>10.000000</td>\n",
       "      <td>230.000000</td>\n",
       "      <td>NaN</td>\n",
       "    </tr>\n",
       "    <tr>\n",
       "      <th>42</th>\n",
       "      <td>2023-12-14 10:30:00</td>\n",
       "      <td>Петрова Мария Сергеевна</td>\n",
       "      <td>Маркетинг</td>\n",
       "      <td>318336</td>\n",
       "      <td>https://adindex.ru/news/marketing/2023/12/14/3...</td>\n",
       "      <td>2023-12-14 10:30:00</td>\n",
       "      <td>Петрова Мария Сергеевна</td>\n",
       "      <td>Маркетинг</td>\n",
       "      <td>318336.0</td>\n",
       "      <td>2.0</td>\n",
       "      <td>4.0</td>\n",
       "      <td>2.0</td>\n",
       "      <td>50.000000</td>\n",
       "      <td>2.000000</td>\n",
       "      <td>23.000000</td>\n",
       "      <td>NaN</td>\n",
       "    </tr>\n",
       "    <tr>\n",
       "      <th>43</th>\n",
       "      <td>2023-12-14 10:05:00</td>\n",
       "      <td>Сидоров Антон Владимирович</td>\n",
       "      <td>Право</td>\n",
       "      <td>318335</td>\n",
       "      <td>https://adindex.ru/news/right/2023/12/14/31833...</td>\n",
       "      <td>2023-12-14 10:05:00</td>\n",
       "      <td>Сидоров Антон Владимирович</td>\n",
       "      <td>Право</td>\n",
       "      <td>318335.0</td>\n",
       "      <td>2.0</td>\n",
       "      <td>2.0</td>\n",
       "      <td>2.0</td>\n",
       "      <td>0.000000</td>\n",
       "      <td>1.000000</td>\n",
       "      <td>15.000000</td>\n",
       "      <td>NaN</td>\n",
       "    </tr>\n",
       "    <tr>\n",
       "      <th>44</th>\n",
       "      <td>2023-12-14 09:01:00</td>\n",
       "      <td>Данилова Светлана Викторовна</td>\n",
       "      <td>Digital</td>\n",
       "      <td>318334</td>\n",
       "      <td>https://adindex.ru/news/digital/2023/12/14/318...</td>\n",
       "      <td>2023-12-14 09:01:00</td>\n",
       "      <td>Данилова Светлана Викторовна</td>\n",
       "      <td>Digital</td>\n",
       "      <td>318334.0</td>\n",
       "      <td>7.0</td>\n",
       "      <td>9.0</td>\n",
       "      <td>7.0</td>\n",
       "      <td>18.750000</td>\n",
       "      <td>1.187500</td>\n",
       "      <td>25.250000</td>\n",
       "      <td>NaN</td>\n",
       "    </tr>\n",
       "    <tr>\n",
       "      <th>45</th>\n",
       "      <td>2023-12-14 08:34:00</td>\n",
       "      <td>Жукова Ирина Ильинична</td>\n",
       "      <td>Маркетинг</td>\n",
       "      <td>318333</td>\n",
       "      <td>https://adindex.ru/news/marketing/2023/12/14/3...</td>\n",
       "      <td>2023-12-14 08:34:00</td>\n",
       "      <td>Жукова Ирина Ильинична</td>\n",
       "      <td>Маркетинг</td>\n",
       "      <td>318333.0</td>\n",
       "      <td>9.0</td>\n",
       "      <td>44.0</td>\n",
       "      <td>8.0</td>\n",
       "      <td>0.000000</td>\n",
       "      <td>1.500000</td>\n",
       "      <td>18.750000</td>\n",
       "      <td>NaN</td>\n",
       "    </tr>\n",
       "    <tr>\n",
       "      <th>46</th>\n",
       "      <td>2023-12-14 07:59:00</td>\n",
       "      <td>Борисова Ольга Борисовна</td>\n",
       "      <td>Право</td>\n",
       "      <td>318331</td>\n",
       "      <td>https://adindex.ru/news/right/2023/12/14/31833...</td>\n",
       "      <td>2023-12-14 07:59:00</td>\n",
       "      <td>Борисова Ольга Борисовна</td>\n",
       "      <td>Право</td>\n",
       "      <td>318331.0</td>\n",
       "      <td>50.0</td>\n",
       "      <td>66.0</td>\n",
       "      <td>49.0</td>\n",
       "      <td>0.000000</td>\n",
       "      <td>7.000000</td>\n",
       "      <td>464.000000</td>\n",
       "      <td>NaN</td>\n",
       "    </tr>\n",
       "    <tr>\n",
       "      <th>47</th>\n",
       "      <td>2023-12-14 07:34:00</td>\n",
       "      <td>Андреева Анастасия Андреевна</td>\n",
       "      <td>Digital</td>\n",
       "      <td>318330</td>\n",
       "      <td>https://adindex.ru/news/digital/2023/12/14/318...</td>\n",
       "      <td>2023-12-14 07:34:00</td>\n",
       "      <td>Андреева Анастасия Андреевна</td>\n",
       "      <td>Digital</td>\n",
       "      <td>318330.0</td>\n",
       "      <td>6.0</td>\n",
       "      <td>54.0</td>\n",
       "      <td>6.0</td>\n",
       "      <td>0.000000</td>\n",
       "      <td>5.500000</td>\n",
       "      <td>1179.250000</td>\n",
       "      <td>NaN</td>\n",
       "    </tr>\n",
       "    <tr>\n",
       "      <th>48</th>\n",
       "      <td>2023-12-14 07:28:00</td>\n",
       "      <td>Борисова Ольга Борисовна</td>\n",
       "      <td>Тенденции</td>\n",
       "      <td>318329</td>\n",
       "      <td>https://adindex.ru/news/tendencies/2023/12/14/...</td>\n",
       "      <td>NaN</td>\n",
       "      <td>NaN</td>\n",
       "      <td>NaN</td>\n",
       "      <td>NaN</td>\n",
       "      <td>NaN</td>\n",
       "      <td>NaN</td>\n",
       "      <td>NaN</td>\n",
       "      <td>NaN</td>\n",
       "      <td>NaN</td>\n",
       "      <td>NaN</td>\n",
       "      <td>NaN</td>\n",
       "    </tr>\n",
       "    <tr>\n",
       "      <th>49</th>\n",
       "      <td>2023-12-14 07:10:00</td>\n",
       "      <td>Григорьева Людмила Григорьевна</td>\n",
       "      <td>Право</td>\n",
       "      <td>318328</td>\n",
       "      <td>https://adindex.ru/news/right/2023/12/14/31832...</td>\n",
       "      <td>2023-12-14 07:10:00</td>\n",
       "      <td>Григорьева Людмила Григорьевна</td>\n",
       "      <td>Право</td>\n",
       "      <td>318328.0</td>\n",
       "      <td>3.0</td>\n",
       "      <td>4.0</td>\n",
       "      <td>3.0</td>\n",
       "      <td>25.000000</td>\n",
       "      <td>1.500000</td>\n",
       "      <td>36.250000</td>\n",
       "      <td>NaN</td>\n",
       "    </tr>\n",
       "  </tbody>\n",
       "</table>\n",
       "</div>"
      ],
      "text/plain": [
       "                 date_x                        author_x    post_tag_x  \\\n",
       "0   2023-12-18 19:03:00    Данилова Светлана Викторовна      Эккаунты   \n",
       "1   2023-12-18 18:51:00         Петрова Мария Сергеевна     Тенденции   \n",
       "2   2023-12-18 18:48:00      Сидоров Антон Владимирович     Маркетинг   \n",
       "3   2023-12-18 18:31:00    Андреева Анастасия Андреевна        Дизайн   \n",
       "4   2023-12-18 17:51:00    Данилова Светлана Викторовна       Креатив   \n",
       "5   2023-12-18 16:58:00  Григорьева Людмила Григорьевна         Медиа   \n",
       "6   2023-12-18 14:32:00       Егорова Надежда Андреевна       Digital   \n",
       "7   2023-12-18 13:51:00    Данилова Светлана Викторовна         Право   \n",
       "8   2023-12-18 13:03:00      Сидоров Антон Владимирович  Пресс-релизы   \n",
       "9   2023-12-18 12:53:00  Васильева Екатерина Васильевна  Исследования   \n",
       "10  2023-12-18 12:35:00      Сидоров Антон Владимирович  Исследования   \n",
       "11  2023-12-18 11:18:00            Иванов Иван Иванович         Медиа   \n",
       "12  2023-12-18 09:43:00            Иванов Иван Иванович       Креатив   \n",
       "13  2023-12-18 09:02:00            Иванов Иван Иванович     Тенденции   \n",
       "14  2023-12-18 08:37:00    Андреева Анастасия Андреевна     Тенденции   \n",
       "15  2023-12-18 07:49:00        Борисова Ольга Борисовна         Право   \n",
       "16  2023-12-18 07:29:00  Васильева Екатерина Васильевна     Маркетинг   \n",
       "17  2023-12-18 07:18:00      Сидоров Антон Владимирович     Тенденции   \n",
       "18  2023-12-18 07:08:00  Васильева Екатерина Васильевна         Кадры   \n",
       "19  2023-12-16 12:00:00    Андреева Анастасия Андреевна     Маркетинг   \n",
       "20  2023-12-15 20:25:00       Егорова Надежда Андреевна         Медиа   \n",
       "21  2023-12-15 18:48:00            Иванов Иван Иванович     Тенденции   \n",
       "22  2023-12-15 16:10:00  Васильева Екатерина Васильевна         Кадры   \n",
       "23  2023-12-15 15:57:00    Данилова Светлана Викторовна  Пресс-релизы   \n",
       "24  2023-12-15 13:20:00            Иванов Иван Иванович         Кадры   \n",
       "25  2023-12-15 12:34:00    Андреева Анастасия Андреевна         Медиа   \n",
       "26  2023-12-15 11:59:00      Сидоров Антон Владимирович  Пресс-релизы   \n",
       "27  2023-12-15 11:52:00    Данилова Светлана Викторовна         Медиа   \n",
       "28  2023-12-15 11:28:00       Егорова Надежда Андреевна  Пресс-релизы   \n",
       "29  2023-12-15 09:45:00         Петрова Мария Сергеевна       Digital   \n",
       "30  2023-12-15 08:32:00    Данилова Светлана Викторовна         Право   \n",
       "31  2023-12-15 07:54:00  Григорьева Людмила Григорьевна     Тенденции   \n",
       "32  2023-12-15 07:42:00       Егорова Надежда Андреевна     Маркетинг   \n",
       "33  2023-12-15 07:34:00        Борисова Ольга Борисовна       Digital   \n",
       "34  2023-12-15 07:17:00  Васильева Екатерина Васильевна         Право   \n",
       "35  2023-12-14 19:06:00         Петрова Мария Сергеевна     Тенденции   \n",
       "36  2023-12-14 18:29:00        Борисова Ольга Борисовна         Право   \n",
       "37  2023-12-14 17:31:00  Васильева Екатерина Васильевна       Креатив   \n",
       "38  2023-12-14 16:22:00         Петрова Мария Сергеевна  Исследования   \n",
       "39  2023-12-14 15:31:00            Иванов Иван Иванович         Кадры   \n",
       "40  2023-12-14 13:46:00  Григорьева Людмила Григорьевна       Креатив   \n",
       "41  2023-12-14 12:10:00      Сидоров Антон Владимирович     Тенденции   \n",
       "42  2023-12-14 10:30:00         Петрова Мария Сергеевна     Маркетинг   \n",
       "43  2023-12-14 10:05:00      Сидоров Антон Владимирович         Право   \n",
       "44  2023-12-14 09:01:00    Данилова Светлана Викторовна       Digital   \n",
       "45  2023-12-14 08:34:00          Жукова Ирина Ильинична     Маркетинг   \n",
       "46  2023-12-14 07:59:00        Борисова Ольга Борисовна         Право   \n",
       "47  2023-12-14 07:34:00    Андреева Анастасия Андреевна       Digital   \n",
       "48  2023-12-14 07:28:00        Борисова Ольга Борисовна     Тенденции   \n",
       "49  2023-12-14 07:10:00  Григорьева Людмила Григорьевна         Право   \n",
       "\n",
       "    post_id_x                                               link  \\\n",
       "0      318949  https://adindex.ru/news/ek/2023/12/18/318949.p...   \n",
       "1      318946  https://adindex.ru/news/tendencies/2023/12/18/...   \n",
       "2      318945  https://adindex.ru/news/marketing/2023/12/18/3...   \n",
       "3      318944  https://adindex.ru/news/design/2023/12/18/3189...   \n",
       "4      318936  https://adindex.ru/news/creative/2023/12/18/31...   \n",
       "5      318923  https://adindex.ru/news/media/2023/12/18/31892...   \n",
       "6      318864  https://adindex.ru/news/digital/2023/12/18/318...   \n",
       "7      318862  https://adindex.ru/news/right/2023/12/18/31886...   \n",
       "8      318819  https://adindex.ru/news/releases/2023/12/18/31...   \n",
       "9      318849  https://adindex.ru/news/researches/2023/12/18/...   \n",
       "10     318842  https://adindex.ru/news/researches/2023/12/18/...   \n",
       "11     318818  https://adindex.ru/news/media/2023/12/18/31881...   \n",
       "12     318793  https://adindex.ru/news/creative/2023/12/18/31...   \n",
       "13     318791  https://adindex.ru/news/tendencies/2023/12/18/...   \n",
       "14     318790  https://adindex.ru/news/tendencies/2023/12/18/...   \n",
       "15     318789  https://adindex.ru/news/right/2023/12/18/31878...   \n",
       "16     318788  https://adindex.ru/news/marketing/2023/12/18/3...   \n",
       "17     318787  https://adindex.ru/news/tendencies/2023/12/18/...   \n",
       "18     318786  https://adindex.ru/news/hr/2023/12/18/318786.p...   \n",
       "19     318768  https://adindex.ru/news/marketing/2023/12/15/3...   \n",
       "20     318741  https://adindex.ru/news/media/2023/12/15/31874...   \n",
       "21     318766  https://adindex.ru/news/tendencies/2023/12/15/...   \n",
       "22     318579  https://adindex.ru/news/hr/2023/12/15/318579.p...   \n",
       "23     318575  https://adindex.ru/news/releases/2023/12/15/31...   \n",
       "24     318545  https://adindex.ru/news/hr/2023/12/15/318545.p...   \n",
       "25     318486  https://adindex.ru/news/media/2023/12/15/31848...   \n",
       "26     318413  https://adindex.ru/news/releases/2023/12/15/31...   \n",
       "27     318437  https://adindex.ru/news/media/2023/12/15/31843...   \n",
       "28     318383  https://adindex.ru/news/releases/2023/12/15/31...   \n",
       "29     318382  https://adindex.ru/news/digital/2023/12/15/318...   \n",
       "30     318381  https://adindex.ru/news/right/2023/12/15/31838...   \n",
       "31     318379  https://adindex.ru/news/tendencies/2023/12/15/...   \n",
       "32     318378  https://adindex.ru/news/marketing/2023/12/15/3...   \n",
       "33     318377  https://adindex.ru/news/digital/2023/12/15/318...   \n",
       "34     318376  https://adindex.ru/news/right/2023/12/15/31837...   \n",
       "35     318374  https://adindex.ru/news/tendencies/2023/12/14/...   \n",
       "36     318373  https://adindex.ru/news/right/2023/12/14/31837...   \n",
       "37     318371  https://adindex.ru/news/creative/2023/12/14/31...   \n",
       "38     318368  https://adindex.ru/news/researches/2023/12/14/...   \n",
       "39     318366  https://adindex.ru/news/hr/2023/12/14/318366.p...   \n",
       "40     318361  https://adindex.ru/news/creative/2023/12/14/31...   \n",
       "41     318350  https://adindex.ru/news/tendencies/2023/12/14/...   \n",
       "42     318336  https://adindex.ru/news/marketing/2023/12/14/3...   \n",
       "43     318335  https://adindex.ru/news/right/2023/12/14/31833...   \n",
       "44     318334  https://adindex.ru/news/digital/2023/12/14/318...   \n",
       "45     318333  https://adindex.ru/news/marketing/2023/12/14/3...   \n",
       "46     318331  https://adindex.ru/news/right/2023/12/14/31833...   \n",
       "47     318330  https://adindex.ru/news/digital/2023/12/14/318...   \n",
       "48     318329  https://adindex.ru/news/tendencies/2023/12/14/...   \n",
       "49     318328  https://adindex.ru/news/right/2023/12/14/31832...   \n",
       "\n",
       "                 date_y                        author_y    post_tag_y  \\\n",
       "0   2023-12-18 19:03:00    Данилова Светлана Викторовна      Эккаунты   \n",
       "1   2023-12-18 18:51:00         Петрова Мария Сергеевна     Тенденции   \n",
       "2   2023-12-18 18:48:00      Сидоров Антон Владимирович     Маркетинг   \n",
       "3   2023-12-18 18:31:00    Андреева Анастасия Андреевна        Дизайн   \n",
       "4   2023-12-18 17:51:00    Данилова Светлана Викторовна       Креатив   \n",
       "5   2023-12-18 16:58:00  Григорьева Людмила Григорьевна         Медиа   \n",
       "6   2023-12-18 14:32:00       Егорова Надежда Андреевна       Digital   \n",
       "7   2023-12-18 13:51:00    Данилова Светлана Викторовна         Право   \n",
       "8                   NaN                             NaN           NaN   \n",
       "9   2023-12-18 12:53:00  Васильева Екатерина Васильевна  Исследования   \n",
       "10  2023-12-18 12:35:00      Сидоров Антон Владимирович  Исследования   \n",
       "11  2023-12-18 11:18:00            Иванов Иван Иванович         Медиа   \n",
       "12  2023-12-18 09:43:00            Иванов Иван Иванович       Креатив   \n",
       "13  2023-12-18 09:02:00            Иванов Иван Иванович     Тенденции   \n",
       "14  2023-12-18 08:37:00    Андреева Анастасия Андреевна     Тенденции   \n",
       "15  2023-12-18 07:49:00        Борисова Ольга Борисовна         Право   \n",
       "16  2023-12-18 07:29:00  Васильева Екатерина Васильевна     Маркетинг   \n",
       "17  2023-12-18 07:18:00      Сидоров Антон Владимирович     Тенденции   \n",
       "18  2023-12-18 07:08:00  Васильева Екатерина Васильевна         Кадры   \n",
       "19  2023-12-16 12:00:00    Андреева Анастасия Андреевна     Маркетинг   \n",
       "20  2023-12-15 20:25:00       Егорова Надежда Андреевна         Медиа   \n",
       "21  2023-12-15 18:48:00            Иванов Иван Иванович     Тенденции   \n",
       "22                  NaN                             NaN           NaN   \n",
       "23                  NaN                             NaN           NaN   \n",
       "24  2023-12-15 13:20:00            Иванов Иван Иванович         Кадры   \n",
       "25  2023-12-15 12:34:00    Андреева Анастасия Андреевна         Медиа   \n",
       "26  2023-12-15 11:59:00      Сидоров Антон Владимирович  Пресс-релизы   \n",
       "27  2023-12-15 11:52:00    Данилова Светлана Викторовна         Медиа   \n",
       "28                  NaN                             NaN           NaN   \n",
       "29  2023-12-15 09:45:00         Петрова Мария Сергеевна       Digital   \n",
       "30                  NaN                             NaN           NaN   \n",
       "31  2023-12-15 07:54:00  Григорьева Людмила Григорьевна     Тенденции   \n",
       "32  2023-12-15 07:42:00       Егорова Надежда Андреевна     Маркетинг   \n",
       "33  2023-12-15 07:34:00        Борисова Ольга Борисовна       Digital   \n",
       "34  2023-12-15 07:17:00  Васильева Екатерина Васильевна         Право   \n",
       "35  2023-12-14 19:06:00         Петрова Мария Сергеевна     Тенденции   \n",
       "36                  NaN                             NaN           NaN   \n",
       "37  2023-12-14 17:31:00  Васильева Екатерина Васильевна       Креатив   \n",
       "38  2023-12-14 16:22:00         Петрова Мария Сергеевна  Исследования   \n",
       "39                  NaN                             NaN           NaN   \n",
       "40  2023-12-14 13:46:00  Григорьева Людмила Григорьевна       Креатив   \n",
       "41  2023-12-14 12:10:00      Сидоров Антон Владимирович     Тенденции   \n",
       "42  2023-12-14 10:30:00         Петрова Мария Сергеевна     Маркетинг   \n",
       "43  2023-12-14 10:05:00      Сидоров Антон Владимирович         Право   \n",
       "44  2023-12-14 09:01:00    Данилова Светлана Викторовна       Digital   \n",
       "45  2023-12-14 08:34:00          Жукова Ирина Ильинична     Маркетинг   \n",
       "46  2023-12-14 07:59:00        Борисова Ольга Борисовна         Право   \n",
       "47  2023-12-14 07:34:00    Андреева Анастасия Андреевна       Digital   \n",
       "48                  NaN                             NaN           NaN   \n",
       "49  2023-12-14 07:10:00  Григорьева Людмила Григорьевна         Право   \n",
       "\n",
       "    post_id_y  Посетители  Читатели  Уникальные пользователи  \\\n",
       "0    318949.0         3.0       5.0                      3.0   \n",
       "1    318946.0         2.0      34.0                      2.0   \n",
       "2    318945.0        11.0      51.0                     11.0   \n",
       "3    318944.0        14.0      46.0                     14.0   \n",
       "4    318936.0         7.0      54.0                      7.0   \n",
       "5    318923.0        29.0      97.0                     29.0   \n",
       "6    318864.0        11.0      45.0                     11.0   \n",
       "7    318862.0        20.0     100.0                     20.0   \n",
       "8         NaN         NaN       NaN                      NaN   \n",
       "9    318849.0        28.0      68.0                     27.0   \n",
       "10   318842.0        23.0      61.0                     23.0   \n",
       "11   318818.0        31.0     105.0                     30.0   \n",
       "12   318793.0        40.0     167.0                     39.0   \n",
       "13   318791.0        30.0     120.0                     29.0   \n",
       "14   318790.0        48.0      96.0                     44.0   \n",
       "15   318789.0        23.0      95.0                     22.0   \n",
       "16   318788.0        18.0      74.0                     16.0   \n",
       "17   318787.0        77.0     146.0                     76.0   \n",
       "18   318786.0        94.0     142.0                     90.0   \n",
       "19   318768.0        39.0      89.0                     36.0   \n",
       "20   318741.0         5.0      12.0                      5.0   \n",
       "21   318766.0         5.0      48.0                      5.0   \n",
       "22        NaN         NaN       NaN                      NaN   \n",
       "23        NaN         NaN       NaN                      NaN   \n",
       "24   318545.0         3.0       3.0                      3.0   \n",
       "25   318486.0        10.0      17.0                     10.0   \n",
       "26   318413.0       423.0     468.0                    409.0   \n",
       "27   318437.0         2.0      11.0                      2.0   \n",
       "28        NaN         NaN       NaN                      NaN   \n",
       "29   318382.0        11.0      69.0                     11.0   \n",
       "30        NaN         NaN       NaN                      NaN   \n",
       "31   318379.0         1.0       1.0                      1.0   \n",
       "32   318378.0        14.0      33.0                     14.0   \n",
       "33   318377.0         8.0      32.0                      7.0   \n",
       "34   318376.0        21.0      25.0                     21.0   \n",
       "35   318374.0         1.0       9.0                      1.0   \n",
       "36        NaN         NaN       NaN                      NaN   \n",
       "37   318371.0         5.0      25.0                      5.0   \n",
       "38   318368.0        12.0      14.0                     12.0   \n",
       "39        NaN         NaN       NaN                      NaN   \n",
       "40   318361.0         4.0      11.0                      4.0   \n",
       "41   318350.0         1.0      10.0                      1.0   \n",
       "42   318336.0         2.0       4.0                      2.0   \n",
       "43   318335.0         2.0       2.0                      2.0   \n",
       "44   318334.0         7.0       9.0                      7.0   \n",
       "45   318333.0         9.0      44.0                      8.0   \n",
       "46   318331.0        50.0      66.0                     49.0   \n",
       "47   318330.0         6.0      54.0                      6.0   \n",
       "48        NaN         NaN       NaN                      NaN   \n",
       "49   318328.0         3.0       4.0                      3.0   \n",
       "\n",
       "    % недочитываемости  Глубина просмотра  Ср. время на сайте (сек)   0  \n",
       "0             0.000000           2.000000                 83.000000 NaN  \n",
       "1             0.000000          17.000000               4050.000000 NaN  \n",
       "2             0.000000           2.000000                 39.000000 NaN  \n",
       "3             5.000000           1.600000                 77.000000 NaN  \n",
       "4             0.000000           6.250000               1934.750000 NaN  \n",
       "5             0.000000           1.071429                 23.000000 NaN  \n",
       "6            10.000000           4.233333                146.000000 NaN  \n",
       "7             0.000000           4.500000                 86.000000 NaN  \n",
       "8                  NaN                NaN                       NaN NaN  \n",
       "9             0.000000           4.000000                 67.000000 NaN  \n",
       "10            0.000000           1.166667                141.433333 NaN  \n",
       "11           12.500000           1.583333                 44.930556 NaN  \n",
       "12            0.000000           2.500000                116.730263 NaN  \n",
       "13            0.000000           3.000000                138.333333 NaN  \n",
       "14            0.000000           1.600000                 27.800000 NaN  \n",
       "15           20.000000           1.000000                 15.000000 NaN  \n",
       "16            0.000000           2.583333                147.250000 NaN  \n",
       "17            0.000000           2.266949                124.333333 NaN  \n",
       "18            0.000000           1.000000                 15.000000 NaN  \n",
       "19            0.000000           1.618421                 70.875000 NaN  \n",
       "20           33.333333           1.666667                453.666667 NaN  \n",
       "21            0.000000           8.833333               1596.583333 NaN  \n",
       "22                 NaN                NaN                       NaN NaN  \n",
       "23                 NaN                NaN                       NaN NaN  \n",
       "24           75.000000           1.000000                  8.750000 NaN  \n",
       "25            0.000000           2.166667                 37.785714 NaN  \n",
       "26           23.717949           1.000000                 18.000000 NaN  \n",
       "27            0.000000           5.500000                106.000000 NaN  \n",
       "28                 NaN                NaN                       NaN NaN  \n",
       "29            0.000000           2.333333                669.000000 NaN  \n",
       "30                 NaN                NaN                       NaN NaN  \n",
       "31            0.000000           1.000000                 14.000000 NaN  \n",
       "32           50.000000           1.730769                 31.038462 NaN  \n",
       "33           25.000000           1.500000                 32.000000 NaN  \n",
       "34           23.809524           1.190476                 55.666667 NaN  \n",
       "35            0.000000           9.000000                567.000000 NaN  \n",
       "36                 NaN                NaN                       NaN NaN  \n",
       "37            0.000000           3.416667                481.666667 NaN  \n",
       "38           10.000000           1.000000                 13.000000 NaN  \n",
       "39                 NaN                NaN                       NaN NaN  \n",
       "40            0.000000           1.000000                 15.000000 NaN  \n",
       "41            0.000000          10.000000                230.000000 NaN  \n",
       "42           50.000000           2.000000                 23.000000 NaN  \n",
       "43            0.000000           1.000000                 15.000000 NaN  \n",
       "44           18.750000           1.187500                 25.250000 NaN  \n",
       "45            0.000000           1.500000                 18.750000 NaN  \n",
       "46            0.000000           7.000000                464.000000 NaN  \n",
       "47            0.000000           5.500000               1179.250000 NaN  \n",
       "48                 NaN                NaN                       NaN NaN  \n",
       "49           25.000000           1.500000                 36.250000 NaN  "
      ]
     },
     "execution_count": 45,
     "metadata": {},
     "output_type": "execute_result"
    }
   ],
   "source": [
    "pd.merge(df_left, df_right, 'left', 'link')"
   ]
  },
  {
   "cell_type": "code",
   "execution_count": 47,
   "metadata": {},
   "outputs": [
    {
     "data": {
      "text/plain": [
       "date        object\n",
       "author      object\n",
       "post_tag    object\n",
       "post_id      int64\n",
       "link        object\n",
       "dtype: object"
      ]
     },
     "execution_count": 47,
     "metadata": {},
     "output_type": "execute_result"
    }
   ],
   "source": [
    "df_left.dtypes"
   ]
  },
  {
   "cell_type": "code",
   "execution_count": 46,
   "metadata": {},
   "outputs": [
    {
     "data": {
      "text/plain": [
       "'2023-12-18 19:03:00'"
      ]
     },
     "execution_count": 46,
     "metadata": {},
     "output_type": "execute_result"
    }
   ],
   "source": [
    "df_left.loc[0].date"
   ]
  },
  {
   "cell_type": "code",
   "execution_count": 39,
   "metadata": {},
   "outputs": [],
   "source": [
    "df_left.date = pd.to_datetime(df_left.date)"
   ]
  },
  {
   "cell_type": "code",
   "execution_count": 31,
   "metadata": {},
   "outputs": [
    {
     "data": {
      "text/html": [
       "<div>\n",
       "<style scoped>\n",
       "    .dataframe tbody tr th:only-of-type {\n",
       "        vertical-align: middle;\n",
       "    }\n",
       "\n",
       "    .dataframe tbody tr th {\n",
       "        vertical-align: top;\n",
       "    }\n",
       "\n",
       "    .dataframe thead th {\n",
       "        text-align: right;\n",
       "    }\n",
       "</style>\n",
       "<table border=\"1\" class=\"dataframe\">\n",
       "  <thead>\n",
       "    <tr style=\"text-align: right;\">\n",
       "      <th></th>\n",
       "      <th>date</th>\n",
       "      <th>author</th>\n",
       "      <th>post_tag</th>\n",
       "      <th>post_id</th>\n",
       "      <th>link</th>\n",
       "      <th>datemetrics</th>\n",
       "      <th>authormetrics</th>\n",
       "      <th>post_tagmetrics</th>\n",
       "      <th>post_idmetrics</th>\n",
       "      <th>linkmetrics</th>\n",
       "      <th>Посетители</th>\n",
       "      <th>Читатели</th>\n",
       "      <th>Уникальные пользователи</th>\n",
       "      <th>% недочитываемости</th>\n",
       "      <th>Глубина просмотра</th>\n",
       "      <th>Ср. время на сайте (сек)</th>\n",
       "      <th>0</th>\n",
       "    </tr>\n",
       "  </thead>\n",
       "  <tbody>\n",
       "    <tr>\n",
       "      <th>0</th>\n",
       "      <td>2023-12-18 19:03:00</td>\n",
       "      <td>Борисова Ольга Борисовна</td>\n",
       "      <td>Эккаунты</td>\n",
       "      <td>318949</td>\n",
       "      <td>https://adindex.ru/news/ek/2023/12/18/318949.p...</td>\n",
       "      <td>NaN</td>\n",
       "      <td>NaN</td>\n",
       "      <td>NaN</td>\n",
       "      <td>NaN</td>\n",
       "      <td>NaN</td>\n",
       "      <td>NaN</td>\n",
       "      <td>NaN</td>\n",
       "      <td>NaN</td>\n",
       "      <td>NaN</td>\n",
       "      <td>NaN</td>\n",
       "      <td>NaN</td>\n",
       "      <td>NaN</td>\n",
       "    </tr>\n",
       "    <tr>\n",
       "      <th>1</th>\n",
       "      <td>2023-12-18 18:51:00</td>\n",
       "      <td>Петрова Мария Сергеевна</td>\n",
       "      <td>Тенденции</td>\n",
       "      <td>318946</td>\n",
       "      <td>https://adindex.ru/news/tendencies/2023/12/18/...</td>\n",
       "      <td>NaN</td>\n",
       "      <td>NaN</td>\n",
       "      <td>NaN</td>\n",
       "      <td>NaN</td>\n",
       "      <td>NaN</td>\n",
       "      <td>NaN</td>\n",
       "      <td>NaN</td>\n",
       "      <td>NaN</td>\n",
       "      <td>NaN</td>\n",
       "      <td>NaN</td>\n",
       "      <td>NaN</td>\n",
       "      <td>NaN</td>\n",
       "    </tr>\n",
       "    <tr>\n",
       "      <th>2</th>\n",
       "      <td>2023-12-18 18:48:00</td>\n",
       "      <td>Иванов Иван Иванович</td>\n",
       "      <td>Маркетинг</td>\n",
       "      <td>318945</td>\n",
       "      <td>https://adindex.ru/news/marketing/2023/12/18/3...</td>\n",
       "      <td>NaN</td>\n",
       "      <td>NaN</td>\n",
       "      <td>NaN</td>\n",
       "      <td>NaN</td>\n",
       "      <td>NaN</td>\n",
       "      <td>NaN</td>\n",
       "      <td>NaN</td>\n",
       "      <td>NaN</td>\n",
       "      <td>NaN</td>\n",
       "      <td>NaN</td>\n",
       "      <td>NaN</td>\n",
       "      <td>NaN</td>\n",
       "    </tr>\n",
       "    <tr>\n",
       "      <th>3</th>\n",
       "      <td>2023-12-18 18:31:00</td>\n",
       "      <td>Борисова Ольга Борисовна</td>\n",
       "      <td>Дизайн</td>\n",
       "      <td>318944</td>\n",
       "      <td>https://adindex.ru/news/design/2023/12/18/3189...</td>\n",
       "      <td>NaN</td>\n",
       "      <td>NaN</td>\n",
       "      <td>NaN</td>\n",
       "      <td>NaN</td>\n",
       "      <td>NaN</td>\n",
       "      <td>NaN</td>\n",
       "      <td>NaN</td>\n",
       "      <td>NaN</td>\n",
       "      <td>NaN</td>\n",
       "      <td>NaN</td>\n",
       "      <td>NaN</td>\n",
       "      <td>NaN</td>\n",
       "    </tr>\n",
       "    <tr>\n",
       "      <th>4</th>\n",
       "      <td>2023-12-18 17:51:00</td>\n",
       "      <td>Андреева Анастасия Андреевна</td>\n",
       "      <td>Креатив</td>\n",
       "      <td>318936</td>\n",
       "      <td>https://adindex.ru/news/creative/2023/12/18/31...</td>\n",
       "      <td>NaN</td>\n",
       "      <td>NaN</td>\n",
       "      <td>NaN</td>\n",
       "      <td>NaN</td>\n",
       "      <td>NaN</td>\n",
       "      <td>NaN</td>\n",
       "      <td>NaN</td>\n",
       "      <td>NaN</td>\n",
       "      <td>NaN</td>\n",
       "      <td>NaN</td>\n",
       "      <td>NaN</td>\n",
       "      <td>NaN</td>\n",
       "    </tr>\n",
       "    <tr>\n",
       "      <th>5</th>\n",
       "      <td>2023-12-18 16:58:00</td>\n",
       "      <td>Васильева Екатерина Васильевна</td>\n",
       "      <td>Медиа</td>\n",
       "      <td>318923</td>\n",
       "      <td>https://adindex.ru/news/media/2023/12/18/31892...</td>\n",
       "      <td>NaN</td>\n",
       "      <td>NaN</td>\n",
       "      <td>NaN</td>\n",
       "      <td>NaN</td>\n",
       "      <td>NaN</td>\n",
       "      <td>NaN</td>\n",
       "      <td>NaN</td>\n",
       "      <td>NaN</td>\n",
       "      <td>NaN</td>\n",
       "      <td>NaN</td>\n",
       "      <td>NaN</td>\n",
       "      <td>NaN</td>\n",
       "    </tr>\n",
       "    <tr>\n",
       "      <th>6</th>\n",
       "      <td>2023-12-18 14:32:00</td>\n",
       "      <td>Андреева Анастасия Андреевна</td>\n",
       "      <td>Digital</td>\n",
       "      <td>318864</td>\n",
       "      <td>https://adindex.ru/news/digital/2023/12/18/318...</td>\n",
       "      <td>NaN</td>\n",
       "      <td>NaN</td>\n",
       "      <td>NaN</td>\n",
       "      <td>NaN</td>\n",
       "      <td>NaN</td>\n",
       "      <td>NaN</td>\n",
       "      <td>NaN</td>\n",
       "      <td>NaN</td>\n",
       "      <td>NaN</td>\n",
       "      <td>NaN</td>\n",
       "      <td>NaN</td>\n",
       "      <td>NaN</td>\n",
       "    </tr>\n",
       "    <tr>\n",
       "      <th>7</th>\n",
       "      <td>2023-12-18 13:51:00</td>\n",
       "      <td>Григорьева Людмила Григорьевна</td>\n",
       "      <td>Право</td>\n",
       "      <td>318862</td>\n",
       "      <td>https://adindex.ru/news/right/2023/12/18/31886...</td>\n",
       "      <td>NaN</td>\n",
       "      <td>NaN</td>\n",
       "      <td>NaN</td>\n",
       "      <td>NaN</td>\n",
       "      <td>NaN</td>\n",
       "      <td>NaN</td>\n",
       "      <td>NaN</td>\n",
       "      <td>NaN</td>\n",
       "      <td>NaN</td>\n",
       "      <td>NaN</td>\n",
       "      <td>NaN</td>\n",
       "      <td>NaN</td>\n",
       "    </tr>\n",
       "    <tr>\n",
       "      <th>8</th>\n",
       "      <td>2023-12-18 13:03:00</td>\n",
       "      <td>Андреева Анастасия Андреевна</td>\n",
       "      <td>Пресс-релизы</td>\n",
       "      <td>318819</td>\n",
       "      <td>https://adindex.ru/news/releases/2023/12/18/31...</td>\n",
       "      <td>NaN</td>\n",
       "      <td>NaN</td>\n",
       "      <td>NaN</td>\n",
       "      <td>NaN</td>\n",
       "      <td>NaN</td>\n",
       "      <td>NaN</td>\n",
       "      <td>NaN</td>\n",
       "      <td>NaN</td>\n",
       "      <td>NaN</td>\n",
       "      <td>NaN</td>\n",
       "      <td>NaN</td>\n",
       "      <td>NaN</td>\n",
       "    </tr>\n",
       "    <tr>\n",
       "      <th>9</th>\n",
       "      <td>2023-12-18 12:53:00</td>\n",
       "      <td>Иванов Иван Иванович</td>\n",
       "      <td>Исследования</td>\n",
       "      <td>318849</td>\n",
       "      <td>https://adindex.ru/news/researches/2023/12/18/...</td>\n",
       "      <td>NaN</td>\n",
       "      <td>NaN</td>\n",
       "      <td>NaN</td>\n",
       "      <td>NaN</td>\n",
       "      <td>NaN</td>\n",
       "      <td>NaN</td>\n",
       "      <td>NaN</td>\n",
       "      <td>NaN</td>\n",
       "      <td>NaN</td>\n",
       "      <td>NaN</td>\n",
       "      <td>NaN</td>\n",
       "      <td>NaN</td>\n",
       "    </tr>\n",
       "    <tr>\n",
       "      <th>10</th>\n",
       "      <td>2023-12-18 12:35:00</td>\n",
       "      <td>Данилова Светлана Викторовна</td>\n",
       "      <td>Исследования</td>\n",
       "      <td>318842</td>\n",
       "      <td>https://adindex.ru/news/researches/2023/12/18/...</td>\n",
       "      <td>NaN</td>\n",
       "      <td>NaN</td>\n",
       "      <td>NaN</td>\n",
       "      <td>NaN</td>\n",
       "      <td>NaN</td>\n",
       "      <td>NaN</td>\n",
       "      <td>NaN</td>\n",
       "      <td>NaN</td>\n",
       "      <td>NaN</td>\n",
       "      <td>NaN</td>\n",
       "      <td>NaN</td>\n",
       "      <td>NaN</td>\n",
       "    </tr>\n",
       "    <tr>\n",
       "      <th>11</th>\n",
       "      <td>2023-12-18 11:18:00</td>\n",
       "      <td>Сидоров Антон Владимирович</td>\n",
       "      <td>Медиа</td>\n",
       "      <td>318818</td>\n",
       "      <td>https://adindex.ru/news/media/2023/12/18/31881...</td>\n",
       "      <td>NaN</td>\n",
       "      <td>NaN</td>\n",
       "      <td>NaN</td>\n",
       "      <td>NaN</td>\n",
       "      <td>NaN</td>\n",
       "      <td>NaN</td>\n",
       "      <td>NaN</td>\n",
       "      <td>NaN</td>\n",
       "      <td>NaN</td>\n",
       "      <td>NaN</td>\n",
       "      <td>NaN</td>\n",
       "      <td>NaN</td>\n",
       "    </tr>\n",
       "    <tr>\n",
       "      <th>12</th>\n",
       "      <td>2023-12-18 09:43:00</td>\n",
       "      <td>Борисова Ольга Борисовна</td>\n",
       "      <td>Креатив</td>\n",
       "      <td>318793</td>\n",
       "      <td>https://adindex.ru/news/creative/2023/12/18/31...</td>\n",
       "      <td>NaN</td>\n",
       "      <td>NaN</td>\n",
       "      <td>NaN</td>\n",
       "      <td>NaN</td>\n",
       "      <td>NaN</td>\n",
       "      <td>NaN</td>\n",
       "      <td>NaN</td>\n",
       "      <td>NaN</td>\n",
       "      <td>NaN</td>\n",
       "      <td>NaN</td>\n",
       "      <td>NaN</td>\n",
       "      <td>NaN</td>\n",
       "    </tr>\n",
       "    <tr>\n",
       "      <th>13</th>\n",
       "      <td>2023-12-18 09:02:00</td>\n",
       "      <td>Андреева Анастасия Андреевна</td>\n",
       "      <td>Тенденции</td>\n",
       "      <td>318791</td>\n",
       "      <td>https://adindex.ru/news/tendencies/2023/12/18/...</td>\n",
       "      <td>NaN</td>\n",
       "      <td>NaN</td>\n",
       "      <td>NaN</td>\n",
       "      <td>NaN</td>\n",
       "      <td>NaN</td>\n",
       "      <td>NaN</td>\n",
       "      <td>NaN</td>\n",
       "      <td>NaN</td>\n",
       "      <td>NaN</td>\n",
       "      <td>NaN</td>\n",
       "      <td>NaN</td>\n",
       "      <td>NaN</td>\n",
       "    </tr>\n",
       "    <tr>\n",
       "      <th>14</th>\n",
       "      <td>2023-12-18 08:37:00</td>\n",
       "      <td>Егорова Надежда Андреевна</td>\n",
       "      <td>Тенденции</td>\n",
       "      <td>318790</td>\n",
       "      <td>https://adindex.ru/news/tendencies/2023/12/18/...</td>\n",
       "      <td>NaN</td>\n",
       "      <td>NaN</td>\n",
       "      <td>NaN</td>\n",
       "      <td>NaN</td>\n",
       "      <td>NaN</td>\n",
       "      <td>NaN</td>\n",
       "      <td>NaN</td>\n",
       "      <td>NaN</td>\n",
       "      <td>NaN</td>\n",
       "      <td>NaN</td>\n",
       "      <td>NaN</td>\n",
       "      <td>NaN</td>\n",
       "    </tr>\n",
       "    <tr>\n",
       "      <th>15</th>\n",
       "      <td>2023-12-18 07:49:00</td>\n",
       "      <td>Андреева Анастасия Андреевна</td>\n",
       "      <td>Право</td>\n",
       "      <td>318789</td>\n",
       "      <td>https://adindex.ru/news/right/2023/12/18/31878...</td>\n",
       "      <td>NaN</td>\n",
       "      <td>NaN</td>\n",
       "      <td>NaN</td>\n",
       "      <td>NaN</td>\n",
       "      <td>NaN</td>\n",
       "      <td>NaN</td>\n",
       "      <td>NaN</td>\n",
       "      <td>NaN</td>\n",
       "      <td>NaN</td>\n",
       "      <td>NaN</td>\n",
       "      <td>NaN</td>\n",
       "      <td>NaN</td>\n",
       "    </tr>\n",
       "    <tr>\n",
       "      <th>16</th>\n",
       "      <td>2023-12-18 07:29:00</td>\n",
       "      <td>Андреева Анастасия Андреевна</td>\n",
       "      <td>Маркетинг</td>\n",
       "      <td>318788</td>\n",
       "      <td>https://adindex.ru/news/marketing/2023/12/18/3...</td>\n",
       "      <td>NaN</td>\n",
       "      <td>NaN</td>\n",
       "      <td>NaN</td>\n",
       "      <td>NaN</td>\n",
       "      <td>NaN</td>\n",
       "      <td>NaN</td>\n",
       "      <td>NaN</td>\n",
       "      <td>NaN</td>\n",
       "      <td>NaN</td>\n",
       "      <td>NaN</td>\n",
       "      <td>NaN</td>\n",
       "      <td>NaN</td>\n",
       "    </tr>\n",
       "    <tr>\n",
       "      <th>17</th>\n",
       "      <td>2023-12-18 07:18:00</td>\n",
       "      <td>Жукова Ирина Ильинична</td>\n",
       "      <td>Тенденции</td>\n",
       "      <td>318787</td>\n",
       "      <td>https://adindex.ru/news/tendencies/2023/12/18/...</td>\n",
       "      <td>NaN</td>\n",
       "      <td>NaN</td>\n",
       "      <td>NaN</td>\n",
       "      <td>NaN</td>\n",
       "      <td>NaN</td>\n",
       "      <td>NaN</td>\n",
       "      <td>NaN</td>\n",
       "      <td>NaN</td>\n",
       "      <td>NaN</td>\n",
       "      <td>NaN</td>\n",
       "      <td>NaN</td>\n",
       "      <td>NaN</td>\n",
       "    </tr>\n",
       "    <tr>\n",
       "      <th>18</th>\n",
       "      <td>2023-12-18 07:08:00</td>\n",
       "      <td>Егорова Надежда Андреевна</td>\n",
       "      <td>Кадры</td>\n",
       "      <td>318786</td>\n",
       "      <td>https://adindex.ru/news/hr/2023/12/18/318786.p...</td>\n",
       "      <td>NaN</td>\n",
       "      <td>NaN</td>\n",
       "      <td>NaN</td>\n",
       "      <td>NaN</td>\n",
       "      <td>NaN</td>\n",
       "      <td>NaN</td>\n",
       "      <td>NaN</td>\n",
       "      <td>NaN</td>\n",
       "      <td>NaN</td>\n",
       "      <td>NaN</td>\n",
       "      <td>NaN</td>\n",
       "      <td>NaN</td>\n",
       "    </tr>\n",
       "    <tr>\n",
       "      <th>19</th>\n",
       "      <td>2023-12-16 12:00:00</td>\n",
       "      <td>Петрова Мария Сергеевна</td>\n",
       "      <td>Маркетинг</td>\n",
       "      <td>318768</td>\n",
       "      <td>https://adindex.ru/news/marketing/2023/12/15/3...</td>\n",
       "      <td>NaN</td>\n",
       "      <td>NaN</td>\n",
       "      <td>NaN</td>\n",
       "      <td>NaN</td>\n",
       "      <td>NaN</td>\n",
       "      <td>NaN</td>\n",
       "      <td>NaN</td>\n",
       "      <td>NaN</td>\n",
       "      <td>NaN</td>\n",
       "      <td>NaN</td>\n",
       "      <td>NaN</td>\n",
       "      <td>NaN</td>\n",
       "    </tr>\n",
       "    <tr>\n",
       "      <th>20</th>\n",
       "      <td>2023-12-15 20:25:00</td>\n",
       "      <td>Сидоров Антон Владимирович</td>\n",
       "      <td>Медиа</td>\n",
       "      <td>318741</td>\n",
       "      <td>https://adindex.ru/news/media/2023/12/15/31874...</td>\n",
       "      <td>NaN</td>\n",
       "      <td>NaN</td>\n",
       "      <td>NaN</td>\n",
       "      <td>NaN</td>\n",
       "      <td>NaN</td>\n",
       "      <td>NaN</td>\n",
       "      <td>NaN</td>\n",
       "      <td>NaN</td>\n",
       "      <td>NaN</td>\n",
       "      <td>NaN</td>\n",
       "      <td>NaN</td>\n",
       "      <td>NaN</td>\n",
       "    </tr>\n",
       "    <tr>\n",
       "      <th>21</th>\n",
       "      <td>2023-12-15 18:48:00</td>\n",
       "      <td>Егорова Надежда Андреевна</td>\n",
       "      <td>Тенденции</td>\n",
       "      <td>318766</td>\n",
       "      <td>https://adindex.ru/news/tendencies/2023/12/15/...</td>\n",
       "      <td>NaN</td>\n",
       "      <td>NaN</td>\n",
       "      <td>NaN</td>\n",
       "      <td>NaN</td>\n",
       "      <td>NaN</td>\n",
       "      <td>NaN</td>\n",
       "      <td>NaN</td>\n",
       "      <td>NaN</td>\n",
       "      <td>NaN</td>\n",
       "      <td>NaN</td>\n",
       "      <td>NaN</td>\n",
       "      <td>NaN</td>\n",
       "    </tr>\n",
       "    <tr>\n",
       "      <th>22</th>\n",
       "      <td>2023-12-15 16:10:00</td>\n",
       "      <td>Андреева Анастасия Андреевна</td>\n",
       "      <td>Кадры</td>\n",
       "      <td>318579</td>\n",
       "      <td>https://adindex.ru/news/hr/2023/12/15/318579.p...</td>\n",
       "      <td>NaN</td>\n",
       "      <td>NaN</td>\n",
       "      <td>NaN</td>\n",
       "      <td>NaN</td>\n",
       "      <td>NaN</td>\n",
       "      <td>NaN</td>\n",
       "      <td>NaN</td>\n",
       "      <td>NaN</td>\n",
       "      <td>NaN</td>\n",
       "      <td>NaN</td>\n",
       "      <td>NaN</td>\n",
       "      <td>NaN</td>\n",
       "    </tr>\n",
       "    <tr>\n",
       "      <th>23</th>\n",
       "      <td>2023-12-15 15:57:00</td>\n",
       "      <td>Андреева Анастасия Андреевна</td>\n",
       "      <td>Пресс-релизы</td>\n",
       "      <td>318575</td>\n",
       "      <td>https://adindex.ru/news/releases/2023/12/15/31...</td>\n",
       "      <td>NaN</td>\n",
       "      <td>NaN</td>\n",
       "      <td>NaN</td>\n",
       "      <td>NaN</td>\n",
       "      <td>NaN</td>\n",
       "      <td>NaN</td>\n",
       "      <td>NaN</td>\n",
       "      <td>NaN</td>\n",
       "      <td>NaN</td>\n",
       "      <td>NaN</td>\n",
       "      <td>NaN</td>\n",
       "      <td>NaN</td>\n",
       "    </tr>\n",
       "    <tr>\n",
       "      <th>24</th>\n",
       "      <td>2023-12-15 13:20:00</td>\n",
       "      <td>Васильева Екатерина Васильевна</td>\n",
       "      <td>Кадры</td>\n",
       "      <td>318545</td>\n",
       "      <td>https://adindex.ru/news/hr/2023/12/15/318545.p...</td>\n",
       "      <td>NaN</td>\n",
       "      <td>NaN</td>\n",
       "      <td>NaN</td>\n",
       "      <td>NaN</td>\n",
       "      <td>NaN</td>\n",
       "      <td>NaN</td>\n",
       "      <td>NaN</td>\n",
       "      <td>NaN</td>\n",
       "      <td>NaN</td>\n",
       "      <td>NaN</td>\n",
       "      <td>NaN</td>\n",
       "      <td>NaN</td>\n",
       "    </tr>\n",
       "    <tr>\n",
       "      <th>25</th>\n",
       "      <td>2023-12-15 12:34:00</td>\n",
       "      <td>Григорьева Людмила Григорьевна</td>\n",
       "      <td>Медиа</td>\n",
       "      <td>318486</td>\n",
       "      <td>https://adindex.ru/news/media/2023/12/15/31848...</td>\n",
       "      <td>NaN</td>\n",
       "      <td>NaN</td>\n",
       "      <td>NaN</td>\n",
       "      <td>NaN</td>\n",
       "      <td>NaN</td>\n",
       "      <td>NaN</td>\n",
       "      <td>NaN</td>\n",
       "      <td>NaN</td>\n",
       "      <td>NaN</td>\n",
       "      <td>NaN</td>\n",
       "      <td>NaN</td>\n",
       "      <td>NaN</td>\n",
       "    </tr>\n",
       "    <tr>\n",
       "      <th>26</th>\n",
       "      <td>2023-12-15 11:59:00</td>\n",
       "      <td>Борисова Ольга Борисовна</td>\n",
       "      <td>Пресс-релизы</td>\n",
       "      <td>318413</td>\n",
       "      <td>https://adindex.ru/news/releases/2023/12/15/31...</td>\n",
       "      <td>NaN</td>\n",
       "      <td>NaN</td>\n",
       "      <td>NaN</td>\n",
       "      <td>NaN</td>\n",
       "      <td>NaN</td>\n",
       "      <td>NaN</td>\n",
       "      <td>NaN</td>\n",
       "      <td>NaN</td>\n",
       "      <td>NaN</td>\n",
       "      <td>NaN</td>\n",
       "      <td>NaN</td>\n",
       "      <td>NaN</td>\n",
       "    </tr>\n",
       "    <tr>\n",
       "      <th>27</th>\n",
       "      <td>2023-12-15 11:52:00</td>\n",
       "      <td>Сидоров Антон Владимирович</td>\n",
       "      <td>Медиа</td>\n",
       "      <td>318437</td>\n",
       "      <td>https://adindex.ru/news/media/2023/12/15/31843...</td>\n",
       "      <td>NaN</td>\n",
       "      <td>NaN</td>\n",
       "      <td>NaN</td>\n",
       "      <td>NaN</td>\n",
       "      <td>NaN</td>\n",
       "      <td>NaN</td>\n",
       "      <td>NaN</td>\n",
       "      <td>NaN</td>\n",
       "      <td>NaN</td>\n",
       "      <td>NaN</td>\n",
       "      <td>NaN</td>\n",
       "      <td>NaN</td>\n",
       "    </tr>\n",
       "    <tr>\n",
       "      <th>28</th>\n",
       "      <td>2023-12-15 11:28:00</td>\n",
       "      <td>Григорьева Людмила Григорьевна</td>\n",
       "      <td>Пресс-релизы</td>\n",
       "      <td>318383</td>\n",
       "      <td>https://adindex.ru/news/releases/2023/12/15/31...</td>\n",
       "      <td>NaN</td>\n",
       "      <td>NaN</td>\n",
       "      <td>NaN</td>\n",
       "      <td>NaN</td>\n",
       "      <td>NaN</td>\n",
       "      <td>NaN</td>\n",
       "      <td>NaN</td>\n",
       "      <td>NaN</td>\n",
       "      <td>NaN</td>\n",
       "      <td>NaN</td>\n",
       "      <td>NaN</td>\n",
       "      <td>NaN</td>\n",
       "    </tr>\n",
       "    <tr>\n",
       "      <th>29</th>\n",
       "      <td>2023-12-15 09:45:00</td>\n",
       "      <td>Сидоров Антон Владимирович</td>\n",
       "      <td>Digital</td>\n",
       "      <td>318382</td>\n",
       "      <td>https://adindex.ru/news/digital/2023/12/15/318...</td>\n",
       "      <td>NaN</td>\n",
       "      <td>NaN</td>\n",
       "      <td>NaN</td>\n",
       "      <td>NaN</td>\n",
       "      <td>NaN</td>\n",
       "      <td>NaN</td>\n",
       "      <td>NaN</td>\n",
       "      <td>NaN</td>\n",
       "      <td>NaN</td>\n",
       "      <td>NaN</td>\n",
       "      <td>NaN</td>\n",
       "      <td>NaN</td>\n",
       "    </tr>\n",
       "    <tr>\n",
       "      <th>30</th>\n",
       "      <td>2023-12-15 08:32:00</td>\n",
       "      <td>Данилова Светлана Викторовна</td>\n",
       "      <td>Право</td>\n",
       "      <td>318381</td>\n",
       "      <td>https://adindex.ru/news/right/2023/12/15/31838...</td>\n",
       "      <td>NaN</td>\n",
       "      <td>NaN</td>\n",
       "      <td>NaN</td>\n",
       "      <td>NaN</td>\n",
       "      <td>NaN</td>\n",
       "      <td>NaN</td>\n",
       "      <td>NaN</td>\n",
       "      <td>NaN</td>\n",
       "      <td>NaN</td>\n",
       "      <td>NaN</td>\n",
       "      <td>NaN</td>\n",
       "      <td>NaN</td>\n",
       "    </tr>\n",
       "    <tr>\n",
       "      <th>31</th>\n",
       "      <td>2023-12-15 07:54:00</td>\n",
       "      <td>Петрова Мария Сергеевна</td>\n",
       "      <td>Тенденции</td>\n",
       "      <td>318379</td>\n",
       "      <td>https://adindex.ru/news/tendencies/2023/12/15/...</td>\n",
       "      <td>NaN</td>\n",
       "      <td>NaN</td>\n",
       "      <td>NaN</td>\n",
       "      <td>NaN</td>\n",
       "      <td>NaN</td>\n",
       "      <td>NaN</td>\n",
       "      <td>NaN</td>\n",
       "      <td>NaN</td>\n",
       "      <td>NaN</td>\n",
       "      <td>NaN</td>\n",
       "      <td>NaN</td>\n",
       "      <td>NaN</td>\n",
       "    </tr>\n",
       "    <tr>\n",
       "      <th>32</th>\n",
       "      <td>2023-12-15 07:42:00</td>\n",
       "      <td>Сидоров Антон Владимирович</td>\n",
       "      <td>Маркетинг</td>\n",
       "      <td>318378</td>\n",
       "      <td>https://adindex.ru/news/marketing/2023/12/15/3...</td>\n",
       "      <td>NaN</td>\n",
       "      <td>NaN</td>\n",
       "      <td>NaN</td>\n",
       "      <td>NaN</td>\n",
       "      <td>NaN</td>\n",
       "      <td>NaN</td>\n",
       "      <td>NaN</td>\n",
       "      <td>NaN</td>\n",
       "      <td>NaN</td>\n",
       "      <td>NaN</td>\n",
       "      <td>NaN</td>\n",
       "      <td>NaN</td>\n",
       "    </tr>\n",
       "    <tr>\n",
       "      <th>33</th>\n",
       "      <td>2023-12-15 07:34:00</td>\n",
       "      <td>Жукова Ирина Ильинична</td>\n",
       "      <td>Digital</td>\n",
       "      <td>318377</td>\n",
       "      <td>https://adindex.ru/news/digital/2023/12/15/318...</td>\n",
       "      <td>NaN</td>\n",
       "      <td>NaN</td>\n",
       "      <td>NaN</td>\n",
       "      <td>NaN</td>\n",
       "      <td>NaN</td>\n",
       "      <td>NaN</td>\n",
       "      <td>NaN</td>\n",
       "      <td>NaN</td>\n",
       "      <td>NaN</td>\n",
       "      <td>NaN</td>\n",
       "      <td>NaN</td>\n",
       "      <td>NaN</td>\n",
       "    </tr>\n",
       "    <tr>\n",
       "      <th>34</th>\n",
       "      <td>2023-12-15 07:17:00</td>\n",
       "      <td>Андреева Анастасия Андреевна</td>\n",
       "      <td>Право</td>\n",
       "      <td>318376</td>\n",
       "      <td>https://adindex.ru/news/right/2023/12/15/31837...</td>\n",
       "      <td>NaN</td>\n",
       "      <td>NaN</td>\n",
       "      <td>NaN</td>\n",
       "      <td>NaN</td>\n",
       "      <td>NaN</td>\n",
       "      <td>NaN</td>\n",
       "      <td>NaN</td>\n",
       "      <td>NaN</td>\n",
       "      <td>NaN</td>\n",
       "      <td>NaN</td>\n",
       "      <td>NaN</td>\n",
       "      <td>NaN</td>\n",
       "    </tr>\n",
       "    <tr>\n",
       "      <th>35</th>\n",
       "      <td>2023-12-14 19:06:00</td>\n",
       "      <td>Григорьева Людмила Григорьевна</td>\n",
       "      <td>Тенденции</td>\n",
       "      <td>318374</td>\n",
       "      <td>https://adindex.ru/news/tendencies/2023/12/14/...</td>\n",
       "      <td>NaN</td>\n",
       "      <td>NaN</td>\n",
       "      <td>NaN</td>\n",
       "      <td>NaN</td>\n",
       "      <td>NaN</td>\n",
       "      <td>NaN</td>\n",
       "      <td>NaN</td>\n",
       "      <td>NaN</td>\n",
       "      <td>NaN</td>\n",
       "      <td>NaN</td>\n",
       "      <td>NaN</td>\n",
       "      <td>NaN</td>\n",
       "    </tr>\n",
       "    <tr>\n",
       "      <th>36</th>\n",
       "      <td>2023-12-14 18:29:00</td>\n",
       "      <td>Петрова Мария Сергеевна</td>\n",
       "      <td>Право</td>\n",
       "      <td>318373</td>\n",
       "      <td>https://adindex.ru/news/right/2023/12/14/31837...</td>\n",
       "      <td>NaN</td>\n",
       "      <td>NaN</td>\n",
       "      <td>NaN</td>\n",
       "      <td>NaN</td>\n",
       "      <td>NaN</td>\n",
       "      <td>NaN</td>\n",
       "      <td>NaN</td>\n",
       "      <td>NaN</td>\n",
       "      <td>NaN</td>\n",
       "      <td>NaN</td>\n",
       "      <td>NaN</td>\n",
       "      <td>NaN</td>\n",
       "    </tr>\n",
       "    <tr>\n",
       "      <th>37</th>\n",
       "      <td>2023-12-14 17:31:00</td>\n",
       "      <td>Васильева Екатерина Васильевна</td>\n",
       "      <td>Креатив</td>\n",
       "      <td>318371</td>\n",
       "      <td>https://adindex.ru/news/creative/2023/12/14/31...</td>\n",
       "      <td>NaN</td>\n",
       "      <td>NaN</td>\n",
       "      <td>NaN</td>\n",
       "      <td>NaN</td>\n",
       "      <td>NaN</td>\n",
       "      <td>NaN</td>\n",
       "      <td>NaN</td>\n",
       "      <td>NaN</td>\n",
       "      <td>NaN</td>\n",
       "      <td>NaN</td>\n",
       "      <td>NaN</td>\n",
       "      <td>NaN</td>\n",
       "    </tr>\n",
       "    <tr>\n",
       "      <th>38</th>\n",
       "      <td>2023-12-14 16:22:00</td>\n",
       "      <td>Петрова Мария Сергеевна</td>\n",
       "      <td>Исследования</td>\n",
       "      <td>318368</td>\n",
       "      <td>https://adindex.ru/news/researches/2023/12/14/...</td>\n",
       "      <td>NaN</td>\n",
       "      <td>NaN</td>\n",
       "      <td>NaN</td>\n",
       "      <td>NaN</td>\n",
       "      <td>NaN</td>\n",
       "      <td>NaN</td>\n",
       "      <td>NaN</td>\n",
       "      <td>NaN</td>\n",
       "      <td>NaN</td>\n",
       "      <td>NaN</td>\n",
       "      <td>NaN</td>\n",
       "      <td>NaN</td>\n",
       "    </tr>\n",
       "    <tr>\n",
       "      <th>39</th>\n",
       "      <td>2023-12-14 15:31:00</td>\n",
       "      <td>Иванов Иван Иванович</td>\n",
       "      <td>Кадры</td>\n",
       "      <td>318366</td>\n",
       "      <td>https://adindex.ru/news/hr/2023/12/14/318366.p...</td>\n",
       "      <td>NaN</td>\n",
       "      <td>NaN</td>\n",
       "      <td>NaN</td>\n",
       "      <td>NaN</td>\n",
       "      <td>NaN</td>\n",
       "      <td>NaN</td>\n",
       "      <td>NaN</td>\n",
       "      <td>NaN</td>\n",
       "      <td>NaN</td>\n",
       "      <td>NaN</td>\n",
       "      <td>NaN</td>\n",
       "      <td>NaN</td>\n",
       "    </tr>\n",
       "    <tr>\n",
       "      <th>40</th>\n",
       "      <td>2023-12-14 13:46:00</td>\n",
       "      <td>Петрова Мария Сергеевна</td>\n",
       "      <td>Креатив</td>\n",
       "      <td>318361</td>\n",
       "      <td>https://adindex.ru/news/creative/2023/12/14/31...</td>\n",
       "      <td>NaN</td>\n",
       "      <td>NaN</td>\n",
       "      <td>NaN</td>\n",
       "      <td>NaN</td>\n",
       "      <td>NaN</td>\n",
       "      <td>NaN</td>\n",
       "      <td>NaN</td>\n",
       "      <td>NaN</td>\n",
       "      <td>NaN</td>\n",
       "      <td>NaN</td>\n",
       "      <td>NaN</td>\n",
       "      <td>NaN</td>\n",
       "    </tr>\n",
       "    <tr>\n",
       "      <th>41</th>\n",
       "      <td>2023-12-14 12:10:00</td>\n",
       "      <td>Андреева Анастасия Андреевна</td>\n",
       "      <td>Тенденции</td>\n",
       "      <td>318350</td>\n",
       "      <td>https://adindex.ru/news/tendencies/2023/12/14/...</td>\n",
       "      <td>NaN</td>\n",
       "      <td>NaN</td>\n",
       "      <td>NaN</td>\n",
       "      <td>NaN</td>\n",
       "      <td>NaN</td>\n",
       "      <td>NaN</td>\n",
       "      <td>NaN</td>\n",
       "      <td>NaN</td>\n",
       "      <td>NaN</td>\n",
       "      <td>NaN</td>\n",
       "      <td>NaN</td>\n",
       "      <td>NaN</td>\n",
       "    </tr>\n",
       "    <tr>\n",
       "      <th>42</th>\n",
       "      <td>2023-12-14 10:30:00</td>\n",
       "      <td>Иванов Иван Иванович</td>\n",
       "      <td>Маркетинг</td>\n",
       "      <td>318336</td>\n",
       "      <td>https://adindex.ru/news/marketing/2023/12/14/3...</td>\n",
       "      <td>NaN</td>\n",
       "      <td>NaN</td>\n",
       "      <td>NaN</td>\n",
       "      <td>NaN</td>\n",
       "      <td>NaN</td>\n",
       "      <td>NaN</td>\n",
       "      <td>NaN</td>\n",
       "      <td>NaN</td>\n",
       "      <td>NaN</td>\n",
       "      <td>NaN</td>\n",
       "      <td>NaN</td>\n",
       "      <td>NaN</td>\n",
       "    </tr>\n",
       "    <tr>\n",
       "      <th>43</th>\n",
       "      <td>2023-12-14 10:05:00</td>\n",
       "      <td>Сидоров Антон Владимирович</td>\n",
       "      <td>Право</td>\n",
       "      <td>318335</td>\n",
       "      <td>https://adindex.ru/news/right/2023/12/14/31833...</td>\n",
       "      <td>NaN</td>\n",
       "      <td>NaN</td>\n",
       "      <td>NaN</td>\n",
       "      <td>NaN</td>\n",
       "      <td>NaN</td>\n",
       "      <td>NaN</td>\n",
       "      <td>NaN</td>\n",
       "      <td>NaN</td>\n",
       "      <td>NaN</td>\n",
       "      <td>NaN</td>\n",
       "      <td>NaN</td>\n",
       "      <td>NaN</td>\n",
       "    </tr>\n",
       "    <tr>\n",
       "      <th>44</th>\n",
       "      <td>2023-12-14 09:01:00</td>\n",
       "      <td>Сидоров Антон Владимирович</td>\n",
       "      <td>Digital</td>\n",
       "      <td>318334</td>\n",
       "      <td>https://adindex.ru/news/digital/2023/12/14/318...</td>\n",
       "      <td>NaN</td>\n",
       "      <td>NaN</td>\n",
       "      <td>NaN</td>\n",
       "      <td>NaN</td>\n",
       "      <td>NaN</td>\n",
       "      <td>NaN</td>\n",
       "      <td>NaN</td>\n",
       "      <td>NaN</td>\n",
       "      <td>NaN</td>\n",
       "      <td>NaN</td>\n",
       "      <td>NaN</td>\n",
       "      <td>NaN</td>\n",
       "    </tr>\n",
       "    <tr>\n",
       "      <th>45</th>\n",
       "      <td>2023-12-14 08:34:00</td>\n",
       "      <td>Петрова Мария Сергеевна</td>\n",
       "      <td>Маркетинг</td>\n",
       "      <td>318333</td>\n",
       "      <td>https://adindex.ru/news/marketing/2023/12/14/3...</td>\n",
       "      <td>NaN</td>\n",
       "      <td>NaN</td>\n",
       "      <td>NaN</td>\n",
       "      <td>NaN</td>\n",
       "      <td>NaN</td>\n",
       "      <td>NaN</td>\n",
       "      <td>NaN</td>\n",
       "      <td>NaN</td>\n",
       "      <td>NaN</td>\n",
       "      <td>NaN</td>\n",
       "      <td>NaN</td>\n",
       "      <td>NaN</td>\n",
       "    </tr>\n",
       "    <tr>\n",
       "      <th>46</th>\n",
       "      <td>2023-12-14 07:59:00</td>\n",
       "      <td>Петрова Мария Сергеевна</td>\n",
       "      <td>Право</td>\n",
       "      <td>318331</td>\n",
       "      <td>https://adindex.ru/news/right/2023/12/14/31833...</td>\n",
       "      <td>NaN</td>\n",
       "      <td>NaN</td>\n",
       "      <td>NaN</td>\n",
       "      <td>NaN</td>\n",
       "      <td>NaN</td>\n",
       "      <td>NaN</td>\n",
       "      <td>NaN</td>\n",
       "      <td>NaN</td>\n",
       "      <td>NaN</td>\n",
       "      <td>NaN</td>\n",
       "      <td>NaN</td>\n",
       "      <td>NaN</td>\n",
       "    </tr>\n",
       "    <tr>\n",
       "      <th>47</th>\n",
       "      <td>2023-12-14 07:34:00</td>\n",
       "      <td>Андреева Анастасия Андреевна</td>\n",
       "      <td>Digital</td>\n",
       "      <td>318330</td>\n",
       "      <td>https://adindex.ru/news/digital/2023/12/14/318...</td>\n",
       "      <td>NaN</td>\n",
       "      <td>NaN</td>\n",
       "      <td>NaN</td>\n",
       "      <td>NaN</td>\n",
       "      <td>NaN</td>\n",
       "      <td>NaN</td>\n",
       "      <td>NaN</td>\n",
       "      <td>NaN</td>\n",
       "      <td>NaN</td>\n",
       "      <td>NaN</td>\n",
       "      <td>NaN</td>\n",
       "      <td>NaN</td>\n",
       "    </tr>\n",
       "    <tr>\n",
       "      <th>48</th>\n",
       "      <td>2023-12-14 07:28:00</td>\n",
       "      <td>Борисова Ольга Борисовна</td>\n",
       "      <td>Тенденции</td>\n",
       "      <td>318329</td>\n",
       "      <td>https://adindex.ru/news/tendencies/2023/12/14/...</td>\n",
       "      <td>NaN</td>\n",
       "      <td>NaN</td>\n",
       "      <td>NaN</td>\n",
       "      <td>NaN</td>\n",
       "      <td>NaN</td>\n",
       "      <td>NaN</td>\n",
       "      <td>NaN</td>\n",
       "      <td>NaN</td>\n",
       "      <td>NaN</td>\n",
       "      <td>NaN</td>\n",
       "      <td>NaN</td>\n",
       "      <td>NaN</td>\n",
       "    </tr>\n",
       "    <tr>\n",
       "      <th>49</th>\n",
       "      <td>2023-12-14 07:10:00</td>\n",
       "      <td>Сидоров Антон Владимирович</td>\n",
       "      <td>Право</td>\n",
       "      <td>318328</td>\n",
       "      <td>https://adindex.ru/news/right/2023/12/14/31832...</td>\n",
       "      <td>NaN</td>\n",
       "      <td>NaN</td>\n",
       "      <td>NaN</td>\n",
       "      <td>NaN</td>\n",
       "      <td>NaN</td>\n",
       "      <td>NaN</td>\n",
       "      <td>NaN</td>\n",
       "      <td>NaN</td>\n",
       "      <td>NaN</td>\n",
       "      <td>NaN</td>\n",
       "      <td>NaN</td>\n",
       "      <td>NaN</td>\n",
       "    </tr>\n",
       "    <tr>\n",
       "      <th>50</th>\n",
       "      <td>NaN</td>\n",
       "      <td>NaN</td>\n",
       "      <td>NaN</td>\n",
       "      <td>0</td>\n",
       "      <td>NaN</td>\n",
       "      <td>2023-12-18 19:03:00</td>\n",
       "      <td>Борисова Ольга Борисовна</td>\n",
       "      <td>Эккаунты</td>\n",
       "      <td>318949.0</td>\n",
       "      <td>https://adindex.ru/news/ek/2023/12/18/318949.p...</td>\n",
       "      <td>2.0</td>\n",
       "      <td>3.0</td>\n",
       "      <td>2.0</td>\n",
       "      <td>0.0</td>\n",
       "      <td>1.5</td>\n",
       "      <td>95.5</td>\n",
       "      <td>NaN</td>\n",
       "    </tr>\n",
       "  </tbody>\n",
       "</table>\n",
       "</div>"
      ],
      "text/plain": [
       "                   date                          author      post_tag  \\\n",
       "0   2023-12-18 19:03:00        Борисова Ольга Борисовна      Эккаунты   \n",
       "1   2023-12-18 18:51:00         Петрова Мария Сергеевна     Тенденции   \n",
       "2   2023-12-18 18:48:00            Иванов Иван Иванович     Маркетинг   \n",
       "3   2023-12-18 18:31:00        Борисова Ольга Борисовна        Дизайн   \n",
       "4   2023-12-18 17:51:00    Андреева Анастасия Андреевна       Креатив   \n",
       "5   2023-12-18 16:58:00  Васильева Екатерина Васильевна         Медиа   \n",
       "6   2023-12-18 14:32:00    Андреева Анастасия Андреевна       Digital   \n",
       "7   2023-12-18 13:51:00  Григорьева Людмила Григорьевна         Право   \n",
       "8   2023-12-18 13:03:00    Андреева Анастасия Андреевна  Пресс-релизы   \n",
       "9   2023-12-18 12:53:00            Иванов Иван Иванович  Исследования   \n",
       "10  2023-12-18 12:35:00    Данилова Светлана Викторовна  Исследования   \n",
       "11  2023-12-18 11:18:00      Сидоров Антон Владимирович         Медиа   \n",
       "12  2023-12-18 09:43:00        Борисова Ольга Борисовна       Креатив   \n",
       "13  2023-12-18 09:02:00    Андреева Анастасия Андреевна     Тенденции   \n",
       "14  2023-12-18 08:37:00       Егорова Надежда Андреевна     Тенденции   \n",
       "15  2023-12-18 07:49:00    Андреева Анастасия Андреевна         Право   \n",
       "16  2023-12-18 07:29:00    Андреева Анастасия Андреевна     Маркетинг   \n",
       "17  2023-12-18 07:18:00          Жукова Ирина Ильинична     Тенденции   \n",
       "18  2023-12-18 07:08:00       Егорова Надежда Андреевна         Кадры   \n",
       "19  2023-12-16 12:00:00         Петрова Мария Сергеевна     Маркетинг   \n",
       "20  2023-12-15 20:25:00      Сидоров Антон Владимирович         Медиа   \n",
       "21  2023-12-15 18:48:00       Егорова Надежда Андреевна     Тенденции   \n",
       "22  2023-12-15 16:10:00    Андреева Анастасия Андреевна         Кадры   \n",
       "23  2023-12-15 15:57:00    Андреева Анастасия Андреевна  Пресс-релизы   \n",
       "24  2023-12-15 13:20:00  Васильева Екатерина Васильевна         Кадры   \n",
       "25  2023-12-15 12:34:00  Григорьева Людмила Григорьевна         Медиа   \n",
       "26  2023-12-15 11:59:00        Борисова Ольга Борисовна  Пресс-релизы   \n",
       "27  2023-12-15 11:52:00      Сидоров Антон Владимирович         Медиа   \n",
       "28  2023-12-15 11:28:00  Григорьева Людмила Григорьевна  Пресс-релизы   \n",
       "29  2023-12-15 09:45:00      Сидоров Антон Владимирович       Digital   \n",
       "30  2023-12-15 08:32:00    Данилова Светлана Викторовна         Право   \n",
       "31  2023-12-15 07:54:00         Петрова Мария Сергеевна     Тенденции   \n",
       "32  2023-12-15 07:42:00      Сидоров Антон Владимирович     Маркетинг   \n",
       "33  2023-12-15 07:34:00          Жукова Ирина Ильинична       Digital   \n",
       "34  2023-12-15 07:17:00    Андреева Анастасия Андреевна         Право   \n",
       "35  2023-12-14 19:06:00  Григорьева Людмила Григорьевна     Тенденции   \n",
       "36  2023-12-14 18:29:00         Петрова Мария Сергеевна         Право   \n",
       "37  2023-12-14 17:31:00  Васильева Екатерина Васильевна       Креатив   \n",
       "38  2023-12-14 16:22:00         Петрова Мария Сергеевна  Исследования   \n",
       "39  2023-12-14 15:31:00            Иванов Иван Иванович         Кадры   \n",
       "40  2023-12-14 13:46:00         Петрова Мария Сергеевна       Креатив   \n",
       "41  2023-12-14 12:10:00    Андреева Анастасия Андреевна     Тенденции   \n",
       "42  2023-12-14 10:30:00            Иванов Иван Иванович     Маркетинг   \n",
       "43  2023-12-14 10:05:00      Сидоров Антон Владимирович         Право   \n",
       "44  2023-12-14 09:01:00      Сидоров Антон Владимирович       Digital   \n",
       "45  2023-12-14 08:34:00         Петрова Мария Сергеевна     Маркетинг   \n",
       "46  2023-12-14 07:59:00         Петрова Мария Сергеевна         Право   \n",
       "47  2023-12-14 07:34:00    Андреева Анастасия Андреевна       Digital   \n",
       "48  2023-12-14 07:28:00        Борисова Ольга Борисовна     Тенденции   \n",
       "49  2023-12-14 07:10:00      Сидоров Антон Владимирович         Право   \n",
       "50                  NaN                             NaN           NaN   \n",
       "\n",
       "    post_id                                               link  \\\n",
       "0    318949  https://adindex.ru/news/ek/2023/12/18/318949.p...   \n",
       "1    318946  https://adindex.ru/news/tendencies/2023/12/18/...   \n",
       "2    318945  https://adindex.ru/news/marketing/2023/12/18/3...   \n",
       "3    318944  https://adindex.ru/news/design/2023/12/18/3189...   \n",
       "4    318936  https://adindex.ru/news/creative/2023/12/18/31...   \n",
       "5    318923  https://adindex.ru/news/media/2023/12/18/31892...   \n",
       "6    318864  https://adindex.ru/news/digital/2023/12/18/318...   \n",
       "7    318862  https://adindex.ru/news/right/2023/12/18/31886...   \n",
       "8    318819  https://adindex.ru/news/releases/2023/12/18/31...   \n",
       "9    318849  https://adindex.ru/news/researches/2023/12/18/...   \n",
       "10   318842  https://adindex.ru/news/researches/2023/12/18/...   \n",
       "11   318818  https://adindex.ru/news/media/2023/12/18/31881...   \n",
       "12   318793  https://adindex.ru/news/creative/2023/12/18/31...   \n",
       "13   318791  https://adindex.ru/news/tendencies/2023/12/18/...   \n",
       "14   318790  https://adindex.ru/news/tendencies/2023/12/18/...   \n",
       "15   318789  https://adindex.ru/news/right/2023/12/18/31878...   \n",
       "16   318788  https://adindex.ru/news/marketing/2023/12/18/3...   \n",
       "17   318787  https://adindex.ru/news/tendencies/2023/12/18/...   \n",
       "18   318786  https://adindex.ru/news/hr/2023/12/18/318786.p...   \n",
       "19   318768  https://adindex.ru/news/marketing/2023/12/15/3...   \n",
       "20   318741  https://adindex.ru/news/media/2023/12/15/31874...   \n",
       "21   318766  https://adindex.ru/news/tendencies/2023/12/15/...   \n",
       "22   318579  https://adindex.ru/news/hr/2023/12/15/318579.p...   \n",
       "23   318575  https://adindex.ru/news/releases/2023/12/15/31...   \n",
       "24   318545  https://adindex.ru/news/hr/2023/12/15/318545.p...   \n",
       "25   318486  https://adindex.ru/news/media/2023/12/15/31848...   \n",
       "26   318413  https://adindex.ru/news/releases/2023/12/15/31...   \n",
       "27   318437  https://adindex.ru/news/media/2023/12/15/31843...   \n",
       "28   318383  https://adindex.ru/news/releases/2023/12/15/31...   \n",
       "29   318382  https://adindex.ru/news/digital/2023/12/15/318...   \n",
       "30   318381  https://adindex.ru/news/right/2023/12/15/31838...   \n",
       "31   318379  https://adindex.ru/news/tendencies/2023/12/15/...   \n",
       "32   318378  https://adindex.ru/news/marketing/2023/12/15/3...   \n",
       "33   318377  https://adindex.ru/news/digital/2023/12/15/318...   \n",
       "34   318376  https://adindex.ru/news/right/2023/12/15/31837...   \n",
       "35   318374  https://adindex.ru/news/tendencies/2023/12/14/...   \n",
       "36   318373  https://adindex.ru/news/right/2023/12/14/31837...   \n",
       "37   318371  https://adindex.ru/news/creative/2023/12/14/31...   \n",
       "38   318368  https://adindex.ru/news/researches/2023/12/14/...   \n",
       "39   318366  https://adindex.ru/news/hr/2023/12/14/318366.p...   \n",
       "40   318361  https://adindex.ru/news/creative/2023/12/14/31...   \n",
       "41   318350  https://adindex.ru/news/tendencies/2023/12/14/...   \n",
       "42   318336  https://adindex.ru/news/marketing/2023/12/14/3...   \n",
       "43   318335  https://adindex.ru/news/right/2023/12/14/31833...   \n",
       "44   318334  https://adindex.ru/news/digital/2023/12/14/318...   \n",
       "45   318333  https://adindex.ru/news/marketing/2023/12/14/3...   \n",
       "46   318331  https://adindex.ru/news/right/2023/12/14/31833...   \n",
       "47   318330  https://adindex.ru/news/digital/2023/12/14/318...   \n",
       "48   318329  https://adindex.ru/news/tendencies/2023/12/14/...   \n",
       "49   318328  https://adindex.ru/news/right/2023/12/14/31832...   \n",
       "50        0                                                NaN   \n",
       "\n",
       "            datemetrics             authormetrics post_tagmetrics  \\\n",
       "0                   NaN                       NaN             NaN   \n",
       "1                   NaN                       NaN             NaN   \n",
       "2                   NaN                       NaN             NaN   \n",
       "3                   NaN                       NaN             NaN   \n",
       "4                   NaN                       NaN             NaN   \n",
       "5                   NaN                       NaN             NaN   \n",
       "6                   NaN                       NaN             NaN   \n",
       "7                   NaN                       NaN             NaN   \n",
       "8                   NaN                       NaN             NaN   \n",
       "9                   NaN                       NaN             NaN   \n",
       "10                  NaN                       NaN             NaN   \n",
       "11                  NaN                       NaN             NaN   \n",
       "12                  NaN                       NaN             NaN   \n",
       "13                  NaN                       NaN             NaN   \n",
       "14                  NaN                       NaN             NaN   \n",
       "15                  NaN                       NaN             NaN   \n",
       "16                  NaN                       NaN             NaN   \n",
       "17                  NaN                       NaN             NaN   \n",
       "18                  NaN                       NaN             NaN   \n",
       "19                  NaN                       NaN             NaN   \n",
       "20                  NaN                       NaN             NaN   \n",
       "21                  NaN                       NaN             NaN   \n",
       "22                  NaN                       NaN             NaN   \n",
       "23                  NaN                       NaN             NaN   \n",
       "24                  NaN                       NaN             NaN   \n",
       "25                  NaN                       NaN             NaN   \n",
       "26                  NaN                       NaN             NaN   \n",
       "27                  NaN                       NaN             NaN   \n",
       "28                  NaN                       NaN             NaN   \n",
       "29                  NaN                       NaN             NaN   \n",
       "30                  NaN                       NaN             NaN   \n",
       "31                  NaN                       NaN             NaN   \n",
       "32                  NaN                       NaN             NaN   \n",
       "33                  NaN                       NaN             NaN   \n",
       "34                  NaN                       NaN             NaN   \n",
       "35                  NaN                       NaN             NaN   \n",
       "36                  NaN                       NaN             NaN   \n",
       "37                  NaN                       NaN             NaN   \n",
       "38                  NaN                       NaN             NaN   \n",
       "39                  NaN                       NaN             NaN   \n",
       "40                  NaN                       NaN             NaN   \n",
       "41                  NaN                       NaN             NaN   \n",
       "42                  NaN                       NaN             NaN   \n",
       "43                  NaN                       NaN             NaN   \n",
       "44                  NaN                       NaN             NaN   \n",
       "45                  NaN                       NaN             NaN   \n",
       "46                  NaN                       NaN             NaN   \n",
       "47                  NaN                       NaN             NaN   \n",
       "48                  NaN                       NaN             NaN   \n",
       "49                  NaN                       NaN             NaN   \n",
       "50  2023-12-18 19:03:00  Борисова Ольга Борисовна        Эккаунты   \n",
       "\n",
       "    post_idmetrics                                        linkmetrics  \\\n",
       "0              NaN                                                NaN   \n",
       "1              NaN                                                NaN   \n",
       "2              NaN                                                NaN   \n",
       "3              NaN                                                NaN   \n",
       "4              NaN                                                NaN   \n",
       "5              NaN                                                NaN   \n",
       "6              NaN                                                NaN   \n",
       "7              NaN                                                NaN   \n",
       "8              NaN                                                NaN   \n",
       "9              NaN                                                NaN   \n",
       "10             NaN                                                NaN   \n",
       "11             NaN                                                NaN   \n",
       "12             NaN                                                NaN   \n",
       "13             NaN                                                NaN   \n",
       "14             NaN                                                NaN   \n",
       "15             NaN                                                NaN   \n",
       "16             NaN                                                NaN   \n",
       "17             NaN                                                NaN   \n",
       "18             NaN                                                NaN   \n",
       "19             NaN                                                NaN   \n",
       "20             NaN                                                NaN   \n",
       "21             NaN                                                NaN   \n",
       "22             NaN                                                NaN   \n",
       "23             NaN                                                NaN   \n",
       "24             NaN                                                NaN   \n",
       "25             NaN                                                NaN   \n",
       "26             NaN                                                NaN   \n",
       "27             NaN                                                NaN   \n",
       "28             NaN                                                NaN   \n",
       "29             NaN                                                NaN   \n",
       "30             NaN                                                NaN   \n",
       "31             NaN                                                NaN   \n",
       "32             NaN                                                NaN   \n",
       "33             NaN                                                NaN   \n",
       "34             NaN                                                NaN   \n",
       "35             NaN                                                NaN   \n",
       "36             NaN                                                NaN   \n",
       "37             NaN                                                NaN   \n",
       "38             NaN                                                NaN   \n",
       "39             NaN                                                NaN   \n",
       "40             NaN                                                NaN   \n",
       "41             NaN                                                NaN   \n",
       "42             NaN                                                NaN   \n",
       "43             NaN                                                NaN   \n",
       "44             NaN                                                NaN   \n",
       "45             NaN                                                NaN   \n",
       "46             NaN                                                NaN   \n",
       "47             NaN                                                NaN   \n",
       "48             NaN                                                NaN   \n",
       "49             NaN                                                NaN   \n",
       "50        318949.0  https://adindex.ru/news/ek/2023/12/18/318949.p...   \n",
       "\n",
       "    Посетители  Читатели  Уникальные пользователи  % недочитываемости  \\\n",
       "0          NaN       NaN                      NaN                 NaN   \n",
       "1          NaN       NaN                      NaN                 NaN   \n",
       "2          NaN       NaN                      NaN                 NaN   \n",
       "3          NaN       NaN                      NaN                 NaN   \n",
       "4          NaN       NaN                      NaN                 NaN   \n",
       "5          NaN       NaN                      NaN                 NaN   \n",
       "6          NaN       NaN                      NaN                 NaN   \n",
       "7          NaN       NaN                      NaN                 NaN   \n",
       "8          NaN       NaN                      NaN                 NaN   \n",
       "9          NaN       NaN                      NaN                 NaN   \n",
       "10         NaN       NaN                      NaN                 NaN   \n",
       "11         NaN       NaN                      NaN                 NaN   \n",
       "12         NaN       NaN                      NaN                 NaN   \n",
       "13         NaN       NaN                      NaN                 NaN   \n",
       "14         NaN       NaN                      NaN                 NaN   \n",
       "15         NaN       NaN                      NaN                 NaN   \n",
       "16         NaN       NaN                      NaN                 NaN   \n",
       "17         NaN       NaN                      NaN                 NaN   \n",
       "18         NaN       NaN                      NaN                 NaN   \n",
       "19         NaN       NaN                      NaN                 NaN   \n",
       "20         NaN       NaN                      NaN                 NaN   \n",
       "21         NaN       NaN                      NaN                 NaN   \n",
       "22         NaN       NaN                      NaN                 NaN   \n",
       "23         NaN       NaN                      NaN                 NaN   \n",
       "24         NaN       NaN                      NaN                 NaN   \n",
       "25         NaN       NaN                      NaN                 NaN   \n",
       "26         NaN       NaN                      NaN                 NaN   \n",
       "27         NaN       NaN                      NaN                 NaN   \n",
       "28         NaN       NaN                      NaN                 NaN   \n",
       "29         NaN       NaN                      NaN                 NaN   \n",
       "30         NaN       NaN                      NaN                 NaN   \n",
       "31         NaN       NaN                      NaN                 NaN   \n",
       "32         NaN       NaN                      NaN                 NaN   \n",
       "33         NaN       NaN                      NaN                 NaN   \n",
       "34         NaN       NaN                      NaN                 NaN   \n",
       "35         NaN       NaN                      NaN                 NaN   \n",
       "36         NaN       NaN                      NaN                 NaN   \n",
       "37         NaN       NaN                      NaN                 NaN   \n",
       "38         NaN       NaN                      NaN                 NaN   \n",
       "39         NaN       NaN                      NaN                 NaN   \n",
       "40         NaN       NaN                      NaN                 NaN   \n",
       "41         NaN       NaN                      NaN                 NaN   \n",
       "42         NaN       NaN                      NaN                 NaN   \n",
       "43         NaN       NaN                      NaN                 NaN   \n",
       "44         NaN       NaN                      NaN                 NaN   \n",
       "45         NaN       NaN                      NaN                 NaN   \n",
       "46         NaN       NaN                      NaN                 NaN   \n",
       "47         NaN       NaN                      NaN                 NaN   \n",
       "48         NaN       NaN                      NaN                 NaN   \n",
       "49         NaN       NaN                      NaN                 NaN   \n",
       "50         2.0       3.0                      2.0                 0.0   \n",
       "\n",
       "    Глубина просмотра  Ср. время на сайте (сек)   0  \n",
       "0                 NaN                       NaN NaN  \n",
       "1                 NaN                       NaN NaN  \n",
       "2                 NaN                       NaN NaN  \n",
       "3                 NaN                       NaN NaN  \n",
       "4                 NaN                       NaN NaN  \n",
       "5                 NaN                       NaN NaN  \n",
       "6                 NaN                       NaN NaN  \n",
       "7                 NaN                       NaN NaN  \n",
       "8                 NaN                       NaN NaN  \n",
       "9                 NaN                       NaN NaN  \n",
       "10                NaN                       NaN NaN  \n",
       "11                NaN                       NaN NaN  \n",
       "12                NaN                       NaN NaN  \n",
       "13                NaN                       NaN NaN  \n",
       "14                NaN                       NaN NaN  \n",
       "15                NaN                       NaN NaN  \n",
       "16                NaN                       NaN NaN  \n",
       "17                NaN                       NaN NaN  \n",
       "18                NaN                       NaN NaN  \n",
       "19                NaN                       NaN NaN  \n",
       "20                NaN                       NaN NaN  \n",
       "21                NaN                       NaN NaN  \n",
       "22                NaN                       NaN NaN  \n",
       "23                NaN                       NaN NaN  \n",
       "24                NaN                       NaN NaN  \n",
       "25                NaN                       NaN NaN  \n",
       "26                NaN                       NaN NaN  \n",
       "27                NaN                       NaN NaN  \n",
       "28                NaN                       NaN NaN  \n",
       "29                NaN                       NaN NaN  \n",
       "30                NaN                       NaN NaN  \n",
       "31                NaN                       NaN NaN  \n",
       "32                NaN                       NaN NaN  \n",
       "33                NaN                       NaN NaN  \n",
       "34                NaN                       NaN NaN  \n",
       "35                NaN                       NaN NaN  \n",
       "36                NaN                       NaN NaN  \n",
       "37                NaN                       NaN NaN  \n",
       "38                NaN                       NaN NaN  \n",
       "39                NaN                       NaN NaN  \n",
       "40                NaN                       NaN NaN  \n",
       "41                NaN                       NaN NaN  \n",
       "42                NaN                       NaN NaN  \n",
       "43                NaN                       NaN NaN  \n",
       "44                NaN                       NaN NaN  \n",
       "45                NaN                       NaN NaN  \n",
       "46                NaN                       NaN NaN  \n",
       "47                NaN                       NaN NaN  \n",
       "48                NaN                       NaN NaN  \n",
       "49                NaN                       NaN NaN  \n",
       "50                1.5                      95.5 NaN  "
      ]
     },
     "execution_count": 31,
     "metadata": {},
     "output_type": "execute_result"
    }
   ],
   "source": [
    "df_left.join(df_right, 'post_id', 'left', rsuffix='metrics')"
   ]
  },
  {
   "cell_type": "code",
   "execution_count": 28,
   "metadata": {},
   "outputs": [
    {
     "data": {
      "text/html": [
       "<div>\n",
       "<style scoped>\n",
       "    .dataframe tbody tr th:only-of-type {\n",
       "        vertical-align: middle;\n",
       "    }\n",
       "\n",
       "    .dataframe tbody tr th {\n",
       "        vertical-align: top;\n",
       "    }\n",
       "\n",
       "    .dataframe thead th {\n",
       "        text-align: right;\n",
       "    }\n",
       "</style>\n",
       "<table border=\"1\" class=\"dataframe\">\n",
       "  <thead>\n",
       "    <tr style=\"text-align: right;\">\n",
       "      <th></th>\n",
       "      <th>date</th>\n",
       "      <th>author</th>\n",
       "      <th>post_tag</th>\n",
       "      <th>post_id</th>\n",
       "      <th>link</th>\n",
       "      <th>Посетители</th>\n",
       "      <th>Читатели</th>\n",
       "      <th>Уникальные пользователи</th>\n",
       "      <th>% недочитываемости</th>\n",
       "      <th>Глубина просмотра</th>\n",
       "      <th>Ср. время на сайте (сек)</th>\n",
       "      <th>0</th>\n",
       "    </tr>\n",
       "  </thead>\n",
       "  <tbody>\n",
       "    <tr>\n",
       "      <th>0</th>\n",
       "      <td>2023-12-18 19:03:00</td>\n",
       "      <td>Борисова Ольга Борисовна</td>\n",
       "      <td>Эккаунты</td>\n",
       "      <td>318949</td>\n",
       "      <td>https://adindex.ru/news/ek/2023/12/18/318949.p...</td>\n",
       "      <td>NaN</td>\n",
       "      <td>NaN</td>\n",
       "      <td>NaN</td>\n",
       "      <td>NaN</td>\n",
       "      <td>NaN</td>\n",
       "      <td>NaN</td>\n",
       "      <td>NaN</td>\n",
       "    </tr>\n",
       "    <tr>\n",
       "      <th>1</th>\n",
       "      <td>2023-12-18 18:51:00</td>\n",
       "      <td>Петрова Мария Сергеевна</td>\n",
       "      <td>Тенденции</td>\n",
       "      <td>318946</td>\n",
       "      <td>https://adindex.ru/news/tendencies/2023/12/18/...</td>\n",
       "      <td>NaN</td>\n",
       "      <td>NaN</td>\n",
       "      <td>NaN</td>\n",
       "      <td>NaN</td>\n",
       "      <td>NaN</td>\n",
       "      <td>NaN</td>\n",
       "      <td>NaN</td>\n",
       "    </tr>\n",
       "    <tr>\n",
       "      <th>2</th>\n",
       "      <td>2023-12-18 18:48:00</td>\n",
       "      <td>Иванов Иван Иванович</td>\n",
       "      <td>Маркетинг</td>\n",
       "      <td>318945</td>\n",
       "      <td>https://adindex.ru/news/marketing/2023/12/18/3...</td>\n",
       "      <td>NaN</td>\n",
       "      <td>NaN</td>\n",
       "      <td>NaN</td>\n",
       "      <td>NaN</td>\n",
       "      <td>NaN</td>\n",
       "      <td>NaN</td>\n",
       "      <td>NaN</td>\n",
       "    </tr>\n",
       "    <tr>\n",
       "      <th>3</th>\n",
       "      <td>2023-12-18 18:31:00</td>\n",
       "      <td>Борисова Ольга Борисовна</td>\n",
       "      <td>Дизайн</td>\n",
       "      <td>318944</td>\n",
       "      <td>https://adindex.ru/news/design/2023/12/18/3189...</td>\n",
       "      <td>NaN</td>\n",
       "      <td>NaN</td>\n",
       "      <td>NaN</td>\n",
       "      <td>NaN</td>\n",
       "      <td>NaN</td>\n",
       "      <td>NaN</td>\n",
       "      <td>NaN</td>\n",
       "    </tr>\n",
       "    <tr>\n",
       "      <th>4</th>\n",
       "      <td>2023-12-18 17:51:00</td>\n",
       "      <td>Андреева Анастасия Андреевна</td>\n",
       "      <td>Креатив</td>\n",
       "      <td>318936</td>\n",
       "      <td>https://adindex.ru/news/creative/2023/12/18/31...</td>\n",
       "      <td>NaN</td>\n",
       "      <td>NaN</td>\n",
       "      <td>NaN</td>\n",
       "      <td>NaN</td>\n",
       "      <td>NaN</td>\n",
       "      <td>NaN</td>\n",
       "      <td>NaN</td>\n",
       "    </tr>\n",
       "    <tr>\n",
       "      <th>...</th>\n",
       "      <td>...</td>\n",
       "      <td>...</td>\n",
       "      <td>...</td>\n",
       "      <td>...</td>\n",
       "      <td>...</td>\n",
       "      <td>...</td>\n",
       "      <td>...</td>\n",
       "      <td>...</td>\n",
       "      <td>...</td>\n",
       "      <td>...</td>\n",
       "      <td>...</td>\n",
       "      <td>...</td>\n",
       "    </tr>\n",
       "    <tr>\n",
       "      <th>90</th>\n",
       "      <td>2023-12-14 08:34:00</td>\n",
       "      <td>Петрова Мария Сергеевна</td>\n",
       "      <td>Маркетинг</td>\n",
       "      <td>318333</td>\n",
       "      <td>https://adindex.ru/news/marketing/2023/12/14/3...</td>\n",
       "      <td>10.0</td>\n",
       "      <td>45.0</td>\n",
       "      <td>9.0</td>\n",
       "      <td>0.0</td>\n",
       "      <td>1.500000</td>\n",
       "      <td>31.625000</td>\n",
       "      <td>NaN</td>\n",
       "    </tr>\n",
       "    <tr>\n",
       "      <th>91</th>\n",
       "      <td>2023-12-14 07:59:00</td>\n",
       "      <td>Петрова Мария Сергеевна</td>\n",
       "      <td>Право</td>\n",
       "      <td>318331</td>\n",
       "      <td>https://adindex.ru/news/right/2023/12/14/31833...</td>\n",
       "      <td>48.0</td>\n",
       "      <td>64.0</td>\n",
       "      <td>47.0</td>\n",
       "      <td>0.0</td>\n",
       "      <td>4.033333</td>\n",
       "      <td>247.477778</td>\n",
       "      <td>NaN</td>\n",
       "    </tr>\n",
       "    <tr>\n",
       "      <th>92</th>\n",
       "      <td>2023-12-14 07:34:00</td>\n",
       "      <td>Андреева Анастасия Андреевна</td>\n",
       "      <td>Digital</td>\n",
       "      <td>318330</td>\n",
       "      <td>https://adindex.ru/news/digital/2023/12/14/318...</td>\n",
       "      <td>7.0</td>\n",
       "      <td>68.0</td>\n",
       "      <td>7.0</td>\n",
       "      <td>0.0</td>\n",
       "      <td>5.500000</td>\n",
       "      <td>1069.833333</td>\n",
       "      <td>NaN</td>\n",
       "    </tr>\n",
       "    <tr>\n",
       "      <th>93</th>\n",
       "      <td>2023-12-14 07:28:00</td>\n",
       "      <td>Борисова Ольга Борисовна</td>\n",
       "      <td>Тенденции</td>\n",
       "      <td>318329</td>\n",
       "      <td>https://adindex.ru/news/tendencies/2023/12/14/...</td>\n",
       "      <td>1.0</td>\n",
       "      <td>14.0</td>\n",
       "      <td>1.0</td>\n",
       "      <td>0.0</td>\n",
       "      <td>14.000000</td>\n",
       "      <td>606.000000</td>\n",
       "      <td>NaN</td>\n",
       "    </tr>\n",
       "    <tr>\n",
       "      <th>94</th>\n",
       "      <td>2023-12-14 07:10:00</td>\n",
       "      <td>Сидоров Антон Владимирович</td>\n",
       "      <td>Право</td>\n",
       "      <td>318328</td>\n",
       "      <td>https://adindex.ru/news/right/2023/12/14/31832...</td>\n",
       "      <td>4.0</td>\n",
       "      <td>18.0</td>\n",
       "      <td>4.0</td>\n",
       "      <td>0.0</td>\n",
       "      <td>2.000000</td>\n",
       "      <td>63.000000</td>\n",
       "      <td>NaN</td>\n",
       "    </tr>\n",
       "  </tbody>\n",
       "</table>\n",
       "<p>95 rows × 12 columns</p>\n",
       "</div>"
      ],
      "text/plain": [
       "                   date                        author   post_tag  post_id  \\\n",
       "0   2023-12-18 19:03:00      Борисова Ольга Борисовна   Эккаунты   318949   \n",
       "1   2023-12-18 18:51:00       Петрова Мария Сергеевна  Тенденции   318946   \n",
       "2   2023-12-18 18:48:00          Иванов Иван Иванович  Маркетинг   318945   \n",
       "3   2023-12-18 18:31:00      Борисова Ольга Борисовна     Дизайн   318944   \n",
       "4   2023-12-18 17:51:00  Андреева Анастасия Андреевна    Креатив   318936   \n",
       "..                  ...                           ...        ...      ...   \n",
       "90  2023-12-14 08:34:00       Петрова Мария Сергеевна  Маркетинг   318333   \n",
       "91  2023-12-14 07:59:00       Петрова Мария Сергеевна      Право   318331   \n",
       "92  2023-12-14 07:34:00  Андреева Анастасия Андреевна    Digital   318330   \n",
       "93  2023-12-14 07:28:00      Борисова Ольга Борисовна  Тенденции   318329   \n",
       "94  2023-12-14 07:10:00    Сидоров Антон Владимирович      Право   318328   \n",
       "\n",
       "                                                 link  Посетители  Читатели  \\\n",
       "0   https://adindex.ru/news/ek/2023/12/18/318949.p...         NaN       NaN   \n",
       "1   https://adindex.ru/news/tendencies/2023/12/18/...         NaN       NaN   \n",
       "2   https://adindex.ru/news/marketing/2023/12/18/3...         NaN       NaN   \n",
       "3   https://adindex.ru/news/design/2023/12/18/3189...         NaN       NaN   \n",
       "4   https://adindex.ru/news/creative/2023/12/18/31...         NaN       NaN   \n",
       "..                                                ...         ...       ...   \n",
       "90  https://adindex.ru/news/marketing/2023/12/14/3...        10.0      45.0   \n",
       "91  https://adindex.ru/news/right/2023/12/14/31833...        48.0      64.0   \n",
       "92  https://adindex.ru/news/digital/2023/12/14/318...         7.0      68.0   \n",
       "93  https://adindex.ru/news/tendencies/2023/12/14/...         1.0      14.0   \n",
       "94  https://adindex.ru/news/right/2023/12/14/31832...         4.0      18.0   \n",
       "\n",
       "    Уникальные пользователи  % недочитываемости  Глубина просмотра  \\\n",
       "0                       NaN                 NaN                NaN   \n",
       "1                       NaN                 NaN                NaN   \n",
       "2                       NaN                 NaN                NaN   \n",
       "3                       NaN                 NaN                NaN   \n",
       "4                       NaN                 NaN                NaN   \n",
       "..                      ...                 ...                ...   \n",
       "90                      9.0                 0.0           1.500000   \n",
       "91                     47.0                 0.0           4.033333   \n",
       "92                      7.0                 0.0           5.500000   \n",
       "93                      1.0                 0.0          14.000000   \n",
       "94                      4.0                 0.0           2.000000   \n",
       "\n",
       "    Ср. время на сайте (сек)   0  \n",
       "0                        NaN NaN  \n",
       "1                        NaN NaN  \n",
       "2                        NaN NaN  \n",
       "3                        NaN NaN  \n",
       "4                        NaN NaN  \n",
       "..                       ...  ..  \n",
       "90                 31.625000 NaN  \n",
       "91                247.477778 NaN  \n",
       "92               1069.833333 NaN  \n",
       "93                606.000000 NaN  \n",
       "94                 63.000000 NaN  \n",
       "\n",
       "[95 rows x 12 columns]"
      ]
     },
     "execution_count": 28,
     "metadata": {},
     "output_type": "execute_result"
    }
   ],
   "source": [
    "pd.concat([df_left, df_right], join='outer', ignore_index=True)"
   ]
  }
 ],
 "metadata": {
  "kernelspec": {
   "display_name": "Python 3",
   "language": "python",
   "name": "python3"
  },
  "language_info": {
   "codemirror_mode": {
    "name": "ipython",
    "version": 3
   },
   "file_extension": ".py",
   "mimetype": "text/x-python",
   "name": "python",
   "nbconvert_exporter": "python",
   "pygments_lexer": "ipython3",
   "version": "3.10.8"
  }
 },
 "nbformat": 4,
 "nbformat_minor": 2
}
